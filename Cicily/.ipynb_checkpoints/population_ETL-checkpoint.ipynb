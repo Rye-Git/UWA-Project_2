{
 "cells": [
  {
   "cell_type": "code",
   "execution_count": null,
   "metadata": {
    "ExecuteTime": {
     "start_time": "2021-01-13T08:11:33.232Z"
    }
   },
   "outputs": [],
   "source": [
    "import pandas as pd\n",
    "import pymongo\n",
    "# import json\n",
    "# !pip install bson\n"
   ]
  },
  {
   "cell_type": "markdown",
   "metadata": {},
   "source": [
    "### Extract and Clean Data"
   ]
  },
  {
   "cell_type": "markdown",
   "metadata": {},
   "source": [
    "#### Population of Cities"
   ]
  },
  {
   "cell_type": "code",
   "execution_count": null,
   "metadata": {
    "ExecuteTime": {
     "end_time": "2021-01-13T07:59:20.282631Z",
     "start_time": "2021-01-13T07:59:09.675Z"
    }
   },
   "outputs": [],
   "source": [
    "# url to scrape for the city population\n",
    "cities_url =\"https://worldpopulationreview.com/world-cities\"\n",
    "# Use panda's `read_html` to parse the url\n",
    "df_cityPop = pd.read_html(cities_url, header=0)[0]\n",
    "# rename the columns\n",
    "df_cityPop.rename(columns={'Name':'City', \n",
    "                           '2020 Population':'2020',\n",
    "                           '2019 Population':'2019'\n",
    "                          },inplace=True)\n",
    "# Replace null values with 0\n",
    "df_cityPop.fillna(0,inplace = True)\n",
    "df_cityPop"
   ]
  },
  {
   "cell_type": "markdown",
   "metadata": {},
   "source": [
    "#### Live Population Data Scraped"
   ]
  },
  {
   "cell_type": "code",
   "execution_count": null,
   "metadata": {
    "ExecuteTime": {
     "end_time": "2021-01-13T07:59:20.283636Z",
     "start_time": "2021-01-13T07:59:09.677Z"
    }
   },
   "outputs": [],
   "source": [
    "# url to scrape for the Live population data\n",
    "countries_url =\"https://worldpopulationreview.com\"\n",
    "# Use panda's `read_html` to parse the url\n",
    "df_LatestPop = pd.read_html(countries_url, header=0)[0]\n",
    "# eliminating unnessasary data\n",
    "df_LatestPop = df_LatestPop.iloc[:,[1,2,5,6,7,8]]\n",
    "# rename the columns\n",
    "df_LatestPop.rename(columns={'2019 Density':'2019 Density_PerSqKm', \n",
    "                             'Growth Rate':'Growth_Percentage', \n",
    "                             'World %':'World_Percentage'\n",
    "                            },inplace=True)\n",
    "df_LatestPop['2019 Density_PerSqKm'] = df_LatestPop['2019 Density_PerSqKm'].str.rsplit('/', 0).str.get(0)\n",
    "df_LatestPop['Growth_Percentage'] = df_LatestPop['Growth_Percentage'].str.rsplit('%', 0).str.get(0)\n",
    "df_LatestPop['World_Percentage'] = df_LatestPop['World_Percentage'].str.rsplit('%', 0).str.get(0)\n",
    "df_LatestPop"
   ]
  },
  {
   "cell_type": "markdown",
   "metadata": {},
   "source": [
    "#### Population of Countries"
   ]
  },
  {
   "cell_type": "code",
   "execution_count": null,
   "metadata": {
    "ExecuteTime": {
     "end_time": "2021-01-13T07:59:20.284631Z",
     "start_time": "2021-01-13T07:59:09.680Z"
    }
   },
   "outputs": [],
   "source": [
    "# read Countries population data from csv(source:https://worldpopulationreview.com) into dataframe\n",
    "df_countries = pd.read_csv('static/data/csvData.csv')\n",
    "# eliminating unnessasary data\n",
    "df_countries = df_countries.iloc[:,[1,2,3,6,7,8,9]]\n",
    "# rename the columns\n",
    "df_countries.rename(columns={'name':'Country',\n",
    "                             'pop2020':'2020',\n",
    "                             'pop2019':'2019',\n",
    "                             'pop2015':'2015',\n",
    "                             'pop2010':'2010',\n",
    "                             'pop2000':'2000',\n",
    "                             'pop1990':'1990' \n",
    "                            },inplace=True)\n",
    "df_countries"
   ]
  },
  {
   "cell_type": "code",
   "execution_count": null,
   "metadata": {
    "ExecuteTime": {
     "end_time": "2021-01-13T07:59:20.285629Z",
     "start_time": "2021-01-13T07:59:09.682Z"
    }
   },
   "outputs": [],
   "source": [
    "# Another Dataset\n",
    "# Cleaning csv Population data from https://datacatalog.worldbank.org\n",
    "# reading csv's into dataframes\n",
    "df_population = pd.read_csv('static/data/population.csv');\n",
    "\n",
    "# Creating a list of required row indexes\n",
    "row_list = []\n",
    "for x in range(217):\n",
    "    row_list.append(x)\n",
    "row_list.append(263)\n",
    "\n",
    "# Function to Clean each dataframes\n",
    "def clean_dataFrames(df):\n",
    "    # eliminating unnecessary data\n",
    "    df = df.iloc[row_list, [2,11,12,13]]\n",
    "    # renaming columns\n",
    "    df = df.rename(columns = lambda x : (str(x)[:-9]))\n",
    "    df.rename(columns= {df.columns[0]: \"Country\"}, inplace = True)\n",
    "    return df\n",
    "\n",
    "# Calling clean_dataFrames function passing the dataframe as parameter\n",
    "df_population = clean_dataFrames(df_population)\n",
    "\n",
    "# Checking for countries that has records in df_countries, but not in df_population\n",
    "mismatch_df = df_countries[~df_countries.Country.isin(df_population.Country)]\n",
    "\n",
    "# Renaming the Countries to match the dataframes if Country name is df_countries a substring of \n",
    "# Country name in df_population\n",
    "for country in mismatch_df['Country']: \n",
    "    df_population[\"Country\"].loc[df_population['Country'].str.contains(country)] = country\n",
    "\n",
    "# Changing the Other Country names in df_population to match with df_countries\n",
    "df_population[\"Country\"].loc[df_population.Country == \"Congo, Dem. Rep.\"] = \"DR Congo\"\n",
    "df_population[\"Country\"].loc[df_population.Country == \"Congo, Rep.\"] = \"Republic of the Congo\"\n",
    "df_population[\"Country\"].loc[df_population.Country == \"Korea, Rep.\"] = \"South Korea\"\n",
    "df_population[\"Country\"].loc[df_population.Country == \"Korea, Dem. People’s Rep.\"] = \"North Korea\"\n",
    "df_population[\"Country\"].loc[df_population.Country == \"Cote d'Ivoire\"] = \"Ivory Coast\"\n",
    "df_population[\"Country\"].loc[df_population.Country == \"Lao PDR\"] = \"Laos\"\n",
    "df_population[\"Country\"].loc[df_population.Country == \"Macao SAR, China\"] = \"Macau\"\n",
    "df_population[\"Country\"].loc[df_population.Country == \"Kyrgyz Republic\"] = \"Kyrgyzstan\"\n",
    "df_population[\"Country\"].loc[df_population.Country == \"Slovak Republic\"] = \"Slovakia\"\n",
    "df_population[\"Country\"].loc[df_population.Country == \"Eswatini\"] = \"Swaziland\"\n",
    "df_population[\"Country\"].loc[df_population.Country == \"Cabo Verde\"] = \"Cape Verde\"\n",
    "df_population[\"Country\"].loc[df_population.Country == \"St. Lucia\"] = \"Saint Lucia\"\n",
    "df_population[\"Country\"].loc[df_population.Country == \"St. Vincent and the Grenadines\"] = \"Saint Vincent and the Grenadines\"\n",
    "df_population[\"Country\"].loc[df_population.Country == \"Virgin Islands (U.S.)\"] = \"United States Virgin Islands\"\n",
    "df_population[\"Country\"].loc[df_population.Country == \"St. Kitts and Nevis\"] = \"Saint Kitts and Nevis\"\n",
    "df_population[\"Country\"].loc[df_population.Country == \"St. Martin (French part)\"] = \"Saint Martin\"\n",
    "\n",
    "mismatch_df = df_countries[~df_countries.Country.isin(df_population.Country)]\n",
    "\n",
    "mismatch_df"
   ]
  },
  {
   "cell_type": "code",
   "execution_count": null,
   "metadata": {
    "ExecuteTime": {
     "end_time": "2021-01-13T07:59:20.286637Z",
     "start_time": "2021-01-13T07:59:09.684Z"
    }
   },
   "outputs": [],
   "source": [
    "# merging two dataframes for additional years\n",
    "df_countries = df_countries.merge(df_population, on=\"Country\", how=\"left\")\n",
    "# reordering the columns\n",
    "df_countries = df_countries.iloc[:,[0,1,2,9,8,7,3,4,5,6]]\n",
    "# Replace null values with 0\n",
    "df_countries.fillna(0,inplace = True)\n",
    "\n",
    "df_countries"
   ]
  },
  {
   "cell_type": "markdown",
   "metadata": {},
   "source": [
    "#### Population Density"
   ]
  },
  {
   "cell_type": "code",
   "execution_count": null,
   "metadata": {
    "ExecuteTime": {
     "end_time": "2021-01-13T07:59:20.287628Z",
     "start_time": "2021-01-13T07:59:09.686Z"
    }
   },
   "outputs": [],
   "source": [
    "# Cleaning csv Population data from https://datacatalog.worldbank.org\n",
    "# reading csv's into dataframes\n",
    "df_density = pd.read_csv('static/data/populationDensity.csv')\n",
    "# df_density =  clean_dataFrames(df_density, 14)\n",
    "df_density"
   ]
  },
  {
   "cell_type": "markdown",
   "metadata": {},
   "source": [
    "### Load Data into MongoDB"
   ]
  },
  {
   "cell_type": "code",
   "execution_count": null,
   "metadata": {
    "ExecuteTime": {
     "end_time": "2021-01-13T07:59:20.288638Z",
     "start_time": "2021-01-13T07:59:09.688Z"
    }
   },
   "outputs": [],
   "source": [
    "# Loading Data into MongoDB\n",
    "conn = 'mongodb://localhost:27017'\n",
    "client = pymongo.MongoClient(conn)\n",
    "\n",
    "db_name = \"populationDB\"\n",
    "# Drop database if exists\n",
    "if bool(db_name in client.database_names()):\n",
    "    client.drop_database(db_name)\n",
    "\n",
    "# Creating Database and collection in mongodb\n",
    "db = client[db_name]\n",
    "countriesPop = db[\"countriesPopulation\"]\n",
    "citiesPop = db[\"citiesPopulation\"]\n",
    "latestPop = db[\"latestPopulation\"]\n",
    "\n",
    "\n",
    "# Function to insert Dataframes into mongodb collections\n",
    "def insertToDB(df, collection):\n",
    "    df.reset_index(inplace=True) # Reset Index\n",
    "    data_dict = df.to_dict(\"records\") # Convert to dictionary\n",
    "    collection.insert_many({\"index\":\"populationData\",\"data\":data_dict}) \n",
    "    \n",
    "# insert into DB\n",
    "insertToDB(df_countries, countriesPop)\n",
    "insertToDB(df_cityPop, citiesPop)\n",
    "insertToDB(df_LatestPop, latestPop)\n",
    "\n",
    "\n",
    "print(db.list_collection_names())"
   ]
  },
  {
   "cell_type": "code",
   "execution_count": null,
   "metadata": {},
   "outputs": [],
   "source": []
  }
 ],
 "metadata": {
  "hide_input": false,
  "kernelspec": {
   "display_name": "Python 3",
   "language": "python",
   "name": "python3"
  },
  "language_info": {
   "codemirror_mode": {
    "name": "ipython",
    "version": 3
   },
   "file_extension": ".py",
   "mimetype": "text/x-python",
   "name": "python",
   "nbconvert_exporter": "python",
   "pygments_lexer": "ipython3",
   "version": "3.7.9"
  },
  "toc": {
   "base_numbering": 1,
   "nav_menu": {},
   "number_sections": true,
   "sideBar": true,
   "skip_h1_title": false,
   "title_cell": "Table of Contents",
   "title_sidebar": "Contents",
   "toc_cell": false,
   "toc_position": {},
   "toc_section_display": true,
   "toc_window_display": false
  },
  "varInspector": {
   "cols": {
    "lenName": 16,
    "lenType": 16,
    "lenVar": 40
   },
   "kernels_config": {
    "python": {
     "delete_cmd_postfix": "",
     "delete_cmd_prefix": "del ",
     "library": "var_list.py",
     "varRefreshCmd": "print(var_dic_list())"
    },
    "r": {
     "delete_cmd_postfix": ") ",
     "delete_cmd_prefix": "rm(",
     "library": "var_list.r",
     "varRefreshCmd": "cat(var_dic_list()) "
    }
   },
   "types_to_exclude": [
    "module",
    "function",
    "builtin_function_or_method",
    "instance",
    "_Feature"
   ],
   "window_display": false
  }
 },
 "nbformat": 4,
 "nbformat_minor": 4
}
