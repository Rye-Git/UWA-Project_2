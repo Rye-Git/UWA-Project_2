{
 "metadata": {
  "language_info": {
   "codemirror_mode": {
    "name": "ipython",
    "version": 3
   },
   "file_extension": ".py",
   "mimetype": "text/x-python",
   "name": "python",
   "nbconvert_exporter": "python",
   "pygments_lexer": "ipython3",
   "version": "3.8.3-final"
  },
  "orig_nbformat": 2,
  "kernelspec": {
   "name": "python3",
   "display_name": "Python 3",
   "language": "python"
  }
 },
 "nbformat": 4,
 "nbformat_minor": 2,
 "cells": [
  {
   "cell_type": "code",
   "execution_count": 287,
   "metadata": {},
   "outputs": [],
   "source": [
    "import pandas as pd"
   ]
  },
  {
   "cell_type": "code",
   "execution_count": 288,
   "metadata": {},
   "outputs": [
    {
     "output_type": "execute_result",
     "data": {
      "text/plain": [
       "    cca2              name     pop2020      pop2019      pop2050      pop2030  \\\n",
       "0     CN             China  1442166775  1433783.686  1402405.170  1464340.159   \n",
       "1     IN             India  1387177258  1366417.754  1639176.033  1503642.322   \n",
       "2     US     United States   332041150   329064.917   379419.102   349641.876   \n",
       "3     ID         Indonesia   275056196   270625.568   330904.664   299198.430   \n",
       "4     PK          Pakistan   223154088   216565.318   338013.196   262958.794   \n",
       "..   ...               ...         ...          ...          ...          ...   \n",
       "227   MS        Montserrat        4992        4.989        4.153        4.763   \n",
       "228   FK  Falkland Islands        3480        3.377        3.243        3.436   \n",
       "229   NU              Niue        1626        1.615        1.778        1.664   \n",
       "230   TK           Tokelau        1357        1.340        1.565        1.448   \n",
       "231   VA      Vatican City         801        0.814        0.795        0.803   \n",
       "\n",
       "         pop2015      pop2010      pop2000      pop1990      pop1980  \\\n",
       "0    1406847.870  1368810.615  1290550.765  1176883.674  1000089.235   \n",
       "1    1310152.403  1234281.170  1056575.549   873277.798   698952.844   \n",
       "2     320878.310   309011.475   281710.909   252120.309   229476.354   \n",
       "3     258383.256   241834.215   211513.823   181413.402   147447.836   \n",
       "4     199426.964   179424.641   142343.578   107647.921    78054.343   \n",
       "..           ...          ...          ...          ...          ...   \n",
       "227        4.967        4.899        4.929       10.615       11.607   \n",
       "228        2.834        2.901        2.892        1.982        1.854   \n",
       "229        1.619        1.618        1.899        2.329        3.404   \n",
       "230        1.252        1.140        1.554        1.608        1.553   \n",
       "231        0.794        0.785        0.768        0.724        0.644   \n",
       "\n",
       "        pop1970     area   Density  GrowthRate  WorldPercentage   rank  \n",
       "0    827601.394  9706961  148.2775      1.0039           0.1847    1.0  \n",
       "1    555189.792  3287590  419.7617      1.0099           0.1770    2.0  \n",
       "2    209513.341  9372610   35.3160      1.0059           0.0425    3.0  \n",
       "3    114793.178  1904569  143.6144      1.0107           0.0351    4.0  \n",
       "4     58142.060   881912  250.4698      1.0200           0.0283    5.0  \n",
       "..          ...      ...       ...         ...              ...    ...  \n",
       "227      11.534      102   48.9412      1.0006           0.0000  228.0  \n",
       "228       1.992    12173    0.2859      1.0305           0.0000  229.0  \n",
       "229       5.135      260    6.2538      1.0068           0.0000  230.0  \n",
       "230       1.621       12  113.0833      1.0127           0.0000  231.0  \n",
       "231       1.000      801    1.0025      0.0000         232.0000    NaN  \n",
       "\n",
       "[232 rows x 17 columns]"
      ],
      "text/html": "<div>\n<style scoped>\n    .dataframe tbody tr th:only-of-type {\n        vertical-align: middle;\n    }\n\n    .dataframe tbody tr th {\n        vertical-align: top;\n    }\n\n    .dataframe thead th {\n        text-align: right;\n    }\n</style>\n<table border=\"1\" class=\"dataframe\">\n  <thead>\n    <tr style=\"text-align: right;\">\n      <th></th>\n      <th>cca2</th>\n      <th>name</th>\n      <th>pop2020</th>\n      <th>pop2019</th>\n      <th>pop2050</th>\n      <th>pop2030</th>\n      <th>pop2015</th>\n      <th>pop2010</th>\n      <th>pop2000</th>\n      <th>pop1990</th>\n      <th>pop1980</th>\n      <th>pop1970</th>\n      <th>area</th>\n      <th>Density</th>\n      <th>GrowthRate</th>\n      <th>WorldPercentage</th>\n      <th>rank</th>\n    </tr>\n  </thead>\n  <tbody>\n    <tr>\n      <th>0</th>\n      <td>CN</td>\n      <td>China</td>\n      <td>1442166775</td>\n      <td>1433783.686</td>\n      <td>1402405.170</td>\n      <td>1464340.159</td>\n      <td>1406847.870</td>\n      <td>1368810.615</td>\n      <td>1290550.765</td>\n      <td>1176883.674</td>\n      <td>1000089.235</td>\n      <td>827601.394</td>\n      <td>9706961</td>\n      <td>148.2775</td>\n      <td>1.0039</td>\n      <td>0.1847</td>\n      <td>1.0</td>\n    </tr>\n    <tr>\n      <th>1</th>\n      <td>IN</td>\n      <td>India</td>\n      <td>1387177258</td>\n      <td>1366417.754</td>\n      <td>1639176.033</td>\n      <td>1503642.322</td>\n      <td>1310152.403</td>\n      <td>1234281.170</td>\n      <td>1056575.549</td>\n      <td>873277.798</td>\n      <td>698952.844</td>\n      <td>555189.792</td>\n      <td>3287590</td>\n      <td>419.7617</td>\n      <td>1.0099</td>\n      <td>0.1770</td>\n      <td>2.0</td>\n    </tr>\n    <tr>\n      <th>2</th>\n      <td>US</td>\n      <td>United States</td>\n      <td>332041150</td>\n      <td>329064.917</td>\n      <td>379419.102</td>\n      <td>349641.876</td>\n      <td>320878.310</td>\n      <td>309011.475</td>\n      <td>281710.909</td>\n      <td>252120.309</td>\n      <td>229476.354</td>\n      <td>209513.341</td>\n      <td>9372610</td>\n      <td>35.3160</td>\n      <td>1.0059</td>\n      <td>0.0425</td>\n      <td>3.0</td>\n    </tr>\n    <tr>\n      <th>3</th>\n      <td>ID</td>\n      <td>Indonesia</td>\n      <td>275056196</td>\n      <td>270625.568</td>\n      <td>330904.664</td>\n      <td>299198.430</td>\n      <td>258383.256</td>\n      <td>241834.215</td>\n      <td>211513.823</td>\n      <td>181413.402</td>\n      <td>147447.836</td>\n      <td>114793.178</td>\n      <td>1904569</td>\n      <td>143.6144</td>\n      <td>1.0107</td>\n      <td>0.0351</td>\n      <td>4.0</td>\n    </tr>\n    <tr>\n      <th>4</th>\n      <td>PK</td>\n      <td>Pakistan</td>\n      <td>223154088</td>\n      <td>216565.318</td>\n      <td>338013.196</td>\n      <td>262958.794</td>\n      <td>199426.964</td>\n      <td>179424.641</td>\n      <td>142343.578</td>\n      <td>107647.921</td>\n      <td>78054.343</td>\n      <td>58142.060</td>\n      <td>881912</td>\n      <td>250.4698</td>\n      <td>1.0200</td>\n      <td>0.0283</td>\n      <td>5.0</td>\n    </tr>\n    <tr>\n      <th>...</th>\n      <td>...</td>\n      <td>...</td>\n      <td>...</td>\n      <td>...</td>\n      <td>...</td>\n      <td>...</td>\n      <td>...</td>\n      <td>...</td>\n      <td>...</td>\n      <td>...</td>\n      <td>...</td>\n      <td>...</td>\n      <td>...</td>\n      <td>...</td>\n      <td>...</td>\n      <td>...</td>\n      <td>...</td>\n    </tr>\n    <tr>\n      <th>227</th>\n      <td>MS</td>\n      <td>Montserrat</td>\n      <td>4992</td>\n      <td>4.989</td>\n      <td>4.153</td>\n      <td>4.763</td>\n      <td>4.967</td>\n      <td>4.899</td>\n      <td>4.929</td>\n      <td>10.615</td>\n      <td>11.607</td>\n      <td>11.534</td>\n      <td>102</td>\n      <td>48.9412</td>\n      <td>1.0006</td>\n      <td>0.0000</td>\n      <td>228.0</td>\n    </tr>\n    <tr>\n      <th>228</th>\n      <td>FK</td>\n      <td>Falkland Islands</td>\n      <td>3480</td>\n      <td>3.377</td>\n      <td>3.243</td>\n      <td>3.436</td>\n      <td>2.834</td>\n      <td>2.901</td>\n      <td>2.892</td>\n      <td>1.982</td>\n      <td>1.854</td>\n      <td>1.992</td>\n      <td>12173</td>\n      <td>0.2859</td>\n      <td>1.0305</td>\n      <td>0.0000</td>\n      <td>229.0</td>\n    </tr>\n    <tr>\n      <th>229</th>\n      <td>NU</td>\n      <td>Niue</td>\n      <td>1626</td>\n      <td>1.615</td>\n      <td>1.778</td>\n      <td>1.664</td>\n      <td>1.619</td>\n      <td>1.618</td>\n      <td>1.899</td>\n      <td>2.329</td>\n      <td>3.404</td>\n      <td>5.135</td>\n      <td>260</td>\n      <td>6.2538</td>\n      <td>1.0068</td>\n      <td>0.0000</td>\n      <td>230.0</td>\n    </tr>\n    <tr>\n      <th>230</th>\n      <td>TK</td>\n      <td>Tokelau</td>\n      <td>1357</td>\n      <td>1.340</td>\n      <td>1.565</td>\n      <td>1.448</td>\n      <td>1.252</td>\n      <td>1.140</td>\n      <td>1.554</td>\n      <td>1.608</td>\n      <td>1.553</td>\n      <td>1.621</td>\n      <td>12</td>\n      <td>113.0833</td>\n      <td>1.0127</td>\n      <td>0.0000</td>\n      <td>231.0</td>\n    </tr>\n    <tr>\n      <th>231</th>\n      <td>VA</td>\n      <td>Vatican City</td>\n      <td>801</td>\n      <td>0.814</td>\n      <td>0.795</td>\n      <td>0.803</td>\n      <td>0.794</td>\n      <td>0.785</td>\n      <td>0.768</td>\n      <td>0.724</td>\n      <td>0.644</td>\n      <td>1.000</td>\n      <td>801</td>\n      <td>1.0025</td>\n      <td>0.0000</td>\n      <td>232.0000</td>\n      <td>NaN</td>\n    </tr>\n  </tbody>\n</table>\n<p>232 rows × 17 columns</p>\n</div>"
     },
     "metadata": {},
     "execution_count": 288
    }
   ],
   "source": [
    "# assign the country csv file to a variable\n",
    "predict_path = ('../raw_data/country_prediction_raw.csv')\n",
    "\n",
    "# read the csv file\n",
    "country_predict = pd.read_csv(predict_path)\n",
    "country_predict"
   ]
  },
  {
   "cell_type": "code",
   "execution_count": 289,
   "metadata": {},
   "outputs": [],
   "source": [
    "# delete unecessary columns\n",
    "del country_predict['cca2'], country_predict['area'], country_predict['Density'], country_predict['GrowthRate'], country_predict['WorldPercentage'], country_predict['rank']"
   ]
  },
  {
   "cell_type": "code",
   "execution_count": 290,
   "metadata": {},
   "outputs": [
    {
     "output_type": "execute_result",
     "data": {
      "text/plain": [
       "                 name     pop2020      pop2019      pop2050      pop2030  \\\n",
       "0               China  1442166775  1433783.686  1402405.170  1464340.159   \n",
       "1               India  1387177258  1366417.754  1639176.033  1503642.322   \n",
       "2       United States   332041150   329064.917   379419.102   349641.876   \n",
       "3           Indonesia   275056196   270625.568   330904.664   299198.430   \n",
       "4            Pakistan   223154088   216565.318   338013.196   262958.794   \n",
       "..                ...         ...          ...          ...          ...   \n",
       "227        Montserrat        4992        4.989        4.153        4.763   \n",
       "228  Falkland Islands        3480        3.377        3.243        3.436   \n",
       "229              Niue        1626        1.615        1.778        1.664   \n",
       "230           Tokelau        1357        1.340        1.565        1.448   \n",
       "231      Vatican City         801        0.814        0.795        0.803   \n",
       "\n",
       "         pop2015      pop2010      pop2000      pop1990      pop1980  \\\n",
       "0    1406847.870  1368810.615  1290550.765  1176883.674  1000089.235   \n",
       "1    1310152.403  1234281.170  1056575.549   873277.798   698952.844   \n",
       "2     320878.310   309011.475   281710.909   252120.309   229476.354   \n",
       "3     258383.256   241834.215   211513.823   181413.402   147447.836   \n",
       "4     199426.964   179424.641   142343.578   107647.921    78054.343   \n",
       "..           ...          ...          ...          ...          ...   \n",
       "227        4.967        4.899        4.929       10.615       11.607   \n",
       "228        2.834        2.901        2.892        1.982        1.854   \n",
       "229        1.619        1.618        1.899        2.329        3.404   \n",
       "230        1.252        1.140        1.554        1.608        1.553   \n",
       "231        0.794        0.785        0.768        0.724        0.644   \n",
       "\n",
       "        pop1970  \n",
       "0    827601.394  \n",
       "1    555189.792  \n",
       "2    209513.341  \n",
       "3    114793.178  \n",
       "4     58142.060  \n",
       "..          ...  \n",
       "227      11.534  \n",
       "228       1.992  \n",
       "229       5.135  \n",
       "230       1.621  \n",
       "231       1.000  \n",
       "\n",
       "[232 rows x 11 columns]"
      ],
      "text/html": "<div>\n<style scoped>\n    .dataframe tbody tr th:only-of-type {\n        vertical-align: middle;\n    }\n\n    .dataframe tbody tr th {\n        vertical-align: top;\n    }\n\n    .dataframe thead th {\n        text-align: right;\n    }\n</style>\n<table border=\"1\" class=\"dataframe\">\n  <thead>\n    <tr style=\"text-align: right;\">\n      <th></th>\n      <th>name</th>\n      <th>pop2020</th>\n      <th>pop2019</th>\n      <th>pop2050</th>\n      <th>pop2030</th>\n      <th>pop2015</th>\n      <th>pop2010</th>\n      <th>pop2000</th>\n      <th>pop1990</th>\n      <th>pop1980</th>\n      <th>pop1970</th>\n    </tr>\n  </thead>\n  <tbody>\n    <tr>\n      <th>0</th>\n      <td>China</td>\n      <td>1442166775</td>\n      <td>1433783.686</td>\n      <td>1402405.170</td>\n      <td>1464340.159</td>\n      <td>1406847.870</td>\n      <td>1368810.615</td>\n      <td>1290550.765</td>\n      <td>1176883.674</td>\n      <td>1000089.235</td>\n      <td>827601.394</td>\n    </tr>\n    <tr>\n      <th>1</th>\n      <td>India</td>\n      <td>1387177258</td>\n      <td>1366417.754</td>\n      <td>1639176.033</td>\n      <td>1503642.322</td>\n      <td>1310152.403</td>\n      <td>1234281.170</td>\n      <td>1056575.549</td>\n      <td>873277.798</td>\n      <td>698952.844</td>\n      <td>555189.792</td>\n    </tr>\n    <tr>\n      <th>2</th>\n      <td>United States</td>\n      <td>332041150</td>\n      <td>329064.917</td>\n      <td>379419.102</td>\n      <td>349641.876</td>\n      <td>320878.310</td>\n      <td>309011.475</td>\n      <td>281710.909</td>\n      <td>252120.309</td>\n      <td>229476.354</td>\n      <td>209513.341</td>\n    </tr>\n    <tr>\n      <th>3</th>\n      <td>Indonesia</td>\n      <td>275056196</td>\n      <td>270625.568</td>\n      <td>330904.664</td>\n      <td>299198.430</td>\n      <td>258383.256</td>\n      <td>241834.215</td>\n      <td>211513.823</td>\n      <td>181413.402</td>\n      <td>147447.836</td>\n      <td>114793.178</td>\n    </tr>\n    <tr>\n      <th>4</th>\n      <td>Pakistan</td>\n      <td>223154088</td>\n      <td>216565.318</td>\n      <td>338013.196</td>\n      <td>262958.794</td>\n      <td>199426.964</td>\n      <td>179424.641</td>\n      <td>142343.578</td>\n      <td>107647.921</td>\n      <td>78054.343</td>\n      <td>58142.060</td>\n    </tr>\n    <tr>\n      <th>...</th>\n      <td>...</td>\n      <td>...</td>\n      <td>...</td>\n      <td>...</td>\n      <td>...</td>\n      <td>...</td>\n      <td>...</td>\n      <td>...</td>\n      <td>...</td>\n      <td>...</td>\n      <td>...</td>\n    </tr>\n    <tr>\n      <th>227</th>\n      <td>Montserrat</td>\n      <td>4992</td>\n      <td>4.989</td>\n      <td>4.153</td>\n      <td>4.763</td>\n      <td>4.967</td>\n      <td>4.899</td>\n      <td>4.929</td>\n      <td>10.615</td>\n      <td>11.607</td>\n      <td>11.534</td>\n    </tr>\n    <tr>\n      <th>228</th>\n      <td>Falkland Islands</td>\n      <td>3480</td>\n      <td>3.377</td>\n      <td>3.243</td>\n      <td>3.436</td>\n      <td>2.834</td>\n      <td>2.901</td>\n      <td>2.892</td>\n      <td>1.982</td>\n      <td>1.854</td>\n      <td>1.992</td>\n    </tr>\n    <tr>\n      <th>229</th>\n      <td>Niue</td>\n      <td>1626</td>\n      <td>1.615</td>\n      <td>1.778</td>\n      <td>1.664</td>\n      <td>1.619</td>\n      <td>1.618</td>\n      <td>1.899</td>\n      <td>2.329</td>\n      <td>3.404</td>\n      <td>5.135</td>\n    </tr>\n    <tr>\n      <th>230</th>\n      <td>Tokelau</td>\n      <td>1357</td>\n      <td>1.340</td>\n      <td>1.565</td>\n      <td>1.448</td>\n      <td>1.252</td>\n      <td>1.140</td>\n      <td>1.554</td>\n      <td>1.608</td>\n      <td>1.553</td>\n      <td>1.621</td>\n    </tr>\n    <tr>\n      <th>231</th>\n      <td>Vatican City</td>\n      <td>801</td>\n      <td>0.814</td>\n      <td>0.795</td>\n      <td>0.803</td>\n      <td>0.794</td>\n      <td>0.785</td>\n      <td>0.768</td>\n      <td>0.724</td>\n      <td>0.644</td>\n      <td>1.000</td>\n    </tr>\n  </tbody>\n</table>\n<p>232 rows × 11 columns</p>\n</div>"
     },
     "metadata": {},
     "execution_count": 290
    }
   ],
   "source": [
    "country_predict"
   ]
  },
  {
   "cell_type": "code",
   "execution_count": 291,
   "metadata": {},
   "outputs": [],
   "source": [
    "# rename the columns\n",
    "country_predict.rename(columns={\n",
    "    'name':'Country',\n",
    "    'pop2020':'2020',\n",
    "    'pop2019':'2019',\n",
    "    'pop2050':'2050',\n",
    "    'pop2030':'2030',\n",
    "    'pop2015':'2015',\n",
    "    'pop2010':'2010',\n",
    "    'pop2000':'2000',\n",
    "    'pop1990':'1990',\n",
    "    'pop1980':'1980',\n",
    "    'pop1970':'1970',\n",
    " },inplace=True)"
   ]
  },
  {
   "cell_type": "code",
   "execution_count": 292,
   "metadata": {},
   "outputs": [
    {
     "output_type": "execute_result",
     "data": {
      "text/plain": [
       "              Country        2020         2019         2050         2030  \\\n",
       "0               China  1442166775  1433783.686  1402405.170  1464340.159   \n",
       "1               India  1387177258  1366417.754  1639176.033  1503642.322   \n",
       "2       United States   332041150   329064.917   379419.102   349641.876   \n",
       "3           Indonesia   275056196   270625.568   330904.664   299198.430   \n",
       "4            Pakistan   223154088   216565.318   338013.196   262958.794   \n",
       "..                ...         ...          ...          ...          ...   \n",
       "227        Montserrat        4992        4.989        4.153        4.763   \n",
       "228  Falkland Islands        3480        3.377        3.243        3.436   \n",
       "229              Niue        1626        1.615        1.778        1.664   \n",
       "230           Tokelau        1357        1.340        1.565        1.448   \n",
       "231      Vatican City         801        0.814        0.795        0.803   \n",
       "\n",
       "            2015         2010         2000         1990         1980  \\\n",
       "0    1406847.870  1368810.615  1290550.765  1176883.674  1000089.235   \n",
       "1    1310152.403  1234281.170  1056575.549   873277.798   698952.844   \n",
       "2     320878.310   309011.475   281710.909   252120.309   229476.354   \n",
       "3     258383.256   241834.215   211513.823   181413.402   147447.836   \n",
       "4     199426.964   179424.641   142343.578   107647.921    78054.343   \n",
       "..           ...          ...          ...          ...          ...   \n",
       "227        4.967        4.899        4.929       10.615       11.607   \n",
       "228        2.834        2.901        2.892        1.982        1.854   \n",
       "229        1.619        1.618        1.899        2.329        3.404   \n",
       "230        1.252        1.140        1.554        1.608        1.553   \n",
       "231        0.794        0.785        0.768        0.724        0.644   \n",
       "\n",
       "           1970  \n",
       "0    827601.394  \n",
       "1    555189.792  \n",
       "2    209513.341  \n",
       "3    114793.178  \n",
       "4     58142.060  \n",
       "..          ...  \n",
       "227      11.534  \n",
       "228       1.992  \n",
       "229       5.135  \n",
       "230       1.621  \n",
       "231       1.000  \n",
       "\n",
       "[232 rows x 11 columns]"
      ],
      "text/html": "<div>\n<style scoped>\n    .dataframe tbody tr th:only-of-type {\n        vertical-align: middle;\n    }\n\n    .dataframe tbody tr th {\n        vertical-align: top;\n    }\n\n    .dataframe thead th {\n        text-align: right;\n    }\n</style>\n<table border=\"1\" class=\"dataframe\">\n  <thead>\n    <tr style=\"text-align: right;\">\n      <th></th>\n      <th>Country</th>\n      <th>2020</th>\n      <th>2019</th>\n      <th>2050</th>\n      <th>2030</th>\n      <th>2015</th>\n      <th>2010</th>\n      <th>2000</th>\n      <th>1990</th>\n      <th>1980</th>\n      <th>1970</th>\n    </tr>\n  </thead>\n  <tbody>\n    <tr>\n      <th>0</th>\n      <td>China</td>\n      <td>1442166775</td>\n      <td>1433783.686</td>\n      <td>1402405.170</td>\n      <td>1464340.159</td>\n      <td>1406847.870</td>\n      <td>1368810.615</td>\n      <td>1290550.765</td>\n      <td>1176883.674</td>\n      <td>1000089.235</td>\n      <td>827601.394</td>\n    </tr>\n    <tr>\n      <th>1</th>\n      <td>India</td>\n      <td>1387177258</td>\n      <td>1366417.754</td>\n      <td>1639176.033</td>\n      <td>1503642.322</td>\n      <td>1310152.403</td>\n      <td>1234281.170</td>\n      <td>1056575.549</td>\n      <td>873277.798</td>\n      <td>698952.844</td>\n      <td>555189.792</td>\n    </tr>\n    <tr>\n      <th>2</th>\n      <td>United States</td>\n      <td>332041150</td>\n      <td>329064.917</td>\n      <td>379419.102</td>\n      <td>349641.876</td>\n      <td>320878.310</td>\n      <td>309011.475</td>\n      <td>281710.909</td>\n      <td>252120.309</td>\n      <td>229476.354</td>\n      <td>209513.341</td>\n    </tr>\n    <tr>\n      <th>3</th>\n      <td>Indonesia</td>\n      <td>275056196</td>\n      <td>270625.568</td>\n      <td>330904.664</td>\n      <td>299198.430</td>\n      <td>258383.256</td>\n      <td>241834.215</td>\n      <td>211513.823</td>\n      <td>181413.402</td>\n      <td>147447.836</td>\n      <td>114793.178</td>\n    </tr>\n    <tr>\n      <th>4</th>\n      <td>Pakistan</td>\n      <td>223154088</td>\n      <td>216565.318</td>\n      <td>338013.196</td>\n      <td>262958.794</td>\n      <td>199426.964</td>\n      <td>179424.641</td>\n      <td>142343.578</td>\n      <td>107647.921</td>\n      <td>78054.343</td>\n      <td>58142.060</td>\n    </tr>\n    <tr>\n      <th>...</th>\n      <td>...</td>\n      <td>...</td>\n      <td>...</td>\n      <td>...</td>\n      <td>...</td>\n      <td>...</td>\n      <td>...</td>\n      <td>...</td>\n      <td>...</td>\n      <td>...</td>\n      <td>...</td>\n    </tr>\n    <tr>\n      <th>227</th>\n      <td>Montserrat</td>\n      <td>4992</td>\n      <td>4.989</td>\n      <td>4.153</td>\n      <td>4.763</td>\n      <td>4.967</td>\n      <td>4.899</td>\n      <td>4.929</td>\n      <td>10.615</td>\n      <td>11.607</td>\n      <td>11.534</td>\n    </tr>\n    <tr>\n      <th>228</th>\n      <td>Falkland Islands</td>\n      <td>3480</td>\n      <td>3.377</td>\n      <td>3.243</td>\n      <td>3.436</td>\n      <td>2.834</td>\n      <td>2.901</td>\n      <td>2.892</td>\n      <td>1.982</td>\n      <td>1.854</td>\n      <td>1.992</td>\n    </tr>\n    <tr>\n      <th>229</th>\n      <td>Niue</td>\n      <td>1626</td>\n      <td>1.615</td>\n      <td>1.778</td>\n      <td>1.664</td>\n      <td>1.619</td>\n      <td>1.618</td>\n      <td>1.899</td>\n      <td>2.329</td>\n      <td>3.404</td>\n      <td>5.135</td>\n    </tr>\n    <tr>\n      <th>230</th>\n      <td>Tokelau</td>\n      <td>1357</td>\n      <td>1.340</td>\n      <td>1.565</td>\n      <td>1.448</td>\n      <td>1.252</td>\n      <td>1.140</td>\n      <td>1.554</td>\n      <td>1.608</td>\n      <td>1.553</td>\n      <td>1.621</td>\n    </tr>\n    <tr>\n      <th>231</th>\n      <td>Vatican City</td>\n      <td>801</td>\n      <td>0.814</td>\n      <td>0.795</td>\n      <td>0.803</td>\n      <td>0.794</td>\n      <td>0.785</td>\n      <td>0.768</td>\n      <td>0.724</td>\n      <td>0.644</td>\n      <td>1.000</td>\n    </tr>\n  </tbody>\n</table>\n<p>232 rows × 11 columns</p>\n</div>"
     },
     "metadata": {},
     "execution_count": 292
    }
   ],
   "source": [
    "country_predict"
   ]
  },
  {
   "cell_type": "code",
   "execution_count": 293,
   "metadata": {},
   "outputs": [
    {
     "output_type": "execute_result",
     "data": {
      "text/plain": [
       "         Country        2020         2019         2050         2030  \\\n",
       "0          China  1442166775  1433783.686  1402405.170  1464340.159   \n",
       "1          India  1387177258  1366417.754  1639176.033  1503642.322   \n",
       "2  United States   332041150   329064.917   379419.102   349641.876   \n",
       "3      Indonesia   275056196   270625.568   330904.664   299198.430   \n",
       "4       Pakistan   223154088   216565.318   338013.196   262958.794   \n",
       "5         Brazil   213344896   211049.527   228980.400   223852.122   \n",
       "6        Nigeria   208873242   200963.599   401315.000   262977.337   \n",
       "7     Bangladesh   165549495   163046.161   192567.778   178993.869   \n",
       "8         Russia   145960882   145872.256   135824.481   143347.515   \n",
       "9         Mexico   129649385   127575.529   155150.818   140875.762   \n",
       "\n",
       "          2015         2010         2000         1990         1980        1970  \n",
       "0  1406847.870  1368810.615  1290550.765  1176883.674  1000089.235  827601.394  \n",
       "1  1310152.403  1234281.170  1056575.549   873277.798   698952.844  555189.792  \n",
       "2   320878.310   309011.475   281710.909   252120.309   229476.354  209513.341  \n",
       "3   258383.256   241834.215   211513.823   181413.402   147447.836  114793.178  \n",
       "4   199426.964   179424.641   142343.578   107647.921    78054.343   58142.060  \n",
       "5   204471.769   195713.635   174790.340   149003.223   120694.009   95113.265  \n",
       "6   181137.448   158503.197   122283.850    95212.450    73423.633   55982.144  \n",
       "7   156256.276   147575.430   127657.854   103171.956    79639.491   64232.482  \n",
       "8   144985.057   143479.274   146404.903   147531.561   138053.150  130148.653  \n",
       "9   121858.258   114092.963    98899.845    83943.132    67761.372   51493.565  "
      ],
      "text/html": "<div>\n<style scoped>\n    .dataframe tbody tr th:only-of-type {\n        vertical-align: middle;\n    }\n\n    .dataframe tbody tr th {\n        vertical-align: top;\n    }\n\n    .dataframe thead th {\n        text-align: right;\n    }\n</style>\n<table border=\"1\" class=\"dataframe\">\n  <thead>\n    <tr style=\"text-align: right;\">\n      <th></th>\n      <th>Country</th>\n      <th>2020</th>\n      <th>2019</th>\n      <th>2050</th>\n      <th>2030</th>\n      <th>2015</th>\n      <th>2010</th>\n      <th>2000</th>\n      <th>1990</th>\n      <th>1980</th>\n      <th>1970</th>\n    </tr>\n  </thead>\n  <tbody>\n    <tr>\n      <th>0</th>\n      <td>China</td>\n      <td>1442166775</td>\n      <td>1433783.686</td>\n      <td>1402405.170</td>\n      <td>1464340.159</td>\n      <td>1406847.870</td>\n      <td>1368810.615</td>\n      <td>1290550.765</td>\n      <td>1176883.674</td>\n      <td>1000089.235</td>\n      <td>827601.394</td>\n    </tr>\n    <tr>\n      <th>1</th>\n      <td>India</td>\n      <td>1387177258</td>\n      <td>1366417.754</td>\n      <td>1639176.033</td>\n      <td>1503642.322</td>\n      <td>1310152.403</td>\n      <td>1234281.170</td>\n      <td>1056575.549</td>\n      <td>873277.798</td>\n      <td>698952.844</td>\n      <td>555189.792</td>\n    </tr>\n    <tr>\n      <th>2</th>\n      <td>United States</td>\n      <td>332041150</td>\n      <td>329064.917</td>\n      <td>379419.102</td>\n      <td>349641.876</td>\n      <td>320878.310</td>\n      <td>309011.475</td>\n      <td>281710.909</td>\n      <td>252120.309</td>\n      <td>229476.354</td>\n      <td>209513.341</td>\n    </tr>\n    <tr>\n      <th>3</th>\n      <td>Indonesia</td>\n      <td>275056196</td>\n      <td>270625.568</td>\n      <td>330904.664</td>\n      <td>299198.430</td>\n      <td>258383.256</td>\n      <td>241834.215</td>\n      <td>211513.823</td>\n      <td>181413.402</td>\n      <td>147447.836</td>\n      <td>114793.178</td>\n    </tr>\n    <tr>\n      <th>4</th>\n      <td>Pakistan</td>\n      <td>223154088</td>\n      <td>216565.318</td>\n      <td>338013.196</td>\n      <td>262958.794</td>\n      <td>199426.964</td>\n      <td>179424.641</td>\n      <td>142343.578</td>\n      <td>107647.921</td>\n      <td>78054.343</td>\n      <td>58142.060</td>\n    </tr>\n    <tr>\n      <th>5</th>\n      <td>Brazil</td>\n      <td>213344896</td>\n      <td>211049.527</td>\n      <td>228980.400</td>\n      <td>223852.122</td>\n      <td>204471.769</td>\n      <td>195713.635</td>\n      <td>174790.340</td>\n      <td>149003.223</td>\n      <td>120694.009</td>\n      <td>95113.265</td>\n    </tr>\n    <tr>\n      <th>6</th>\n      <td>Nigeria</td>\n      <td>208873242</td>\n      <td>200963.599</td>\n      <td>401315.000</td>\n      <td>262977.337</td>\n      <td>181137.448</td>\n      <td>158503.197</td>\n      <td>122283.850</td>\n      <td>95212.450</td>\n      <td>73423.633</td>\n      <td>55982.144</td>\n    </tr>\n    <tr>\n      <th>7</th>\n      <td>Bangladesh</td>\n      <td>165549495</td>\n      <td>163046.161</td>\n      <td>192567.778</td>\n      <td>178993.869</td>\n      <td>156256.276</td>\n      <td>147575.430</td>\n      <td>127657.854</td>\n      <td>103171.956</td>\n      <td>79639.491</td>\n      <td>64232.482</td>\n    </tr>\n    <tr>\n      <th>8</th>\n      <td>Russia</td>\n      <td>145960882</td>\n      <td>145872.256</td>\n      <td>135824.481</td>\n      <td>143347.515</td>\n      <td>144985.057</td>\n      <td>143479.274</td>\n      <td>146404.903</td>\n      <td>147531.561</td>\n      <td>138053.150</td>\n      <td>130148.653</td>\n    </tr>\n    <tr>\n      <th>9</th>\n      <td>Mexico</td>\n      <td>129649385</td>\n      <td>127575.529</td>\n      <td>155150.818</td>\n      <td>140875.762</td>\n      <td>121858.258</td>\n      <td>114092.963</td>\n      <td>98899.845</td>\n      <td>83943.132</td>\n      <td>67761.372</td>\n      <td>51493.565</td>\n    </tr>\n  </tbody>\n</table>\n</div>"
     },
     "metadata": {},
     "execution_count": 293
    }
   ],
   "source": [
    "# Get the top 10 countries\n",
    "country_predict = country_predict.head(10)\n",
    "country_predict"
   ]
  },
  {
   "cell_type": "code",
   "execution_count": 294,
   "metadata": {},
   "outputs": [
    {
     "output_type": "execute_result",
     "data": {
      "text/plain": [
       "         Country        2020               2019               2050  \\\n",
       "0          China  1442166775         1433783686          140240517   \n",
       "1          India  1387177258         1366417754         1639176033   \n",
       "2  United States   332041150          329064917          379419102   \n",
       "3      Indonesia   275056196          270625568          330904664   \n",
       "4       Pakistan   223154088          216565318          338013196   \n",
       "5         Brazil   213344896          211049527            2289804   \n",
       "6        Nigeria   208873242          200963599            4013150   \n",
       "7     Bangladesh   165549495          163046161  19256777800000002   \n",
       "8         Russia   145960882          145872256          135824481   \n",
       "9         Mexico   129649385  12757552900000001          155150818   \n",
       "\n",
       "                2030               2015        2010               2000  \\\n",
       "0         1464340159          140684787  1368810615         1290550765   \n",
       "1         1503642322         1310152403   123428117         1056575549   \n",
       "2          349641876           32087831   309011475          281710909   \n",
       "3           29919843  25838325600000002   241834215          211513823   \n",
       "4          262958794  19942696399999998   179424641          142343578   \n",
       "5          223852122  20447176899999997   195713635           17479034   \n",
       "6          262977337          181137448   158503197           12228385   \n",
       "7  17899386899999998  15625627599999998    14757543          127657854   \n",
       "8          143347515          144985057   143479274  14640490300000002   \n",
       "9          140875762          121858258   114092963           98899845   \n",
       "\n",
       "                1990        1980               1970  \n",
       "0         1176883674  1000089235   8276013940000001  \n",
       "1          873277798   698952844          555189792  \n",
       "2  25212030899999998   229476354  20951334100000001  \n",
       "3          181413402   147447836  11479317800000001  \n",
       "4          107647921    78054343            5814206  \n",
       "5          149003223   120694009           95113265  \n",
       "6            9521245    73423633           55982144  \n",
       "7  10317195599999999    79639491           64232482  \n",
       "8          147531561    13805315          130148653  \n",
       "9           83943132    67761372           51493565  "
      ],
      "text/html": "<div>\n<style scoped>\n    .dataframe tbody tr th:only-of-type {\n        vertical-align: middle;\n    }\n\n    .dataframe tbody tr th {\n        vertical-align: top;\n    }\n\n    .dataframe thead th {\n        text-align: right;\n    }\n</style>\n<table border=\"1\" class=\"dataframe\">\n  <thead>\n    <tr style=\"text-align: right;\">\n      <th></th>\n      <th>Country</th>\n      <th>2020</th>\n      <th>2019</th>\n      <th>2050</th>\n      <th>2030</th>\n      <th>2015</th>\n      <th>2010</th>\n      <th>2000</th>\n      <th>1990</th>\n      <th>1980</th>\n      <th>1970</th>\n    </tr>\n  </thead>\n  <tbody>\n    <tr>\n      <th>0</th>\n      <td>China</td>\n      <td>1442166775</td>\n      <td>1433783686</td>\n      <td>140240517</td>\n      <td>1464340159</td>\n      <td>140684787</td>\n      <td>1368810615</td>\n      <td>1290550765</td>\n      <td>1176883674</td>\n      <td>1000089235</td>\n      <td>8276013940000001</td>\n    </tr>\n    <tr>\n      <th>1</th>\n      <td>India</td>\n      <td>1387177258</td>\n      <td>1366417754</td>\n      <td>1639176033</td>\n      <td>1503642322</td>\n      <td>1310152403</td>\n      <td>123428117</td>\n      <td>1056575549</td>\n      <td>873277798</td>\n      <td>698952844</td>\n      <td>555189792</td>\n    </tr>\n    <tr>\n      <th>2</th>\n      <td>United States</td>\n      <td>332041150</td>\n      <td>329064917</td>\n      <td>379419102</td>\n      <td>349641876</td>\n      <td>32087831</td>\n      <td>309011475</td>\n      <td>281710909</td>\n      <td>25212030899999998</td>\n      <td>229476354</td>\n      <td>20951334100000001</td>\n    </tr>\n    <tr>\n      <th>3</th>\n      <td>Indonesia</td>\n      <td>275056196</td>\n      <td>270625568</td>\n      <td>330904664</td>\n      <td>29919843</td>\n      <td>25838325600000002</td>\n      <td>241834215</td>\n      <td>211513823</td>\n      <td>181413402</td>\n      <td>147447836</td>\n      <td>11479317800000001</td>\n    </tr>\n    <tr>\n      <th>4</th>\n      <td>Pakistan</td>\n      <td>223154088</td>\n      <td>216565318</td>\n      <td>338013196</td>\n      <td>262958794</td>\n      <td>19942696399999998</td>\n      <td>179424641</td>\n      <td>142343578</td>\n      <td>107647921</td>\n      <td>78054343</td>\n      <td>5814206</td>\n    </tr>\n    <tr>\n      <th>5</th>\n      <td>Brazil</td>\n      <td>213344896</td>\n      <td>211049527</td>\n      <td>2289804</td>\n      <td>223852122</td>\n      <td>20447176899999997</td>\n      <td>195713635</td>\n      <td>17479034</td>\n      <td>149003223</td>\n      <td>120694009</td>\n      <td>95113265</td>\n    </tr>\n    <tr>\n      <th>6</th>\n      <td>Nigeria</td>\n      <td>208873242</td>\n      <td>200963599</td>\n      <td>4013150</td>\n      <td>262977337</td>\n      <td>181137448</td>\n      <td>158503197</td>\n      <td>12228385</td>\n      <td>9521245</td>\n      <td>73423633</td>\n      <td>55982144</td>\n    </tr>\n    <tr>\n      <th>7</th>\n      <td>Bangladesh</td>\n      <td>165549495</td>\n      <td>163046161</td>\n      <td>19256777800000002</td>\n      <td>17899386899999998</td>\n      <td>15625627599999998</td>\n      <td>14757543</td>\n      <td>127657854</td>\n      <td>10317195599999999</td>\n      <td>79639491</td>\n      <td>64232482</td>\n    </tr>\n    <tr>\n      <th>8</th>\n      <td>Russia</td>\n      <td>145960882</td>\n      <td>145872256</td>\n      <td>135824481</td>\n      <td>143347515</td>\n      <td>144985057</td>\n      <td>143479274</td>\n      <td>14640490300000002</td>\n      <td>147531561</td>\n      <td>13805315</td>\n      <td>130148653</td>\n    </tr>\n    <tr>\n      <th>9</th>\n      <td>Mexico</td>\n      <td>129649385</td>\n      <td>12757552900000001</td>\n      <td>155150818</td>\n      <td>140875762</td>\n      <td>121858258</td>\n      <td>114092963</td>\n      <td>98899845</td>\n      <td>83943132</td>\n      <td>67761372</td>\n      <td>51493565</td>\n    </tr>\n  </tbody>\n</table>\n</div>"
     },
     "metadata": {},
     "execution_count": 294
    }
   ],
   "source": [
    "# Remove unecessary characters\n",
    "country_predict['2020'] = country_predict['2020'].astype(str)\n",
    "country_predict['2020'] = country_predict['2020'].str.replace('.', '')\n",
    "country_predict['2019'] = country_predict['2019'].astype(str)\n",
    "country_predict['2019'] = country_predict['2019'].str.replace('.', '')\n",
    "country_predict['2050'] = country_predict['2050'].astype(str)\n",
    "country_predict['2050'] = country_predict['2050'].str.replace('.', '')\n",
    "country_predict['2030'] = country_predict['2030'].astype(str)\n",
    "country_predict['2030'] = country_predict['2030'].str.replace('.', '')\n",
    "country_predict['2015'] = country_predict['2015'].astype(str)\n",
    "country_predict['2015'] = country_predict['2015'].str.replace('.', '')\n",
    "country_predict['2010'] = country_predict['2010'].astype(str)\n",
    "country_predict['2010'] = country_predict['2010'].str.replace('.', '')\n",
    "country_predict['2000'] = country_predict['2000'].astype(str)\n",
    "country_predict['2000'] = country_predict['2000'].str.replace('.', '')\n",
    "country_predict['1990'] = country_predict['1990'].astype(str)\n",
    "country_predict['1990'] = country_predict['1990'].str.replace('.', '')\n",
    "country_predict['1980'] = country_predict['1980'].astype(str)\n",
    "country_predict['1980'] = country_predict['1980'].str.replace('.', '')\n",
    "country_predict['1970'] = country_predict['1970'].astype(str)\n",
    "country_predict['1970'] = country_predict['1970'].str.replace('.', '')\n",
    "country_predict"
   ]
  },
  {
   "cell_type": "code",
   "execution_count": 295,
   "metadata": {},
   "outputs": [
    {
     "output_type": "execute_result",
     "data": {
      "text/plain": [
       "         Country        2020        2019        2050        2030        2015  \\\n",
       "0          China  1442166775  1433783686  1402405170  1464340159  1406847870   \n",
       "1          India  1387177258  1366417754  1639176033  1503642322  1310152403   \n",
       "2  United States   332041150   329064917   379419102   349641876   320878310   \n",
       "3      Indonesia   275056196   270625568   330904664   299198430   258383256   \n",
       "4       Pakistan   223154088   216565318   338013196   262958794   199426964   \n",
       "5         Brazil   213344896   211049527   228980400   223852122   204471769   \n",
       "6        Nigeria   208873242   200963599   401315000   262977337   181137448   \n",
       "7     Bangladesh   165549495   163046161   192567778   178993869   156256276   \n",
       "8         Russia   145960882   145872256   135824481   143347515   144985057   \n",
       "9         Mexico   129649385   127575529   155150818   140875762   121858258   \n",
       "\n",
       "         2010        2000        1990        1980       1970  \n",
       "0  1368810615  1290550765  1176883674  1000089235  827601394  \n",
       "1  1234281170  1056575549   873277798   698952844  555189792  \n",
       "2   309011475   281710909   252120309   229476354  209513341  \n",
       "3   241834215   211513823   181413402   147447836  114793178  \n",
       "4   179424641   142343578   107647921    78054343   58142060  \n",
       "5   195713635   174790340   149003223   120694009   95113265  \n",
       "6   158503197   122283850    95212450    73423633   55982144  \n",
       "7    14757543   127657854   103171956    79639491   64232482  \n",
       "8   143479274   146404903   147531561   138053150  130148653  \n",
       "9   114092963    98899845    83943132    67761372   51493565  "
      ],
      "text/html": "<div>\n<style scoped>\n    .dataframe tbody tr th:only-of-type {\n        vertical-align: middle;\n    }\n\n    .dataframe tbody tr th {\n        vertical-align: top;\n    }\n\n    .dataframe thead th {\n        text-align: right;\n    }\n</style>\n<table border=\"1\" class=\"dataframe\">\n  <thead>\n    <tr style=\"text-align: right;\">\n      <th></th>\n      <th>Country</th>\n      <th>2020</th>\n      <th>2019</th>\n      <th>2050</th>\n      <th>2030</th>\n      <th>2015</th>\n      <th>2010</th>\n      <th>2000</th>\n      <th>1990</th>\n      <th>1980</th>\n      <th>1970</th>\n    </tr>\n  </thead>\n  <tbody>\n    <tr>\n      <th>0</th>\n      <td>China</td>\n      <td>1442166775</td>\n      <td>1433783686</td>\n      <td>1402405170</td>\n      <td>1464340159</td>\n      <td>1406847870</td>\n      <td>1368810615</td>\n      <td>1290550765</td>\n      <td>1176883674</td>\n      <td>1000089235</td>\n      <td>827601394</td>\n    </tr>\n    <tr>\n      <th>1</th>\n      <td>India</td>\n      <td>1387177258</td>\n      <td>1366417754</td>\n      <td>1639176033</td>\n      <td>1503642322</td>\n      <td>1310152403</td>\n      <td>1234281170</td>\n      <td>1056575549</td>\n      <td>873277798</td>\n      <td>698952844</td>\n      <td>555189792</td>\n    </tr>\n    <tr>\n      <th>2</th>\n      <td>United States</td>\n      <td>332041150</td>\n      <td>329064917</td>\n      <td>379419102</td>\n      <td>349641876</td>\n      <td>320878310</td>\n      <td>309011475</td>\n      <td>281710909</td>\n      <td>252120309</td>\n      <td>229476354</td>\n      <td>209513341</td>\n    </tr>\n    <tr>\n      <th>3</th>\n      <td>Indonesia</td>\n      <td>275056196</td>\n      <td>270625568</td>\n      <td>330904664</td>\n      <td>299198430</td>\n      <td>258383256</td>\n      <td>241834215</td>\n      <td>211513823</td>\n      <td>181413402</td>\n      <td>147447836</td>\n      <td>114793178</td>\n    </tr>\n    <tr>\n      <th>4</th>\n      <td>Pakistan</td>\n      <td>223154088</td>\n      <td>216565318</td>\n      <td>338013196</td>\n      <td>262958794</td>\n      <td>199426964</td>\n      <td>179424641</td>\n      <td>142343578</td>\n      <td>107647921</td>\n      <td>78054343</td>\n      <td>58142060</td>\n    </tr>\n    <tr>\n      <th>5</th>\n      <td>Brazil</td>\n      <td>213344896</td>\n      <td>211049527</td>\n      <td>228980400</td>\n      <td>223852122</td>\n      <td>204471769</td>\n      <td>195713635</td>\n      <td>174790340</td>\n      <td>149003223</td>\n      <td>120694009</td>\n      <td>95113265</td>\n    </tr>\n    <tr>\n      <th>6</th>\n      <td>Nigeria</td>\n      <td>208873242</td>\n      <td>200963599</td>\n      <td>401315000</td>\n      <td>262977337</td>\n      <td>181137448</td>\n      <td>158503197</td>\n      <td>122283850</td>\n      <td>95212450</td>\n      <td>73423633</td>\n      <td>55982144</td>\n    </tr>\n    <tr>\n      <th>7</th>\n      <td>Bangladesh</td>\n      <td>165549495</td>\n      <td>163046161</td>\n      <td>192567778</td>\n      <td>178993869</td>\n      <td>156256276</td>\n      <td>14757543</td>\n      <td>127657854</td>\n      <td>103171956</td>\n      <td>79639491</td>\n      <td>64232482</td>\n    </tr>\n    <tr>\n      <th>8</th>\n      <td>Russia</td>\n      <td>145960882</td>\n      <td>145872256</td>\n      <td>135824481</td>\n      <td>143347515</td>\n      <td>144985057</td>\n      <td>143479274</td>\n      <td>146404903</td>\n      <td>147531561</td>\n      <td>138053150</td>\n      <td>130148653</td>\n    </tr>\n    <tr>\n      <th>9</th>\n      <td>Mexico</td>\n      <td>129649385</td>\n      <td>127575529</td>\n      <td>155150818</td>\n      <td>140875762</td>\n      <td>121858258</td>\n      <td>114092963</td>\n      <td>98899845</td>\n      <td>83943132</td>\n      <td>67761372</td>\n      <td>51493565</td>\n    </tr>\n  </tbody>\n</table>\n</div>"
     },
     "metadata": {},
     "execution_count": 295
    }
   ],
   "source": [
    "# Update the incorrect values\n",
    "country_predict['2019'] = country_predict['2019'].str.replace('12757552900000001', '127575529')\n",
    "country_predict['2050'] = country_predict['2050'].str.replace('140240517', '1402405170')\n",
    "country_predict['2050'] = country_predict['2050'].str.replace('19256777800000002', '192567778')\n",
    "country_predict['2050'] = country_predict['2050'].str.replace('2289804', '228980400')\n",
    "country_predict['2050'] = country_predict['2050'].str.replace('4013150', '401315000')\n",
    "country_predict['2030'] = country_predict['2030'].str.replace('17899386899999998', '178993869')\n",
    "country_predict['2030'] = country_predict['2030'].str.replace('29919843', '299198430')\n",
    "country_predict['2015'] = country_predict['2015'].str.replace('140684787', '1406847870')\n",
    "country_predict['2015'] = country_predict['2015'].str.replace('32087831', '320878310')\n",
    "country_predict['2015'] = country_predict['2015'].str.replace('25838325600000002', '258383256')\n",
    "country_predict['2015'] = country_predict['2015'].str.replace('19942696399999998', '199426964')\n",
    "country_predict['2015'] = country_predict['2015'].str.replace('20447176899999997', '204471769')\n",
    "country_predict['2015'] = country_predict['2015'].str.replace('15625627599999998', '156256276')\n",
    "country_predict['2010'] = country_predict['2010'].str.replace('123428117', '1234281170')\n",
    "country_predict['2010'] = country_predict['2010'].str.replace('17479034', '174790340')\n",
    "country_predict['2000'] = country_predict['2000'].str.replace('14640490300000002', '146404903')\n",
    "country_predict['2000'] = country_predict['2000'].str.replace('17479034', '174790340')\n",
    "country_predict['2000'] = country_predict['2000'].str.replace('12228385', '122283850')\n",
    "country_predict['1990'] = country_predict['1990'].str.replace('25212030899999998', '252120309')\n",
    "country_predict['1990'] = country_predict['1990'].str.replace('10317195599999999', '103171956')\n",
    "country_predict['1990'] = country_predict['1990'].str.replace('9521245', '95212450')\n",
    "country_predict['1980'] = country_predict['1980'].str.replace('13805315', '138053150')\n",
    "country_predict['1970'] = country_predict['1970'].str.replace('5814206', '58142060')\n",
    "country_predict['1970'] = country_predict['1970'].str.replace('8276013940000001', '827601394')\n",
    "country_predict['1970'] = country_predict['1970'].str.replace('20951334100000001', '209513341')\n",
    "country_predict['1970'] = country_predict['1970'].str.replace('11479317800000001', '114793178')\n",
    "country_predict"
   ]
  },
  {
   "cell_type": "code",
   "execution_count": 296,
   "metadata": {},
   "outputs": [
    {
     "output_type": "execute_result",
     "data": {
      "text/plain": [
       "                    1970        1980        1990        2000        2010  \\\n",
       "Country                                                                    \n",
       "China          827601394  1000089235  1176883674  1290550765  1368810615   \n",
       "India          555189792   698952844   873277798  1056575549  1234281170   \n",
       "United States  209513341   229476354   252120309   281710909   309011475   \n",
       "Indonesia      114793178   147447836   181413402   211513823   241834215   \n",
       "Pakistan        58142060    78054343   107647921   142343578   179424641   \n",
       "Brazil          95113265   120694009   149003223   174790340   195713635   \n",
       "Nigeria         55982144    73423633    95212450   122283850   158503197   \n",
       "Bangladesh      64232482    79639491   103171956   127657854    14757543   \n",
       "Russia         130148653   138053150   147531561   146404903   143479274   \n",
       "Mexico          51493565    67761372    83943132    98899845   114092963   \n",
       "\n",
       "                     2015        2019        2020        2030        2050  \n",
       "Country                                                                    \n",
       "China          1406847870  1433783686  1442166775  1464340159  1402405170  \n",
       "India          1310152403  1366417754  1387177258  1503642322  1639176033  \n",
       "United States   320878310   329064917   332041150   349641876   379419102  \n",
       "Indonesia       258383256   270625568   275056196   299198430   330904664  \n",
       "Pakistan        199426964   216565318   223154088   262958794   338013196  \n",
       "Brazil          204471769   211049527   213344896   223852122   228980400  \n",
       "Nigeria         181137448   200963599   208873242   262977337   401315000  \n",
       "Bangladesh      156256276   163046161   165549495   178993869   192567778  \n",
       "Russia          144985057   145872256   145960882   143347515   135824481  \n",
       "Mexico          121858258   127575529   129649385   140875762   155150818  "
      ],
      "text/html": "<div>\n<style scoped>\n    .dataframe tbody tr th:only-of-type {\n        vertical-align: middle;\n    }\n\n    .dataframe tbody tr th {\n        vertical-align: top;\n    }\n\n    .dataframe thead th {\n        text-align: right;\n    }\n</style>\n<table border=\"1\" class=\"dataframe\">\n  <thead>\n    <tr style=\"text-align: right;\">\n      <th></th>\n      <th>1970</th>\n      <th>1980</th>\n      <th>1990</th>\n      <th>2000</th>\n      <th>2010</th>\n      <th>2015</th>\n      <th>2019</th>\n      <th>2020</th>\n      <th>2030</th>\n      <th>2050</th>\n    </tr>\n    <tr>\n      <th>Country</th>\n      <th></th>\n      <th></th>\n      <th></th>\n      <th></th>\n      <th></th>\n      <th></th>\n      <th></th>\n      <th></th>\n      <th></th>\n      <th></th>\n    </tr>\n  </thead>\n  <tbody>\n    <tr>\n      <th>China</th>\n      <td>827601394</td>\n      <td>1000089235</td>\n      <td>1176883674</td>\n      <td>1290550765</td>\n      <td>1368810615</td>\n      <td>1406847870</td>\n      <td>1433783686</td>\n      <td>1442166775</td>\n      <td>1464340159</td>\n      <td>1402405170</td>\n    </tr>\n    <tr>\n      <th>India</th>\n      <td>555189792</td>\n      <td>698952844</td>\n      <td>873277798</td>\n      <td>1056575549</td>\n      <td>1234281170</td>\n      <td>1310152403</td>\n      <td>1366417754</td>\n      <td>1387177258</td>\n      <td>1503642322</td>\n      <td>1639176033</td>\n    </tr>\n    <tr>\n      <th>United States</th>\n      <td>209513341</td>\n      <td>229476354</td>\n      <td>252120309</td>\n      <td>281710909</td>\n      <td>309011475</td>\n      <td>320878310</td>\n      <td>329064917</td>\n      <td>332041150</td>\n      <td>349641876</td>\n      <td>379419102</td>\n    </tr>\n    <tr>\n      <th>Indonesia</th>\n      <td>114793178</td>\n      <td>147447836</td>\n      <td>181413402</td>\n      <td>211513823</td>\n      <td>241834215</td>\n      <td>258383256</td>\n      <td>270625568</td>\n      <td>275056196</td>\n      <td>299198430</td>\n      <td>330904664</td>\n    </tr>\n    <tr>\n      <th>Pakistan</th>\n      <td>58142060</td>\n      <td>78054343</td>\n      <td>107647921</td>\n      <td>142343578</td>\n      <td>179424641</td>\n      <td>199426964</td>\n      <td>216565318</td>\n      <td>223154088</td>\n      <td>262958794</td>\n      <td>338013196</td>\n    </tr>\n    <tr>\n      <th>Brazil</th>\n      <td>95113265</td>\n      <td>120694009</td>\n      <td>149003223</td>\n      <td>174790340</td>\n      <td>195713635</td>\n      <td>204471769</td>\n      <td>211049527</td>\n      <td>213344896</td>\n      <td>223852122</td>\n      <td>228980400</td>\n    </tr>\n    <tr>\n      <th>Nigeria</th>\n      <td>55982144</td>\n      <td>73423633</td>\n      <td>95212450</td>\n      <td>122283850</td>\n      <td>158503197</td>\n      <td>181137448</td>\n      <td>200963599</td>\n      <td>208873242</td>\n      <td>262977337</td>\n      <td>401315000</td>\n    </tr>\n    <tr>\n      <th>Bangladesh</th>\n      <td>64232482</td>\n      <td>79639491</td>\n      <td>103171956</td>\n      <td>127657854</td>\n      <td>14757543</td>\n      <td>156256276</td>\n      <td>163046161</td>\n      <td>165549495</td>\n      <td>178993869</td>\n      <td>192567778</td>\n    </tr>\n    <tr>\n      <th>Russia</th>\n      <td>130148653</td>\n      <td>138053150</td>\n      <td>147531561</td>\n      <td>146404903</td>\n      <td>143479274</td>\n      <td>144985057</td>\n      <td>145872256</td>\n      <td>145960882</td>\n      <td>143347515</td>\n      <td>135824481</td>\n    </tr>\n    <tr>\n      <th>Mexico</th>\n      <td>51493565</td>\n      <td>67761372</td>\n      <td>83943132</td>\n      <td>98899845</td>\n      <td>114092963</td>\n      <td>121858258</td>\n      <td>127575529</td>\n      <td>129649385</td>\n      <td>140875762</td>\n      <td>155150818</td>\n    </tr>\n  </tbody>\n</table>\n</div>"
     },
     "metadata": {},
     "execution_count": 296
    }
   ],
   "source": [
    "# Re-arrange the columns\n",
    "country_predict = country_predict[['Country', '1970', '1980', '1990', '2000', '2010', '2015', '2019', '2020', '2030' , '2050']]\n",
    "country_predict.set_index(\"Country\", inplace = True)\n",
    "country_predict"
   ]
  },
  {
   "cell_type": "code",
   "execution_count": 297,
   "metadata": {},
   "outputs": [],
   "source": [
    "# export the population_ratio to a csv file\n",
    "country_predict.to_csv(\"../clean_data/country_prediction.csv\")"
   ]
  }
 ]
}