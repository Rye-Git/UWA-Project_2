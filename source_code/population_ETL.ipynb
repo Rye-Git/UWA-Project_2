{
 "cells": [
  {
   "cell_type": "code",
   "execution_count": 445,
   "metadata": {
    "ExecuteTime": {
     "end_time": "2021-01-13T08:30:58.330601Z",
     "start_time": "2021-01-13T08:30:58.312612Z"
    }
   },
   "outputs": [],
   "source": [
    "import pandas as pd\n",
    "import pymongo\n",
    "import json\n",
    "import math\n",
    "\n",
    "\n",
    "pd.set_option(\"display.max_rows\", 300)"
   ]
  },
  {
   "cell_type": "markdown",
   "metadata": {},
   "source": [
    "### Extract and Clean Data"
   ]
  },
  {
   "cell_type": "markdown",
   "metadata": {},
   "source": [
    "#### Population of Cities"
   ]
  },
  {
   "cell_type": "code",
   "execution_count": 446,
   "metadata": {
    "ExecuteTime": {
     "end_time": "2021-01-13T08:30:59.127114Z",
     "start_time": "2021-01-13T08:30:58.332601Z"
    }
   },
   "outputs": [
    {
     "output_type": "execute_result",
     "data": {
      "text/plain": [
       "   Rank         City Country      2020        2019  Change\n",
       "0     1        Tokyo   Japan  37393128  37435192.0  -0.11%\n",
       "1     2        Delhi   India  30290936  29399140.0   3.03%\n",
       "2     3     Shanghai   China  27058480  26317104.0   2.82%\n",
       "3     4    Sao Paulo  Brazil  22043028  21846508.0   0.90%\n",
       "4     5  Mexico City  Mexico  21782378  21671908.0   0.51%"
      ],
      "text/html": "<div>\n<style scoped>\n    .dataframe tbody tr th:only-of-type {\n        vertical-align: middle;\n    }\n\n    .dataframe tbody tr th {\n        vertical-align: top;\n    }\n\n    .dataframe thead th {\n        text-align: right;\n    }\n</style>\n<table border=\"1\" class=\"dataframe\">\n  <thead>\n    <tr style=\"text-align: right;\">\n      <th></th>\n      <th>Rank</th>\n      <th>City</th>\n      <th>Country</th>\n      <th>2020</th>\n      <th>2019</th>\n      <th>Change</th>\n    </tr>\n  </thead>\n  <tbody>\n    <tr>\n      <th>0</th>\n      <td>1</td>\n      <td>Tokyo</td>\n      <td>Japan</td>\n      <td>37393128</td>\n      <td>37435192.0</td>\n      <td>-0.11%</td>\n    </tr>\n    <tr>\n      <th>1</th>\n      <td>2</td>\n      <td>Delhi</td>\n      <td>India</td>\n      <td>30290936</td>\n      <td>29399140.0</td>\n      <td>3.03%</td>\n    </tr>\n    <tr>\n      <th>2</th>\n      <td>3</td>\n      <td>Shanghai</td>\n      <td>China</td>\n      <td>27058480</td>\n      <td>26317104.0</td>\n      <td>2.82%</td>\n    </tr>\n    <tr>\n      <th>3</th>\n      <td>4</td>\n      <td>Sao Paulo</td>\n      <td>Brazil</td>\n      <td>22043028</td>\n      <td>21846508.0</td>\n      <td>0.90%</td>\n    </tr>\n    <tr>\n      <th>4</th>\n      <td>5</td>\n      <td>Mexico City</td>\n      <td>Mexico</td>\n      <td>21782378</td>\n      <td>21671908.0</td>\n      <td>0.51%</td>\n    </tr>\n  </tbody>\n</table>\n</div>"
     },
     "metadata": {},
     "execution_count": 446
    }
   ],
   "source": [
    "# url to scrape for the city population\n",
    "cities_url =\"https://worldpopulationreview.com/world-cities\"\n",
    "# Use panda's `read_html` to parse the url\n",
    "df_cityPop = pd.read_html(cities_url, header=0)[0]\n",
    "# rename the columns\n",
    "df_cityPop.rename(columns={'Name':'City', \n",
    "                           '2020 Population':'2020',\n",
    "                           '2019 Population':'2019'\n",
    "                          },inplace=True)\n",
    "# Replace null values with 0\n",
    "df_cityPop.fillna(0,inplace = True)\n",
    "df_cityPop.head()"
   ]
  },
  {
   "cell_type": "markdown",
   "metadata": {},
   "source": [
    "#### Live Population Data Scraped"
   ]
  },
  {
   "cell_type": "code",
   "execution_count": 447,
   "metadata": {
    "ExecuteTime": {
     "end_time": "2021-01-13T08:30:59.565090Z",
     "start_time": "2021-01-13T08:30:59.129097Z"
    }
   },
   "outputs": [
    {
     "output_type": "execute_result",
     "data": {
      "text/plain": [
       "         Country  2021 (Live)  Density_PerSqKm  Growth_Percentage  \\\n",
       "0          China   1442166775              148               0.39   \n",
       "1          India   1387177258              420               0.99   \n",
       "2  United States    332041150               35               0.59   \n",
       "3      Indonesia    275056196              144               1.07   \n",
       "4       Pakistan    223154088              250               2.00   \n",
       "\n",
       "   World_Percentage  Rank  \n",
       "0             18.47     1  \n",
       "1             17.70     2  \n",
       "2              4.25     3  \n",
       "3              3.51     4  \n",
       "4              2.83     5  "
      ],
      "text/html": "<div>\n<style scoped>\n    .dataframe tbody tr th:only-of-type {\n        vertical-align: middle;\n    }\n\n    .dataframe tbody tr th {\n        vertical-align: top;\n    }\n\n    .dataframe thead th {\n        text-align: right;\n    }\n</style>\n<table border=\"1\" class=\"dataframe\">\n  <thead>\n    <tr style=\"text-align: right;\">\n      <th></th>\n      <th>Country</th>\n      <th>2021 (Live)</th>\n      <th>Density_PerSqKm</th>\n      <th>Growth_Percentage</th>\n      <th>World_Percentage</th>\n      <th>Rank</th>\n    </tr>\n  </thead>\n  <tbody>\n    <tr>\n      <th>0</th>\n      <td>China</td>\n      <td>1442166775</td>\n      <td>148</td>\n      <td>0.39</td>\n      <td>18.47</td>\n      <td>1</td>\n    </tr>\n    <tr>\n      <th>1</th>\n      <td>India</td>\n      <td>1387177258</td>\n      <td>420</td>\n      <td>0.99</td>\n      <td>17.70</td>\n      <td>2</td>\n    </tr>\n    <tr>\n      <th>2</th>\n      <td>United States</td>\n      <td>332041150</td>\n      <td>35</td>\n      <td>0.59</td>\n      <td>4.25</td>\n      <td>3</td>\n    </tr>\n    <tr>\n      <th>3</th>\n      <td>Indonesia</td>\n      <td>275056196</td>\n      <td>144</td>\n      <td>1.07</td>\n      <td>3.51</td>\n      <td>4</td>\n    </tr>\n    <tr>\n      <th>4</th>\n      <td>Pakistan</td>\n      <td>223154088</td>\n      <td>250</td>\n      <td>2.00</td>\n      <td>2.83</td>\n      <td>5</td>\n    </tr>\n  </tbody>\n</table>\n</div>"
     },
     "metadata": {},
     "execution_count": 447
    }
   ],
   "source": [
    "# url to scrape for the Live population data\n",
    "countries_url =\"https://worldpopulationreview.com\"\n",
    "# Use panda's `read_html` to parse the url\n",
    "df_LatestPop = pd.read_html(countries_url, header=0)[0]\n",
    "# eliminating unnessasary data\n",
    "df_LatestPop = df_LatestPop.iloc[:,[1,2,5,6,7,8]]\n",
    "# rename the columns\n",
    "df_LatestPop.rename(columns={'2019 Density':'Density_PerSqKm', \n",
    "                             'Growth Rate':'Growth_Percentage', \n",
    "                             'World %':'World_Percentage'\n",
    "                            },inplace=True)\n",
    "                            \n",
    "# Converting string values to numbers\n",
    "df_LatestPop['Density_PerSqKm'] = pd.to_numeric(df_LatestPop['Density_PerSqKm'].str.rsplit('/', 0).str.get(0).str.replace(r',', ''))\n",
    "df_LatestPop['Growth_Percentage'] = pd.to_numeric(df_LatestPop['Growth_Percentage'].str.rsplit('%', 0).str.get(0))\n",
    "df_LatestPop['World_Percentage'] = pd.to_numeric(df_LatestPop['World_Percentage'].str.rsplit('%', 0).str.get(0))\n",
    "df_LatestPop.head()"
   ]
  },
  {
   "source": [
    "#### Scraping Country codes to merge datasets with"
   ],
   "cell_type": "markdown",
   "metadata": {}
  },
  {
   "cell_type": "code",
   "execution_count": 448,
   "metadata": {},
   "outputs": [
    {
     "output_type": "execute_result",
     "data": {
      "text/plain": [
       "  Country_Code Country_Code_3\n",
       "0           AF            AFG\n",
       "1           AX            ALA\n",
       "2           AL            ALB\n",
       "3           DZ            DZA\n",
       "4           AS            ASM"
      ],
      "text/html": "<div>\n<style scoped>\n    .dataframe tbody tr th:only-of-type {\n        vertical-align: middle;\n    }\n\n    .dataframe tbody tr th {\n        vertical-align: top;\n    }\n\n    .dataframe thead th {\n        text-align: right;\n    }\n</style>\n<table border=\"1\" class=\"dataframe\">\n  <thead>\n    <tr style=\"text-align: right;\">\n      <th></th>\n      <th>Country_Code</th>\n      <th>Country_Code_3</th>\n    </tr>\n  </thead>\n  <tbody>\n    <tr>\n      <th>0</th>\n      <td>AF</td>\n      <td>AFG</td>\n    </tr>\n    <tr>\n      <th>1</th>\n      <td>AX</td>\n      <td>ALA</td>\n    </tr>\n    <tr>\n      <th>2</th>\n      <td>AL</td>\n      <td>ALB</td>\n    </tr>\n    <tr>\n      <th>3</th>\n      <td>DZ</td>\n      <td>DZA</td>\n    </tr>\n    <tr>\n      <th>4</th>\n      <td>AS</td>\n      <td>ASM</td>\n    </tr>\n  </tbody>\n</table>\n</div>"
     },
     "metadata": {},
     "execution_count": 448
    }
   ],
   "source": [
    "# url to scrape for ISO 3166 country codes Alpha-2 and Alpha-3 from www.iban.com\n",
    "country_code_url =\"https://www.iban.com/country-codes\"\n",
    "# Use panda's `read_html` to parse the url\n",
    "df_countryCode = pd.read_html(country_code_url, header=0)[0]\n",
    "# eliminating unnessasary data\n",
    "df_countryCode = df_countryCode.iloc[:,[1,2]]\n",
    "# rename the columns\n",
    "df_countryCode.rename(columns={'Alpha-2 code':'Country_Code',\n",
    "                               'Alpha-3 code':'Country_Code_3'\n",
    "                              },inplace=True)\n",
    "df_countryCode.head()"
   ]
  },
  {
   "cell_type": "markdown",
   "metadata": {},
   "source": [
    "#### Population of Countries"
   ]
  },
  {
   "cell_type": "code",
   "execution_count": 449,
   "metadata": {
    "ExecuteTime": {
     "end_time": "2021-01-13T08:30:59.597061Z",
     "start_time": "2021-01-13T08:30:59.567079Z"
    }
   },
   "outputs": [
    {
     "output_type": "execute_result",
     "data": {
      "text/plain": [
       "7731   \n",
       "137           JM                           Jamaica     2961167     2948279   \n",
       "138           PR                       Puerto Rico     2860853     2933408   \n",
       "139           AL                           Albania     2877797     2880917   \n",
       "140           QA                             Qatar     2881053     2832067   \n",
       "141           LT                         Lithuania     2722289     2759627   \n",
       "142          NaN                           Namibia     2540905     2494530   \n",
       "143           GM                            Gambia     2416668     2347706   \n",
       "144           BW                          Botswana     2351627     2303697   \n",
       "145           GA                             Gabon     2225734     2172578   \n",
       "146           LS                           Lesotho     2142249     2125268   \n",
       "147           MK                         Macedonia     2083373     2083458   \n",
       "148           SI                          Slovenia     2078938     2078654   \n",
       "149           GW                     Guinea-Bissau     1968001     1920922   \n",
       "150           LV                            Latvia     1886198     1906743   \n",
       "151           BH                           Bahrain     1701575     1641172   \n",
       "152           TT               Trinidad and Tobago     1399488     1394973   \n",
       "153           GQ                 Equatorial Guinea     1402985     1355986   \n",
       "154           EE                           Estonia     1326535     1325648   \n",
       "155           TL                       Timor-Leste     1318445     1293119   \n",
       "156           MU                         Mauritius     1271768     1269668   \n",
       "157           CY                            Cyprus     1207359     1198575   \n",
       "158           SZ                         Swaziland     1160164     1148130   \n",
       "159           DJ                          Djibouti      988000      973560   \n",
       "160           FJ                              Fiji      896445      889953   \n",
       "161           RE                           Reunion      895312      888927   \n",
       "162           KM                           Comoros      869601      850886   \n",
       "163           GY                            Guyana      786552      782766   \n",
       "164           BT                            Bhutan      771608      763092   \n",
       "165           SB                   Solomon Islands      686884      669823   \n",
       "166           MO                             Macau      649335      640445   \n",
       "167           ME                        Montenegro      628066      627987   \n",
       "168           LU                        Luxembourg      625978      615729   \n",
       "169           EH                    Western Sahara      597339      582463   \n",
       "170           SR                          Suriname      586632      581372   \n",
       "171           CV                        Cape Verde      555987      549935   \n",
       "172           MV                          Maldives      540544      530953   \n",
       "173           MT                             Malta      441543      440371   \n",
       "174           BN                            Brunei      437479      433285   \n",
       "175           GP                        Guadeloupe      400124      400056   \n",
       "176           BZ                            Belize      397628      390353   \n",
       "177           BS                           Bahamas      393244      389482   \n",
       "178           MQ                        Martinique      375265      375554   \n",
       "179           IS                           Iceland      341243      339031   \n",
       "180           VU                           Vanuatu      307145      299882   \n",
       "181           GF                     French Guiana      298682      290832   \n",
       "182           BB                          Barbados      287375      287025   \n",
       "183           NC                     New Caledonia      285498      282750   \n",
       "184           PF                  French Polynesia      280908      279287   \n",
       "185           YT                           Mayotte      272815      266150   \n",
       "186           ST             Sao Tome and Principe      219159      215055   \n",
       "187           WS                             Samoa      198414      197097   \n",
       "188           LC                       Saint Lucia      183627      182790   \n",
       "189           GU                              Guam      168775      167294   \n",
       "190           CW                           Curacao      164093      163424   \n",
       "191           KI                          Kiribati      119449      117606   \n",
       "192           FM                        Micronesia      115023      113815   \n",
       "193           GD                           Grenada      112523      112002   \n",
       "194           VC  Saint Vincent and the Grenadines      110940      110589   \n",
       "195           AW                             Aruba      106766      106314   \n",
       "196           VI      United States Virgin Islands      104425      104577   \n",
       "197           TO                             Tonga      105695      104494   \n",
       "198           SC                        Seychelles       98347       97738   \n",
       "199           AG               Antigua and Barbuda       97929       97118   \n",
       "200           IM                       Isle of Man       85033       84584   \n",
       "201           AD                           Andorra       77265       77142   \n",
       "202           DM                          Dominica       71986       71808   \n",
       "203           KY                    Cayman Islands       65722       64948   \n",
       "204           BM                           Bermuda       62278       62506   \n",
       "205           MH                  Marshall Islands       59190       58791   \n",
       "206           MP          Northern Mariana Islands       57559       57216   \n",
       "207           GL                         Greenland       56770       56672   \n",
       "208           AS                    American Samoa       55191       55312   \n",
       "209           KN             Saint Kitts and Nevis       53199       52823   \n",
       "210           FO                     Faroe Islands       48863       48678   \n",
       "211           SX                      Sint Maarten       42876       42388   \n",
       "212           MC                            Monaco       39242       38964   \n",
       "213           TC          Turks and Caicos Islands       38717       38191   \n",
       "214           LI                     Liechtenstein       38128       38019   \n",
       "215           MF                      Saint Martin       38666       38001   \n",
       "216           SM                        San Marino       33931       33860   \n",
       "217           GI                         Gibraltar       33691       33701   \n",
       "218           VG            British Virgin Islands       30231       30030   \n",
       "219           PW                             Palau       18094       18008   \n",
       "220           CK                      Cook Islands       17564       17548   \n",
       "221           AI                          Anguilla       15003       14869   \n",
       "222           TV                            Tuvalu       11792       11645   \n",
       "223           WF                 Wallis and Futuna       11239       11432   \n",
       "224           NR                             Nauru       10824       10755   \n",
       "225           BL                  Saint Barthelemy        9877        9847   \n",
       "226           PM         Saint Pierre and Miquelon        5794        5822   \n",
       "227           MS                        Montserrat        4992        4989   \n",
       "228           FK                  Falkland Islands        3480        3377   \n",
       "229           NU                              Niue        1626        1615   \n",
       "230           TK                           Tokelau        1357        1340   \n",
       "231           VA                      Vatican City         801         799   \n",
       "\n",
       "           2015        2010        2000        1990  \n",
       "0    1406847870  1368810615  1290550765  1176883674  \n",
       "1    1310152403  1234281170  1056575549   873277798  \n",
       "2     320878310   309011475   281710909   252120308  \n",
       "3     258383256   241834215   211513823   181413402  \n",
       "4     199426963   179424641   142343578   107647921  \n",
       "5     204471768   195713635   174790340   149003223  \n",
       "6     181137448   158503197   122283850    95212450  \n",
       "7     156256275   147575430   127657854   103171955  \n",
       "8     144985057   143479274   146404903   147531561  \n",
       "9     121858258   114092963    98899845    83943132  \n",
       "10    127985133   128542353   127524174   124505240  \n",
       "11    100835458    87639964    66224804    47887865  \n",
       "12    102113212    93966780    77991755    61895160  \n",
       "13     92442546    82761235    68831561    56134475  \n",
       "14     92677076    87967651    79910412    67988862  \n",
       "15     76244544    64563854    47105825    34612023  \n",
       "16     81787411    80827002    81400882    79053984  \n",
       "17     78529409    72326988    63240194    53921760  \n",
       "18     78492215    73762519    65623405    56366217  \n",
       "19     68714511    67195027    62952642    56558185  \n",
       "20     65860145    63459808    58923309    57134390  \n",
       "21     64453200    62879530    59015096    56666849  \n",
       "22     60578494    59325229    56692178    57048236  \n",
       "23     55386367    51216964    44967708    36800509  \n",
       "24     51482633    44346525    33499180    25203845  \n",
       "25     52680725    50600818    46719700    41335199  \n",
       "26     47878335    42030676    31964557    23724578  \n",
       "27     50823093    49545636    47379240    42918419  \n",
       "28     47520667    45222700    39629968    33102574  \n",
       "29     46671926    46931015    40824754    39202525  \n",
       "30     43075416    40895752    36870787    32618651  \n",
       "31     38225453    32428167    23650172    17354392  \n",
       "32     44921639    45792090    48838065    51463105  \n",
       "33     39728025    35977455    31042235    25758869  \n",
       "34     38902950    34545013    27275015    20147590  \n",
       "35     35572261    29741976    23497585    17419113  \n",
       "36     34413602    29185507    20779953    12412308  \n",
       "37     38034079    38329781    38556693    37960193  \n",
       "38     36026676    34147564    30588382    27541319  \n",
       "39     34663602    32343389    28793679    24807462  \n",
       "40     31717667    27421461    20663843    16233785  \n",
       "41     30929557    28515909    24769955    20398348  \n",
       "42     30470734    29027674    26459944    22071432  \n",
       "43     30270962    28208035    23194257    18029824  \n",
       "44     27884381    23356246    16395473    11848386  \n",
       "45     27849205    24779619    19278856    14773277  \n",
       "46     27042002    23531574    17711927    12987292  \n",
       "47     26497889    23154855    17409072    11709993  \n",
       "48     27015031    27013212    23941110    18905478  \n",
       "49     30081828    28439940    24192446    19632665  \n",
       "50     24234088    21151640    15766806    11598633  \n",
       "51     23298368    20341241    15513945    11780088  \n",
       "52     23226142    20532950    16454668    11924877  \n",
       "53     25183833    24548836    22929075    20293054  \n",
       "54     23932502    22154679    18991431    16960596  \n",
       "55     23557477    23187551    21966527    20478520  \n",
       "56     20001663    16464025    11331556     8026590  \n",
       "57     20908027    20261737    18777601    17325773  \n",
       "58     18110624    15605216    11607942     8811034  \n",
       "59     17438778    15049353    10946445     8449913  \n",
       "60     19925175    20471863    22137418    23489160  \n",
       "61     17969353    17062536    15342353    13274623  \n",
       "62     16745303    14539612    11148758     9404500  \n",
       "63     17572016    16252278    14922719    16383886  \n",
       "64     15879361    13605983    10415944     8036845  \n",
       "65     16252428    14630417    11650743     9263813  \n",
       "66     16212020    15011117    12681123    10230934  \n",
       "67     16938499    16682917    15926188    14965448  \n",
       "68     17997408    21362529    16410848    12446171  \n",
       "69     15521436    14312212    12155239     8975597  \n",
       "70     14578458    12678148     9797734     7526307  \n",
       "71     14110975    11952136     8355654     5963251  \n",
       "72     13797201    12043883     8872254     7225092  \n",
       "73     13814628    12697723    11881476    10432421  \n",
       "74     11432088    10192176     8240730     6352283  \n",
       "75     11369071    10039338     7933681     7288882  \n",
       "76     10575952     9199259     6865951     4978496  \n",
       "77     11179948    10635243     9708350     8242495  \n",
       "78     11287940    10938739    10282033    10006544  \n",
       "79     10160030     8675601     6378871     5438956  \n",
       "80     10869730    10048590     8418264     6864842  \n",
       "81     11324781    11225832    11126430    10596987  \n",
       "82     10695542     9949322     8463806     7037916  \n",
       "83     10715658     9508364     6199394     5492623  \n",
       "84     10281680     9695121     8471321     7133494  \n",
       "85     10601396    10536518    10289373    10340875  \n",
       "86     10659750    10887636    11082104    10225992  \n",
       "87     10368351    10596058    10297112     9895364  \n",
       "88      9266575     7261539     5122492     3565890  \n",
       "89      9622745     9032461     8122741     7242760  \n",
       "90      9764950     9390168     8881640     8567384  \n",
       "91      9262900     8549988     3134062     1828432  \n",
       "92      9112916     8317469     6574509     4955303  \n",
       "93      9777923     9927370    10220507    10377136  \n",
       "94      9439423     9420574     9871632    10151134  \n",
       "95      8454028     7527394     6216340     5283814  \n",
       "96      8678660     8409949     8069276     7723949  \n",
       "97      8107775     7310507     5847585     4615839  \n",
       "98      8876777     8991254     9487616     9517675  \n",
       "99      8296775     7808675     7143760     6652868  \n",
       "100     7978490     7346446     5945950     4448353  \n",
       "101     7323158     6421679     4924402     3774312  \n",
       "102     7171914     6415634     4584571     4319762  \n",
       "103     7185996     6966331     6606326     5727938  \n",
       "104     6741164     6249165     5323700     4258472  \n",
       "105     6688746     6248020     5323201     4223415  \n",
       "106     7199741     7425008     7997956     8841458  \n",
       "107     6532678     4953061     3842778     2803044  \n",
       "108     6418315     6197663     5357891     4436661  \n",
       "109     6223240     5824065     5069302     4173434  \n",
       "110     6325124     6183875     5887936     5270079  \n",
       "111     5959121     5422293     4920712     4372885  \n",
       "112     5565286     5087213     4516133     3683967  \n",
       "113     5592151     5131172     4028870     3012966  \n",
       "114     5688695     5554844     5341194     5141115  \n",
       "115     5481121     5365781     5187954     4996222  \n",
       "116     5435611     5404294     5399210     5288454  \n",
       "117     4856095     4273731     3127410     2356737  \n",
       "118     5199835     4885878     4499367     4247285  \n",
       "119     4847804     4577378     3962372     3119433  \n",
       "120     4529166     4055631     3224002     2101446  \n",
       "121     4267348     3041434     2267973     1812161  \n",
       "122     4472230     3891356     2848455     2075912  \n",
       "123     4652425     4554321     3783103     3510885  \n",
       "124     4614532     4370062     3858999     3398172  \n",
       "125     4493170     4386768     3640427     2806734  \n",
       "126     4046301     3494195     2630219     2034346  \n",
       "127     3968487     3642687     3030328     2470947  \n",
       "128     3835591     2991884     2045122     2095344  \n",
       "129     4232874     4328165     4428075     4776374  \n",
       "130     4070700     4086080     4202657     4365564  \n",
       "131     4024183     4099099     4362187     5410399  \n",
       "132     3342817     3170435     2292416     2258653  \n",
       "133     3412009     3359275     3319736     3109600  \n",
       "134     3429361     3705472     3751176     4463423  \n",
       "135     2998439     2719895     2397417     2184145  \n",
       "136     2925553     2877319     3069591     3538171  \n",
       "137     2891020     2810460     2654700     2419906  \n",
       "138     3381518     3579841     3668960     3403154  \n",
       "139     2890513     2948022     3129243     3286073  \n",
       "140     2565710     1856327      592468      476278  \n",
       "141     2931880     3123816     3501839     3696035  \n",
       "142     2314904     2118874     1794571     1432905  \n",
       "143     2085860     1793196     1317703      955593  \n",
       "144     2120716     1987105     1643333     1286756  \n",
       "145     1947686     1624140     1228360      949488  \n",
       "146     2059021     1995581     2032803     1703747  \n",
       "147     2079328     2070741     2034819     1996227  \n",
       "148     2071199     2043337     1987717     2006405  \n",
       "149     1737202     1522599     1201301      975261  \n",
       "150     1997674     2118861     2384163     2664439  \n",
       "151     1371851     1240860      664611      495931  \n",
       "152     1370328     1328147     1267153     1221116  \n",
       "153     1168568      943638      606181      419188  \n",
       "154     1315325     1332101     1399112     1565246  \n",
       "155     1196302     1093523      884366      737814  \n",
       "156     1259456     1247955     1185145     1055868  \n",
       "157     1160985     1112612      943290      766615  \n",
       "158     1104043     1064837     1005435      822420  \n",
       "159      913993      840198      717584      590398  \n",
       "160      868627      859818      811006      728573  \n",
       "161      863363      830518      736710      610582  \n",
       "162      777424      689692      542357      411594  \n",
       "163      767432      749436      746715      743309  \n",
       "164      727876      685503      591021      530804  \n",
       "165      603118      527861      412660      311866  \n",
       "166      602085      538219      427782      343808  \n",
       "167      626956      624275      613559      615002  \n",
       "168      566741      507889      436103      381791  \n",
       "169      526216      480274      314118      217257  \n",
       "170      559143      529131      470949      405168  \n",
       "171      524743      492654      428188      337950  \n",
       "172      454915      365734      279397      223158  \n",
       "173      433559      414253      393645      362015  \n",
       "174      414907      388645      333165      258721  \n",
       "175      400255      406070      422051      389249  \n",
       "176      360933      322464      247315      187552  \n",
       "177      374205      354941      298051      256223  \n",
       "178      378478      394663      387004      358449  \n",
       "179      330243      320328      280435      255043  \n",
       "180      271130      236210      184972      146572  \n",
       "181      260999      233002      163165      115783  \n",
       "182      285324      282131      271515      260935  \n",
       "183      271065      253527      217269      170335  \n",
       "184      273124      266455      240685      199905  \n",
       "185      240020      208718      150331       94783  \n",
       "186      199432      180370      142262      119209  \n",
       "187      193513      185949      174454      162803  \n",
       "188      179125      174085      156728      138020  \n",
       "189      161852      159444      155329      130482  \n",
       "190      159847      149192      132140      146670  \n",
       "191      110930      102927       84396       72400  \n",
       "192      108895      102911      107402       96301  \n",
       "193      109598      106232      102833       96331  \n",
       "194      109148      108255      107783      107484  \n",
       "195      104341      101669       90853       62148  \n",
       "196      104958      106087      108722      103756  \n",
       "197      100781      103986       97973       95069  \n",
       "198       94978       91264       80996       70570  \n",
       "199       93566       88027       76016       62528  \n",
       "200       83234       84857       76941       70298  \n",
       "201       78011       84449       65390       54508  \n",
       "202       71183       70878       69650       70419  \n",
       "203       61724       56672       42303       25311  \n",
       "204       63692       65388       65012       61633  \n",
       "205       57438       56366       50753       47271  \n",
       "206       55780       53971       57453       45751  \n",
       "207       56376       56638       56175       55604  \n",
       "208       55812       56078       57821       47347  \n",
       "209       51203       49016       44074       40259  \n",
       "210       48051       47813       46735       47273  \n",
       "211       39968       34168       32564       28811  \n",
       "212       37718       35611       32147       29438  \n",
       "213       35981       32659       20164       12110  \n",
       "214       37470       35994       33184       28789  \n",
       "215       35858       37582       28935       31520  \n",
       "216       33272       31229       27462       24125  \n",
       "217       33736       33585       31077       29147  \n",
       "218       29151       27794       20311       17489  \n",
       "219       17665       17955       19105       15058  \n",
       "220       17586       18391       17930       18191  \n",
       "221       14279       13437       11252        8899  \n",
       "222       11099       10530        9394        8913  \n",
       "223       12265       12689       14694       13800  \n",
       "224       10383       10005       10337        9505  \n",
       "225        9693        9234        7427        5338  \n",
       "226        5992        6353        6294        6393  \n",
       "227        4967        4899        4928       10615  \n",
       "228        2833        2901        2892        1982  \n",
       "229        1619        1618        1899        2329  \n",
       "230        1252        1140        1554        1608  \n",
       "231         802         794         785         768  "
      ],
      "text/html": "<div>\n<style scoped>\n    .dataframe tbody tr th:only-of-type {\n        vertical-align: middle;\n    }\n\n    .dataframe tbody tr th {\n        vertical-align: top;\n    }\n\n    .dataframe thead th {\n        text-align: right;\n    }\n</style>\n<table border=\"1\" class=\"dataframe\">\n  <thead>\n    <tr style=\"text-align: right;\">\n      <th></th>\n      <th>Country_Code</th>\n      <th>Country</th>\n      <th>2020</th>\n      <th>2019</th>\n      <th>2015</th>\n      <th>2010</th>\n      <th>2000</th>\n      <th>1990</th>\n    </tr>\n  </thead>\n  <tbody>\n    <tr>\n      <th>0</th>\n      <td>CN</td>\n      <td>China</td>\n      <td>1439323776</td>\n      <td>1433783686</td>\n      <td>1406847870</td>\n      <td>1368810615</td>\n      <td>1290550765</td>\n      <td>1176883674</td>\n    </tr>\n    <tr>\n      <th>1</th>\n      <td>IN</td>\n      <td>India</td>\n      <td>1380004385</td>\n      <td>1366417754</td>\n      <td>1310152403</td>\n      <td>1234281170</td>\n      <td>1056575549</td>\n      <td>873277798</td>\n    </tr>\n    <tr>\n      <th>2</th>\n      <td>US</td>\n      <td>United States</td>\n      <td>331002651</td>\n      <td>329064917</td>\n      <td>320878310</td>\n      <td>309011475</td>\n      <td>281710909</td>\n      <td>252120308</td>\n    </tr>\n    <tr>\n      <th>3</th>\n      <td>ID</td>\n      <td>Indonesia</td>\n      <td>273523615</td>\n      <td>270625568</td>\n      <td>258383256</td>\n      <td>241834215</td>\n      <td>211513823</td>\n      <td>181413402</td>\n    </tr>\n    <tr>\n      <th>4</th>\n      <td>PK</td>\n      <td>Pakistan</td>\n      <td>220892340</td>\n      <td>216565318</td>\n      <td>199426963</td>\n      <td>179424641</td>\n      <td>142343578</td>\n      <td>107647921</td>\n    </tr>\n    <tr>\n      <th>5</th>\n      <td>BR</td>\n      <td>Brazil</td>\n      <td>212559417</td>\n      <td>211049527</td>\n      <td>204471768</td>\n      <td>195713635</td>\n      <td>174790340</td>\n      <td>149003223</td>\n    </tr>\n    <tr>\n      <th>6</th>\n      <td>NG</td>\n      <td>Nigeria</td>\n      <td>206139589</td>\n      <td>200963599</td>\n      <td>181137448</td>\n      <td>158503197</td>\n      <td>122283850</td>\n      <td>95212450</td>\n    </tr>\n    <tr>\n      <th>7</th>\n      <td>BD</td>\n      <td>Bangladesh</td>\n      <td>164689383</td>\n      <td>163046161</td>\n      <td>156256275</td>\n      <td>147575430</td>\n      <td>127657854</td>\n      <td>103171955</td>\n    </tr>\n    <tr>\n      <th>8</th>\n      <td>RU</td>\n      <td>Russia</td>\n      <td>145934462</td>\n      <td>145872256</td>\n      <td>144985057</td>\n      <td>143479274</td>\n      <td>146404903</td>\n      <td>147531561</td>\n    </tr>\n    <tr>\n      <th>9</th>\n      <td>MX</td>\n      <td>Mexico</td>\n      <td>128932753</td>\n      <td>127575529</td>\n      <td>121858258</td>\n      <td>114092963</td>\n      <td>98899845</td>\n      <td>83943132</td>\n    </tr>\n    <tr>\n      <th>10</th>\n      <td>JP</td>\n      <td>Japan</td>\n      <td>126476461</td>\n      <td>126860300</td>\n      <td>127985133</td>\n      <td>128542353</td>\n      <td>127524174</td>\n      <td>124505240</td>\n    </tr>\n    <tr>\n      <th>11</th>\n      <td>ET</td>\n      <td>Ethiopia</td>\n      <td>114963588</td>\n      <td>112078730</td>\n      <td>100835458</td>\n      <td>87639964</td>\n      <td>66224804</td>\n      <td>47887865</td>\n    </tr>\n    <tr>\n      <th>12</th>\n      <td>PH</td>\n      <td>Philippines</td>\n      <td>109581078</td>\n      <td>108116615</td>\n      <td>102113212</td>\n      <td>93966780</td>\n      <td>77991755</td>\n      <td>61895160</td>\n    </tr>\n    <tr>\n      <th>13</th>\n      <td>EG</td>\n      <td>Egypt</td>\n      <td>102334404</td>\n      <td>100388073</td>\n      <td>92442546</td>\n      <td>82761235</td>\n      <td>68831561</td>\n      <td>56134475</td>\n    </tr>\n    <tr>\n      <th>14</th>\n      <td>VN</td>\n      <td>Vietnam</td>\n      <td>97338579</td>\n      <td>96462106</td>\n      <td>92677076</td>\n      <td>87967651</td>\n      <td>79910412</td>\n      <td>67988862</td>\n    </tr>\n    <tr>\n      <th>15</th>\n      <td>CD</td>\n      <td>DR Congo</td>\n      <td>89561403</td>\n      <td>86790567</td>\n      <td>76244544</td>\n      <td>64563854</td>\n      <td>47105825</td>\n      <td>34612023</td>\n    </tr>\n    <tr>\n      <th>16</th>\n      <td>DE</td>\n      <td>Germany</td>\n      <td>83783942</td>\n      <td>83517045</td>\n      <td>81787411</td>\n      <td>80827002</td>\n      <td>81400882</td>\n      <td>79053984</td>\n    </tr>\n    <tr>\n      <th>17</th>\n      <td>TR</td>\n      <td>Turkey</td>\n      <td>84339067</td>\n      <td>83429615</td>\n      <td>78529409</td>\n      <td>72326988</td>\n      <td>63240194</td>\n      <td>53921760</td>\n    </tr>\n    <tr>\n      <th>18</th>\n      <td>IR</td>\n      <td>Iran</td>\n      <td>83992949</td>\n      <td>82913906</td>\n      <td>78492215</td>\n      <td>73762519</td>\n      <td>65623405</td>\n      <td>56366217</td>\n    </tr>\n    <tr>\n      <th>19</th>\n      <td>TH</td>\n      <td>Thailand</td>\n      <td>69799978</td>\n      <td>69625582</td>\n      <td>68714511</td>\n      <td>67195027</td>\n      <td>62952642</td>\n      <td>56558185</td>\n    </tr>\n    <tr>\n      <th>20</th>\n      <td>GB</td>\n      <td>United Kingdom</td>\n      <td>67886011</td>\n      <td>67530172</td>\n      <td>65860145</td>\n      <td>63459808</td>\n      <td>58923309</td>\n      <td>57134390</td>\n    </tr>\n    <tr>\n      <th>21</th>\n      <td>FR</td>\n      <td>France</td>\n      <td>65273511</td>\n      <td>65129727</td>\n      <td>64453200</td>\n      <td>62879530</td>\n      <td>59015096</td>\n      <td>56666849</td>\n    </tr>\n    <tr>\n      <th>22</th>\n      <td>IT</td>\n      <td>Italy</td>\n      <td>60461826</td>\n      <td>60550075</td>\n      <td>60578494</td>\n      <td>59325229</td>\n      <td>56692178</td>\n      <td>57048236</td>\n    </tr>\n    <tr>\n      <th>23</th>\n      <td>ZA</td>\n      <td>South Africa</td>\n      <td>59308690</td>\n      <td>58558270</td>\n      <td>55386367</td>\n      <td>51216964</td>\n      <td>44967708</td>\n      <td>36800509</td>\n    </tr>\n    <tr>\n      <th>24</th>\n      <td>TZ</td>\n      <td>Tanzania</td>\n      <td>59734218</td>\n      <td>58005462</td>\n      <td>51482633</td>\n      <td>44346525</td>\n      <td>33499180</td>\n      <td>25203845</td>\n    </tr>\n    <tr>\n      <th>25</th>\n      <td>MM</td>\n      <td>Myanmar</td>\n      <td>54409800</td>\n      <td>54045420</td>\n      <td>52680725</td>\n      <td>50600818</td>\n      <td>46719700</td>\n      <td>41335199</td>\n    </tr>\n    <tr>\n      <th>26</th>\n      <td>KE</td>\n      <td>Kenya</td>\n      <td>53771296</td>\n      <td>52573973</td>\n      <td>47878335</td>\n      <td>42030676</td>\n      <td>31964557</td>\n      <td>23724578</td>\n    </tr>\n    <tr>\n      <th>27</th>\n      <td>KR</td>\n      <td>South Korea</td>\n      <td>51269185</td>\n      <td>51225308</td>\n      <td>50823093</td>\n      <td>49545636</td>\n      <td>47379240</td>\n      <td>42918419</td>\n    </tr>\n    <tr>\n      <th>28</th>\n      <td>CO</td>\n      <td>Colombia</td>\n      <td>50882891</td>\n      <td>50339443</td>\n      <td>47520667</td>\n      <td>45222700</td>\n      <td>39629968</td>\n      <td>33102574</td>\n    </tr>\n    <tr>\n      <th>29</th>\n      <td>ES</td>\n      <td>Spain</td>\n      <td>46754778</td>\n      <td>46736776</td>\n      <td>46671926</td>\n      <td>46931015</td>\n      <td>40824754</td>\n      <td>39202525</td>\n    </tr>\n    <tr>\n      <th>30</th>\n      <td>AR</td>\n      <td>Argentina</td>\n      <td>45195774</td>\n      <td>44780677</td>\n      <td>43075416</td>\n      <td>40895752</td>\n      <td>36870787</td>\n      <td>32618651</td>\n    </tr>\n    <tr>\n      <th>31</th>\n      <td>UG</td>\n      <td>Uganda</td>\n      <td>45741007</td>\n      <td>44269594</td>\n      <td>38225453</td>\n      <td>32428167</td>\n      <td>23650172</td>\n      <td>17354392</td>\n    </tr>\n    <tr>\n      <th>32</th>\n      <td>UA</td>\n      <td>Ukraine</td>\n      <td>43733762</td>\n      <td>43993638</td>\n      <td>44921639</td>\n      <td>45792090</td>\n      <td>48838065</td>\n      <td>51463105</td>\n    </tr>\n    <tr>\n      <th>33</th>\n      <td>DZ</td>\n      <td>Algeria</td>\n      <td>43851044</td>\n      <td>43053054</td>\n      <td>39728025</td>\n      <td>35977455</td>\n      <td>31042235</td>\n      <td>25758869</td>\n    </tr>\n    <tr>\n      <th>34</th>\n      <td>SD</td>\n      <td>Sudan</td>\n      <td>43849260</td>\n      <td>42813238</td>\n      <td>38902950</td>\n      <td>34545013</td>\n      <td>27275015</td>\n      <td>20147590</td>\n    </tr>\n    <tr>\n      <th>35</th>\n      <td>IQ</td>\n      <td>Iraq</td>\n      <td>40222493</td>\n      <td>39309782</td>\n      <td>35572261</td>\n      <td>29741976</td>\n      <td>23497585</td>\n      <td>17419113</td>\n    </tr>\n    <tr>\n      <th>36</th>\n      <td>AF</td>\n      <td>Afghanistan</td>\n      <td>38928346</td>\n      <td>38041754</td>\n      <td>34413602</td>\n      <td>29185507</td>\n      <td>20779953</td>\n      <td>12412308</td>\n    </tr>\n    <tr>\n      <th>37</th>\n      <td>PL</td>\n      <td>Poland</td>\n      <td>37846611</td>\n      <td>37887768</td>\n      <td>38034079</td>\n      <td>38329781</td>\n      <td>38556693</td>\n      <td>37960193</td>\n    </tr>\n    <tr>\n      <th>38</th>\n      <td>CA</td>\n      <td>Canada</td>\n      <td>37742154</td>\n      <td>37411047</td>\n      <td>36026676</td>\n      <td>34147564</td>\n      <td>30588382</td>\n      <td>27541319</td>\n    </tr>\n    <tr>\n      <th>39</th>\n      <td>MA</td>\n      <td>Morocco</td>\n      <td>36910560</td>\n      <td>36471769</td>\n      <td>34663602</td>\n      <td>32343389</td>\n      <td>28793679</td>\n      <td>24807462</td>\n    </tr>\n    <tr>\n      <th>40</th>\n      <td>SA</td>\n      <td>Saudi Arabia</td>\n      <td>34813871</td>\n      <td>34268528</td>\n      <td>31717667</td>\n      <td>27421461</td>\n      <td>20663843</td>\n      <td>16233785</td>\n    </tr>\n    <tr>\n      <th>41</th>\n      <td>UZ</td>\n      <td>Uzbekistan</td>\n      <td>33469203</td>\n      <td>32981716</td>\n      <td>30929557</td>\n      <td>28515909</td>\n      <td>24769955</td>\n      <td>20398348</td>\n    </tr>\n    <tr>\n      <th>42</th>\n      <td>PE</td>\n      <td>Peru</td>\n      <td>32971854</td>\n      <td>32510452</td>\n      <td>30470734</td>\n      <td>29027674</td>\n      <td>26459944</td>\n      <td>22071432</td>\n    </tr>\n    <tr>\n      <th>43</th>\n      <td>MY</td>\n      <td>Malaysia</td>\n      <td>32365999</td>\n      <td>31949777</td>\n      <td>30270962</td>\n      <td>28208035</td>\n      <td>23194257</td>\n      <td>18029824</td>\n    </tr>\n    <tr>\n      <th>44</th>\n      <td>AO</td>\n      <td>Angola</td>\n      <td>32866271</td>\n      <td>31825295</td>\n      <td>27884381</td>\n      <td>23356246</td>\n      <td>16395473</td>\n      <td>11848386</td>\n    </tr>\n    <tr>\n      <th>45</th>\n      <td>GH</td>\n      <td>Ghana</td>\n      <td>31072940</td>\n      <td>30417856</td>\n      <td>27849205</td>\n      <td>24779619</td>\n      <td>19278856</td>\n      <td>14773277</td>\n    </tr>\n    <tr>\n      <th>46</th>\n      <td>MZ</td>\n      <td>Mozambique</td>\n      <td>31255435</td>\n      <td>30366036</td>\n      <td>27042002</td>\n      <td>23531574</td>\n      <td>17711927</td>\n      <td>12987292</td>\n    </tr>\n    <tr>\n      <th>47</th>\n      <td>YE</td>\n      <td>Yemen</td>\n      <td>29825964</td>\n      <td>29161922</td>\n      <td>26497889</td>\n      <td>23154855</td>\n      <td>17409072</td>\n      <td>11709993</td>\n    </tr>\n    <tr>\n      <th>48</th>\n      <td>NP</td>\n      <td>Nepal</td>\n      <td>29136808</td>\n      <td>28608710</td>\n      <td>27015031</td>\n      <td>27013212</td>\n      <td>23941110</td>\n      <td>18905478</td>\n    </tr>\n    <tr>\n      <th>49</th>\n      <td>VE</td>\n      <td>Venezuela</td>\n      <td>28435940</td>\n      <td>28515828</td>\n      <td>30081828</td>\n      <td>28439940</td>\n      <td>24192446</td>\n      <td>19632665</td>\n    </tr>\n    <tr>\n      <th>50</th>\n      <td>MG</td>\n      <td>Madagascar</td>\n      <td>27691018</td>\n      <td>26969307</td>\n      <td>24234088</td>\n      <td>21151640</td>\n      <td>15766806</td>\n      <td>11598633</td>\n    </tr>\n    <tr>\n      <th>51</th>\n      <td>CM</td>\n      <td>Cameroon</td>\n      <td>26545863</td>\n      <td>25876380</td>\n      <td>23298368</td>\n      <td>20341241</td>\n      <td>15513945</td>\n      <td>11780088</td>\n    </tr>\n    <tr>\n      <th>52</th>\n      <td>CI</td>\n      <td>Ivory Coast</td>\n      <td>26378274</td>\n      <td>25716543</td>\n      <td>23226142</td>\n      <td>20532950</td>\n      <td>16454668</td>\n      <td>11924877</td>\n    </tr>\n    <tr>\n      <th>53</th>\n      <td>KP</td>\n      <td>North Korea</td>\n      <td>25778816</td>\n      <td>25666161</td>\n      <td>25183833</td>\n      <td>24548836</td>\n      <td>22929075</td>\n      <td>20293054</td>\n    </tr>\n    <tr>\n      <th>54</th>\n      <td>AU</td>\n      <td>Australia</td>\n      <td>25499884</td>\n      <td>25203197</td>\n      <td>23932502</td>\n      <td>22154679</td>\n      <td>18991431</td>\n      <td>16960596</td>\n    </tr>\n    <tr>\n      <th>55</th>\n      <td>TW</td>\n      <td>Taiwan</td>\n      <td>23816775</td>\n      <td>23773876</td>\n      <td>23557477</td>\n      <td>23187551</td>\n      <td>21966527</td>\n      <td>20478520</td>\n    </tr>\n    <tr>\n      <th>56</th>\n      <td>NE</td>\n      <td>Niger</td>\n      <td>24206644</td>\n      <td>23310715</td>\n      <td>20001663</td>\n      <td>16464025</td>\n      <td>11331556</td>\n      <td>8026590</td>\n    </tr>\n    <tr>\n      <th>57</th>\n      <td>LK</td>\n      <td>Sri Lanka</td>\n      <td>21413249</td>\n      <td>21323732</td>\n      <td>20908027</td>\n      <td>20261737</td>\n      <td>18777601</td>\n      <td>17325773</td>\n    </tr>\n    <tr>\n      <th>58</th>\n      <td>BF</td>\n      <td>Burkina Faso</td>\n      <td>20903273</td>\n      <td>20321378</td>\n      <td>18110624</td>\n      <td>15605216</td>\n      <td>11607942</td>\n      <td>8811034</td>\n    </tr>\n    <tr>\n      <th>59</th>\n      <td>ML</td>\n      <td>Mali</td>\n      <td>20250833</td>\n      <td>19658031</td>\n      <td>17438778</td>\n      <td>15049353</td>\n      <td>10946445</td>\n      <td>8449913</td>\n    </tr>\n    <tr>\n      <th>60</th>\n      <td>RO</td>\n      <td>Romania</td>\n      <td>19237691</td>\n      <td>19364557</td>\n      <td>19925175</td>\n      <td>20471863</td>\n      <td>22137418</td>\n      <td>23489160</td>\n    </tr>\n    <tr>\n      <th>61</th>\n      <td>CL</td>\n      <td>Chile</td>\n      <td>19116201</td>\n      <td>18952038</td>\n      <td>17969353</td>\n      <td>17062536</td>\n      <td>15342353</td>\n      <td>13274623</td>\n    </tr>\n    <tr>\n      <th>62</th>\n      <td>MW</td>\n      <td>Malawi</td>\n      <td>19129952</td>\n      <td>18628747</td>\n      <td>16745303</td>\n      <td>14539612</td>\n      <td>11148758</td>\n      <td>9404500</td>\n    </tr>\n    <tr>\n      <th>63</th>\n      <td>KZ</td>\n      <td>Kazakhstan</td>\n      <td>18776707</td>\n      <td>18551427</td>\n      <td>17572016</td>\n      <td>16252278</td>\n      <td>14922719</td>\n      <td>16383886</td>\n    </tr>\n    <tr>\n      <th>64</th>\n      <td>ZM</td>\n      <td>Zambia</td>\n      <td>18383955</td>\n      <td>17861030</td>\n      <td>15879361</td>\n      <td>13605983</td>\n      <td>10415944</td>\n      <td>8036845</td>\n    </tr>\n    <tr>\n      <th>65</th>\n      <td>GT</td>\n      <td>Guatemala</td>\n      <td>17915568</td>\n      <td>17581471</td>\n      <td>16252428</td>\n      <td>14630417</td>\n      <td>11650743</td>\n      <td>9263813</td>\n    </tr>\n    <tr>\n      <th>66</th>\n      <td>EC</td>\n      <td>Ecuador</td>\n      <td>17643054</td>\n      <td>17373662</td>\n      <td>16212020</td>\n      <td>15011117</td>\n      <td>12681123</td>\n      <td>10230934</td>\n    </tr>\n    <tr>\n      <th>67</th>\n      <td>NL</td>\n      <td>Netherlands</td>\n      <td>17134872</td>\n      <td>17097130</td>\n      <td>16938499</td>\n      <td>16682917</td>\n      <td>15926188</td>\n      <td>14965448</td>\n    </tr>\n    <tr>\n      <th>68</th>\n      <td>SY</td>\n      <td>Syria</td>\n      <td>17500658</td>\n      <td>17070135</td>\n      <td>17997408</td>\n      <td>21362529</td>\n      <td>16410848</td>\n      <td>12446171</td>\n    </tr>\n    <tr>\n      <th>69</th>\n      <td>KH</td>\n      <td>Cambodia</td>\n      <td>16718965</td>\n      <td>16486542</td>\n      <td>15521436</td>\n      <td>14312212</td>\n      <td>12155239</td>\n      <td>8975597</td>\n    </tr>\n    <tr>\n      <th>70</th>\n      <td>SN</td>\n      <td>Senegal</td>\n      <td>16743927</td>\n      <td>16296364</td>\n      <td>14578458</td>\n      <td>12678148</td>\n      <td>9797734</td>\n      <td>7526307</td>\n    </tr>\n    <tr>\n      <th>71</th>\n      <td>TD</td>\n      <td>Chad</td>\n      <td>16425864</td>\n      <td>15946876</td>\n      <td>14110975</td>\n      <td>11952136</td>\n      <td>8355654</td>\n      <td>5963251</td>\n    </tr>\n    <tr>\n      <th>72</th>\n      <td>SO</td>\n      <td>Somalia</td>\n      <td>15893222</td>\n      <td>15442905</td>\n      <td>13797201</td>\n      <td>12043883</td>\n      <td>8872254</td>\n      <td>7225092</td>\n    </tr>\n    <tr>\n      <th>73</th>\n      <td>ZW</td>\n      <td>Zimbabwe</td>\n      <td>14862924</td>\n      <td>14645468</td>\n      <td>13814628</td>\n      <td>12697723</td>\n      <td>11881476</td>\n      <td>10432421</td>\n    </tr>\n    <tr>\n      <th>74</th>\n      <td>GN</td>\n      <td>Guinea</td>\n      <td>13132795</td>\n      <td>12771246</td>\n      <td>11432088</td>\n      <td>10192176</td>\n      <td>8240730</td>\n      <td>6352283</td>\n    </tr>\n    <tr>\n      <th>75</th>\n      <td>RW</td>\n      <td>Rwanda</td>\n      <td>12952218</td>\n      <td>12626950</td>\n      <td>11369071</td>\n      <td>10039338</td>\n      <td>7933681</td>\n      <td>7288882</td>\n    </tr>\n    <tr>\n      <th>76</th>\n      <td>BJ</td>\n      <td>Benin</td>\n      <td>12123200</td>\n      <td>11801151</td>\n      <td>10575952</td>\n      <td>9199259</td>\n      <td>6865951</td>\n      <td>4978496</td>\n    </tr>\n    <tr>\n      <th>77</th>\n      <td>TN</td>\n      <td>Tunisia</td>\n      <td>11818619</td>\n      <td>11694719</td>\n      <td>11179948</td>\n      <td>10635243</td>\n      <td>9708350</td>\n      <td>8242495</td>\n    </tr>\n    <tr>\n      <th>78</th>\n      <td>BE</td>\n      <td>Belgium</td>\n      <td>11589623</td>\n      <td>11539328</td>\n      <td>11287940</td>\n      <td>10938739</td>\n      <td>10282033</td>\n      <td>10006544</td>\n    </tr>\n    <tr>\n      <th>79</th>\n      <td>BI</td>\n      <td>Burundi</td>\n      <td>11890784</td>\n      <td>11530580</td>\n      <td>10160030</td>\n      <td>8675601</td>\n      <td>6378871</td>\n      <td>5438956</td>\n    </tr>\n    <tr>\n      <th>80</th>\n      <td>BO</td>\n      <td>Bolivia</td>\n      <td>11673021</td>\n      <td>11513100</td>\n      <td>10869730</td>\n      <td>10048590</td>\n      <td>8418264</td>\n      <td>6864842</td>\n    </tr>\n    <tr>\n      <th>81</th>\n      <td>CU</td>\n      <td>Cuba</td>\n      <td>11326616</td>\n      <td>11333483</td>\n      <td>11324781</td>\n      <td>11225832</td>\n      <td>11126430</td>\n      <td>10596987</td>\n    </tr>\n    <tr>\n      <th>82</th>\n      <td>HT</td>\n      <td>Haiti</td>\n      <td>11402528</td>\n      <td>11263077</td>\n      <td>10695542</td>\n      <td>9949322</td>\n      <td>8463806</td>\n      <td>7037916</td>\n    </tr>\n    <tr>\n      <th>83</th>\n      <td>SS</td>\n      <td>South Sudan</td>\n      <td>11193725</td>\n      <td>11062113</td>\n      <td>10715658</td>\n      <td>9508364</td>\n      <td>6199394</td>\n      <td>5492623</td>\n    </tr>\n    <tr>\n      <th>84</th>\n      <td>DO</td>\n      <td>Dominican Republic</td>\n      <td>10847910</td>\n      <td>10738958</td>\n      <td>10281680</td>\n      <td>9695121</td>\n      <td>8471321</td>\n      <td>7133494</td>\n    </tr>\n    <tr>\n      <th>85</th>\n      <td>CZ</td>\n      <td>Czech Republic</td>\n      <td>10708981</td>\n      <td>10689208</td>\n      <td>10601396</td>\n      <td>10536518</td>\n      <td>10289373</td>\n      <td>10340875</td>\n    </tr>\n    <tr>\n      <th>86</th>\n      <td>GR</td>\n      <td>Greece</td>\n      <td>10423054</td>\n      <td>10473455</td>\n      <td>10659750</td>\n      <td>10887636</td>\n      <td>11082104</td>\n      <td>10225992</td>\n    </tr>\n    <tr>\n      <th>87</th>\n      <td>PT</td>\n      <td>Portugal</td>\n      <td>10196709</td>\n      <td>10226187</td>\n      <td>10368351</td>\n      <td>10596058</td>\n      <td>10297112</td>\n      <td>9895364</td>\n    </tr>\n    <tr>\n      <th>88</th>\n      <td>JO</td>\n      <td>Jordan</td>\n      <td>10203134</td>\n      <td>10101694</td>\n      <td>9266575</td>\n      <td>7261539</td>\n      <td>5122492</td>\n      <td>3565890</td>\n    </tr>\n    <tr>\n      <th>89</th>\n      <td>AZ</td>\n      <td>Azerbaijan</td>\n      <td>10139177</td>\n      <td>10047718</td>\n      <td>9622745</td>\n      <td>9032461</td>\n      <td>8122741</td>\n      <td>7242760</td>\n    </tr>\n    <tr>\n      <th>90</th>\n      <td>SE</td>\n      <td>Sweden</td>\n      <td>10099265</td>\n      <td>10036379</td>\n      <td>9764950</td>\n      <td>9390168</td>\n      <td>8881640</td>\n      <td>8567384</td>\n    </tr>\n    <tr>\n      <th>91</th>\n      <td>AE</td>\n      <td>United Arab Emirates</td>\n      <td>9890402</td>\n      <td>9770529</td>\n      <td>9262900</td>\n      <td>8549988</td>\n      <td>3134062</td>\n      <td>1828432</td>\n    </tr>\n    <tr>\n      <th>92</th>\n      <td>HN</td>\n      <td>Honduras</td>\n      <td>9904607</td>\n      <td>9746117</td>\n      <td>9112916</td>\n      <td>8317469</td>\n      <td>6574509</td>\n      <td>4955303</td>\n    </tr>\n    <tr>\n      <th>93</th>\n      <td>HU</td>\n      <td>Hungary</td>\n      <td>9660351</td>\n      <td>9684679</td>\n      <td>9777923</td>\n      <td>9927370</td>\n      <td>10220507</td>\n      <td>10377136</td>\n    </tr>\n    <tr>\n      <th>94</th>\n      <td>BY</td>\n      <td>Belarus</td>\n      <td>9449323</td>\n      <td>9452411</td>\n      <td>9439423</td>\n      <td>9420574</td>\n      <td>9871632</td>\n      <td>10151134</td>\n    </tr>\n    <tr>\n      <th>95</th>\n      <td>TJ</td>\n      <td>Tajikistan</td>\n      <td>9537645</td>\n      <td>9321018</td>\n      <td>8454028</td>\n      <td>7527394</td>\n      <td>6216340</td>\n      <td>5283814</td>\n    </tr>\n    <tr>\n      <th>96</th>\n      <td>AT</td>\n      <td>Austria</td>\n      <td>9006398</td>\n      <td>8955101</td>\n      <td>8678660</td>\n      <td>8409949</td>\n      <td>8069276</td>\n      <td>7723949</td>\n    </tr>\n    <tr>\n      <th>97</th>\n      <td>PG</td>\n      <td>Papua New Guinea</td>\n      <td>8947024</td>\n      <td>8776109</td>\n      <td>8107775</td>\n      <td>7310507</td>\n      <td>5847585</td>\n      <td>4615839</td>\n    </tr>\n    <tr>\n      <th>98</th>\n      <td>RS</td>\n      <td>Serbia</td>\n      <td>8737371</td>\n      <td>8772235</td>\n      <td>8876777</td>\n      <td>8991254</td>\n      <td>9487616</td>\n      <td>9517675</td>\n    </tr>\n    <tr>\n      <th>99</th>\n      <td>CH</td>\n      <td>Switzerland</td>\n      <td>8654622</td>\n      <td>8591365</td>\n      <td>8296775</td>\n      <td>7808675</td>\n      <td>7143760</td>\n      <td>6652868</td>\n    </tr>\n    <tr>\n      <th>100</th>\n      <td>IL</td>\n      <td>Israel</td>\n      <td>8655535</td>\n      <td>8519377</td>\n      <td>7978490</td>\n      <td>7346446</td>\n      <td>5945950</td>\n      <td>4448353</td>\n    </tr>\n    <tr>\n      <th>101</th>\n      <td>TG</td>\n      <td>Togo</td>\n      <td>8278724</td>\n      <td>8082366</td>\n      <td>7323158</td>\n      <td>6421679</td>\n      <td>4924402</td>\n      <td>3774312</td>\n    </tr>\n    <tr>\n      <th>102</th>\n      <td>SL</td>\n      <td>Sierra Leone</td>\n      <td>7976983</td>\n      <td>7813215</td>\n      <td>7171914</td>\n      <td>6415634</td>\n      <td>4584571</td>\n      <td>4319762</td>\n    </tr>\n    <tr>\n      <th>103</th>\n      <td>HK</td>\n      <td>Hong Kong</td>\n      <td>7496981</td>\n      <td>7436154</td>\n      <td>7185996</td>\n      <td>6966331</td>\n      <td>6606326</td>\n      <td>5727938</td>\n    </tr>\n    <tr>\n      <th>104</th>\n      <td>LA</td>\n      <td>Laos</td>\n      <td>7275560</td>\n      <td>7169455</td>\n      <td>6741164</td>\n      <td>6249165</td>\n      <td>5323700</td>\n      <td>4258472</td>\n    </tr>\n    <tr>\n      <th>105</th>\n      <td>PY</td>\n      <td>Paraguay</td>\n      <td>7132538</td>\n      <td>7044635</td>\n      <td>6688746</td>\n      <td>6248020</td>\n      <td>5323201</td>\n      <td>4223415</td>\n    </tr>\n    <tr>\n      <th>106</th>\n      <td>BG</td>\n      <td>Bulgaria</td>\n      <td>6948445</td>\n      <td>7000119</td>\n      <td>7199741</td>\n      <td>7425008</td>\n      <td>7997956</td>\n      <td>8841458</td>\n    </tr>\n    <tr>\n      <th>107</th>\n      <td>LB</td>\n      <td>Lebanon</td>\n      <td>6825445</td>\n      <td>6855713</td>\n      <td>6532678</td>\n      <td>4953061</td>\n      <td>3842778</td>\n      <td>2803044</td>\n    </tr>\n    <tr>\n      <th>108</th>\n      <td>LY</td>\n      <td>Libya</td>\n      <td>6871292</td>\n      <td>6777451</td>\n      <td>6418315</td>\n      <td>6197663</td>\n      <td>5357891</td>\n      <td>4436661</td>\n    </tr>\n    <tr>\n      <th>109</th>\n      <td>NI</td>\n      <td>Nicaragua</td>\n      <td>6624554</td>\n      <td>6545501</td>\n      <td>6223240</td>\n      <td>5824065</td>\n      <td>5069302</td>\n      <td>4173434</td>\n    </tr>\n    <tr>\n      <th>110</th>\n      <td>SV</td>\n      <td>El Salvador</td>\n      <td>6486205</td>\n      <td>6453553</td>\n      <td>6325124</td>\n      <td>6183875</td>\n      <td>5887936</td>\n      <td>5270079</td>\n    </tr>\n    <tr>\n      <th>111</th>\n      <td>KG</td>\n      <td>Kyrgyzstan</td>\n      <td>6524195</td>\n      <td>6415850</td>\n      <td>5959121</td>\n      <td>5422293</td>\n      <td>4920712</td>\n      <td>4372885</td>\n    </tr>\n    <tr>\n      <th>112</th>\n      <td>TM</td>\n      <td>Turkmenistan</td>\n      <td>6031200</td>\n      <td>5942089</td>\n      <td>5565286</td>\n      <td>5087213</td>\n      <td>4516133</td>\n      <td>3683967</td>\n    </tr>\n    <tr>\n      <th>113</th>\n      <td>SG</td>\n      <td>Singapore</td>\n      <td>5850342</td>\n      <td>5804337</td>\n      <td>5592151</td>\n      <td>5131172</td>\n      <td>4028870</td>\n      <td>3012966</td>\n    </tr>\n    <tr>\n      <th>114</th>\n      <td>DK</td>\n      <td>Denmark</td>\n      <td>5792202</td>\n      <td>5771876</td>\n      <td>5688695</td>\n      <td>5554844</td>\n      <td>5341194</td>\n      <td>5141115</td>\n    </tr>\n    <tr>\n      <th>115</th>\n      <td>FI</td>\n      <td>Finland</td>\n      <td>5540720</td>\n      <td>5532156</td>\n      <td>5481121</td>\n      <td>5365781</td>\n      <td>5187954</td>\n      <td>4996222</td>\n    </tr>\n    <tr>\n      <th>116</th>\n      <td>SK</td>\n      <td>Slovakia</td>\n      <td>5459642</td>\n      <td>5457013</td>\n      <td>5435611</td>\n      <td>5404294</td>\n      <td>5399210</td>\n      <td>5288454</td>\n    </tr>\n    <tr>\n      <th>117</th>\n      <td>CG</td>\n      <td>Republic of the Congo</td>\n      <td>5518087</td>\n      <td>5380508</td>\n      <td>4856095</td>\n      <td>4273731</td>\n      <td>3127410</td>\n      <td>2356737</td>\n    </tr>\n    <tr>\n      <th>118</th>\n      <td>NO</td>\n      <td>Norway</td>\n      <td>5421241</td>\n      <td>5378857</td>\n      <td>5199835</td>\n      <td>4885878</td>\n      <td>4499367</td>\n      <td>4247285</td>\n    </tr>\n    <tr>\n      <th>119</th>\n      <td>CR</td>\n      <td>Costa Rica</td>\n      <td>5094118</td>\n      <td>5047561</td>\n      <td>4847804</td>\n      <td>4577378</td>\n      <td>3962372</td>\n      <td>3119433</td>\n    </tr>\n    <tr>\n      <th>120</th>\n      <td>PS</td>\n      <td>Palestine</td>\n      <td>5101414</td>\n      <td>4981420</td>\n      <td>4529166</td>\n      <td>4055631</td>\n      <td>3224002</td>\n      <td>2101446</td>\n    </tr>\n    <tr>\n      <th>121</th>\n      <td>OM</td>\n      <td>Oman</td>\n      <td>5106626</td>\n      <td>4974986</td>\n      <td>4267348</td>\n      <td>3041434</td>\n      <td>2267973</td>\n      <td>1812161</td>\n    </tr>\n    <tr>\n      <th>122</th>\n      <td>LR</td>\n      <td>Liberia</td>\n      <td>5057681</td>\n      <td>4937374</td>\n      <td>4472230</td>\n      <td>3891356</td>\n      <td>2848455</td>\n      <td>2075912</td>\n    </tr>\n    <tr>\n      <th>123</th>\n      <td>IE</td>\n      <td>Ireland</td>\n      <td>4937786</td>\n      <td>4882495</td>\n      <td>4652425</td>\n      <td>4554321</td>\n      <td>3783103</td>\n      <td>3510885</td>\n    </tr>\n    <tr>\n      <th>124</th>\n      <td>NZ</td>\n      <td>New Zealand</td>\n      <td>4822233</td>\n      <td>4783063</td>\n      <td>4614532</td>\n      <td>4370062</td>\n      <td>3858999</td>\n      <td>3398172</td>\n    </tr>\n    <tr>\n      <th>125</th>\n      <td>CF</td>\n      <td>Central African Republic</td>\n      <td>4829767</td>\n      <td>4745185</td>\n      <td>4493170</td>\n      <td>4386768</td>\n      <td>3640427</td>\n      <td>2806734</td>\n    </tr>\n    <tr>\n      <th>126</th>\n      <td>MR</td>\n      <td>Mauritania</td>\n      <td>4649658</td>\n      <td>4525696</td>\n      <td>4046301</td>\n      <td>3494195</td>\n      <td>2630219</td>\n      <td>2034346</td>\n    </tr>\n    <tr>\n      <th>127</th>\n      <td>PA</td>\n      <td>Panama</td>\n      <td>4314767</td>\n      <td>4246439</td>\n      <td>3968487</td>\n      <td>3642687</td>\n      <td>3030328</td>\n      <td>2470947</td>\n    </tr>\n    <tr>\n      <th>128</th>\n      <td>KW</td>\n      <td>Kuwait</td>\n      <td>4270571</td>\n      <td>4207083</td>\n      <td>3835591</td>\n      <td>2991884</td>\n      <td>2045122</td>\n      <td>2095344</td>\n    </tr>\n    <tr>\n      <th>129</th>\n      <td>HR</td>\n      <td>Croatia</td>\n      <td>4105267</td>\n      <td>4130304</td>\n      <td>4232874</td>\n      <td>4328165</td>\n      <td>4428075</td>\n      <td>4776374</td>\n    </tr>\n    <tr>\n      <th>130</th>\n      <td>MD</td>\n      <td>Moldova</td>\n      <td>4033963</td>\n      <td>4043263</td>\n      <td>4070700</td>\n      <td>4086080</td>\n      <td>4202657</td>\n      <td>4365564</td>\n    </tr>\n    <tr>\n      <th>131</th>\n      <td>GE</td>\n      <td>Georgia</td>\n      <td>3989167</td>\n      <td>3996765</td>\n      <td>4024183</td>\n      <td>4099099</td>\n      <td>4362187</td>\n      <td>5410399</td>\n    </tr>\n    <tr>\n      <th>132</th>\n      <td>ER</td>\n      <td>Eritrea</td>\n      <td>3546421</td>\n      <td>3497117</td>\n      <td>3342817</td>\n      <td>3170435</td>\n      <td>2292416</td>\n      <td>2258653</td>\n    </tr>\n    <tr>\n      <th>133</th>\n      <td>UY</td>\n      <td>Uruguay</td>\n      <td>3473730</td>\n      <td>3461734</td>\n      <td>3412009</td>\n      <td>3359275</td>\n      <td>3319736</td>\n      <td>3109600</td>\n    </tr>\n    <tr>\n      <th>134</th>\n      <td>BA</td>\n      <td>Bosnia and Herzegovina</td>\n      <td>3280819</td>\n      <td>3301000</td>\n      <td>3429361</td>\n      <td>3705472</td>\n      <td>3751176</td>\n      <td>4463423</td>\n    </tr>\n    <tr>\n      <th>135</th>\n      <td>MN</td>\n      <td>Mongolia</td>\n      <td>3278290</td>\n      <td>3225167</td>\n      <td>2998439</td>\n      <td>2719895</td>\n      <td>2397417</td>\n      <td>2184145</td>\n    </tr>\n    <tr>\n      <th>136</th>\n      <td>AM</td>\n      <td>Armenia</td>\n      <td>2963243</td>\n      <td>2957731</td>\n      <td>2925553</td>\n      <td>2877319</td>\n      <td>3069591</td>\n      <td>3538171</td>\n    </tr>\n    <tr>\n      <th>137</th>\n      <td>JM</td>\n      <td>Jamaica</td>\n      <td>2961167</td>\n      <td>2948279</td>\n      <td>2891020</td>\n      <td>2810460</td>\n      <td>2654700</td>\n      <td>2419906</td>\n    </tr>\n    <tr>\n      <th>138</th>\n      <td>PR</td>\n      <td>Puerto Rico</td>\n      <td>2860853</td>\n      <td>2933408</td>\n      <td>3381518</td>\n      <td>3579841</td>\n      <td>3668960</td>\n      <td>3403154</td>\n    </tr>\n    <tr>\n      <th>139</th>\n      <td>AL</td>\n      <td>Albania</td>\n      <td>2877797</td>\n      <td>2880917</td>\n      <td>2890513</td>\n      <td>2948022</td>\n      <td>3129243</td>\n      <td>3286073</td>\n    </tr>\n    <tr>\n      <th>140</th>\n      <td>QA</td>\n      <td>Qatar</td>\n      <td>2881053</td>\n      <td>2832067</td>\n      <td>2565710</td>\n      <td>1856327</td>\n      <td>592468</td>\n      <td>476278</td>\n    </tr>\n    <tr>\n      <th>141</th>\n      <td>LT</td>\n      <td>Lithuania</td>\n      <td>2722289</td>\n      <td>2759627</td>\n      <td>2931880</td>\n      <td>3123816</td>\n      <td>3501839</td>\n      <td>3696035</td>\n    </tr>\n    <tr>\n      <th>142</th>\n      <td>NaN</td>\n      <td>Namibia</td>\n      <td>2540905</td>\n      <td>2494530</td>\n      <td>2314904</td>\n      <td>2118874</td>\n      <td>1794571</td>\n      <td>1432905</td>\n    </tr>\n    <tr>\n      <th>143</th>\n      <td>GM</td>\n      <td>Gambia</td>\n      <td>2416668</td>\n      <td>2347706</td>\n      <td>2085860</td>\n      <td>1793196</td>\n      <td>1317703</td>\n      <td>955593</td>\n    </tr>\n    <tr>\n      <th>144</th>\n      <td>BW</td>\n      <td>Botswana</td>\n      <td>2351627</td>\n      <td>2303697</td>\n      <td>2120716</td>\n      <td>1987105</td>\n      <td>1643333</td>\n      <td>1286756</td>\n    </tr>\n    <tr>\n      <th>145</th>\n      <td>GA</td>\n      <td>Gabon</td>\n      <td>2225734</td>\n      <td>2172578</td>\n      <td>1947686</td>\n      <td>1624140</td>\n      <td>1228360</td>\n      <td>949488</td>\n    </tr>\n    <tr>\n      <th>146</th>\n      <td>LS</td>\n      <td>Lesotho</td>\n      <td>2142249</td>\n      <td>2125268</td>\n      <td>2059021</td>\n      <td>1995581</td>\n      <td>2032803</td>\n      <td>1703747</td>\n    </tr>\n    <tr>\n      <th>147</th>\n      <td>MK</td>\n      <td>Macedonia</td>\n      <td>2083373</td>\n      <td>2083458</td>\n      <td>2079328</td>\n      <td>2070741</td>\n      <td>2034819</td>\n      <td>1996227</td>\n    </tr>\n    <tr>\n      <th>148</th>\n      <td>SI</td>\n      <td>Slovenia</td>\n      <td>2078938</td>\n      <td>2078654</td>\n      <td>2071199</td>\n      <td>2043337</td>\n      <td>1987717</td>\n      <td>2006405</td>\n    </tr>\n    <tr>\n      <th>149</th>\n      <td>GW</td>\n      <td>Guinea-Bissau</td>\n      <td>1968001</td>\n      <td>1920922</td>\n      <td>1737202</td>\n      <td>1522599</td>\n      <td>1201301</td>\n      <td>975261</td>\n    </tr>\n    <tr>\n      <th>150</th>\n      <td>LV</td>\n      <td>Latvia</td>\n      <td>1886198</td>\n      <td>1906743</td>\n      <td>1997674</td>\n      <td>2118861</td>\n      <td>2384163</td>\n      <td>2664439</td>\n    </tr>\n    <tr>\n      <th>151</th>\n      <td>BH</td>\n      <td>Bahrain</td>\n      <td>1701575</td>\n      <td>1641172</td>\n      <td>1371851</td>\n      <td>1240860</td>\n      <td>664611</td>\n      <td>495931</td>\n    </tr>\n    <tr>\n      <th>152</th>\n      <td>TT</td>\n      <td>Trinidad and Tobago</td>\n      <td>1399488</td>\n      <td>1394973</td>\n      <td>1370328</td>\n      <td>1328147</td>\n      <td>1267153</td>\n      <td>1221116</td>\n    </tr>\n    <tr>\n      <th>153</th>\n      <td>GQ</td>\n      <td>Equatorial Guinea</td>\n      <td>1402985</td>\n      <td>1355986</td>\n      <td>1168568</td>\n      <td>943638</td>\n      <td>606181</td>\n      <td>419188</td>\n    </tr>\n    <tr>\n      <th>154</th>\n      <td>EE</td>\n      <td>Estonia</td>\n      <td>1326535</td>\n      <td>1325648</td>\n      <td>1315325</td>\n      <td>1332101</td>\n      <td>1399112</td>\n      <td>1565246</td>\n    </tr>\n    <tr>\n      <th>155</th>\n      <td>TL</td>\n      <td>Timor-Leste</td>\n      <td>1318445</td>\n      <td>1293119</td>\n      <td>1196302</td>\n      <td>1093523</td>\n      <td>884366</td>\n      <td>737814</td>\n    </tr>\n    <tr>\n      <th>156</th>\n      <td>MU</td>\n      <td>Mauritius</td>\n      <td>1271768</td>\n      <td>1269668</td>\n      <td>1259456</td>\n      <td>1247955</td>\n      <td>1185145</td>\n      <td>1055868</td>\n    </tr>\n    <tr>\n      <th>157</th>\n      <td>CY</td>\n      <td>Cyprus</td>\n      <td>1207359</td>\n      <td>1198575</td>\n      <td>1160985</td>\n      <td>1112612</td>\n      <td>943290</td>\n      <td>766615</td>\n    </tr>\n    <tr>\n      <th>158</th>\n      <td>SZ</td>\n      <td>Swaziland</td>\n      <td>1160164</td>\n      <td>1148130</td>\n      <td>1104043</td>\n      <td>1064837</td>\n      <td>1005435</td>\n      <td>822420</td>\n    </tr>\n    <tr>\n      <th>159</th>\n      <td>DJ</td>\n      <td>Djibouti</td>\n      <td>988000</td>\n      <td>973560</td>\n      <td>913993</td>\n      <td>840198</td>\n      <td>717584</td>\n      <td>590398</td>\n    </tr>\n    <tr>\n      <th>160</th>\n      <td>FJ</td>\n      <td>Fiji</td>\n      <td>896445</td>\n      <td>889953</td>\n      <td>868627</td>\n      <td>859818</td>\n      <td>811006</td>\n      <td>728573</td>\n    </tr>\n    <tr>\n      <th>161</th>\n      <td>RE</td>\n      <td>Reunion</td>\n      <td>895312</td>\n      <td>888927</td>\n      <td>863363</td>\n      <td>830518</td>\n      <td>736710</td>\n      <td>610582</td>\n    </tr>\n    <tr>\n      <th>162</th>\n      <td>KM</td>\n      <td>Comoros</td>\n      <td>869601</td>\n      <td>850886</td>\n      <td>777424</td>\n      <td>689692</td>\n      <td>542357</td>\n      <td>411594</td>\n    </tr>\n    <tr>\n      <th>163</th>\n      <td>GY</td>\n      <td>Guyana</td>\n      <td>786552</td>\n      <td>782766</td>\n      <td>767432</td>\n      <td>749436</td>\n      <td>746715</td>\n      <td>743309</td>\n    </tr>\n    <tr>\n      <th>164</th>\n      <td>BT</td>\n      <td>Bhutan</td>\n      <td>771608</td>\n      <td>763092</td>\n      <td>727876</td>\n      <td>685503</td>\n      <td>591021</td>\n      <td>530804</td>\n    </tr>\n    <tr>\n      <th>165</th>\n      <td>SB</td>\n      <td>Solomon Islands</td>\n      <td>686884</td>\n      <td>669823</td>\n      <td>603118</td>\n      <td>527861</td>\n      <td>412660</td>\n      <td>311866</td>\n    </tr>\n    <tr>\n      <th>166</th>\n      <td>MO</td>\n      <td>Macau</td>\n      <td>649335</td>\n      <td>640445</td>\n      <td>602085</td>\n      <td>538219</td>\n      <td>427782</td>\n      <td>343808</td>\n    </tr>\n    <tr>\n      <th>167</th>\n      <td>ME</td>\n      <td>Montenegro</td>\n      <td>628066</td>\n      <td>627987</td>\n      <td>626956</td>\n      <td>624275</td>\n      <td>613559</td>\n      <td>615002</td>\n    </tr>\n    <tr>\n      <th>168</th>\n      <td>LU</td>\n      <td>Luxembourg</td>\n      <td>625978</td>\n      <td>615729</td>\n      <td>566741</td>\n      <td>507889</td>\n      <td>436103</td>\n      <td>381791</td>\n    </tr>\n    <tr>\n      <th>169</th>\n      <td>EH</td>\n      <td>Western Sahara</td>\n      <td>597339</td>\n      <td>582463</td>\n      <td>526216</td>\n      <td>480274</td>\n      <td>314118</td>\n      <td>217257</td>\n    </tr>\n    <tr>\n      <th>170</th>\n      <td>SR</td>\n      <td>Suriname</td>\n      <td>586632</td>\n      <td>581372</td>\n      <td>559143</td>\n      <td>529131</td>\n      <td>470949</td>\n      <td>405168</td>\n    </tr>\n    <tr>\n      <th>171</th>\n      <td>CV</td>\n      <td>Cape Verde</td>\n      <td>555987</td>\n      <td>549935</td>\n      <td>524743</td>\n      <td>492654</td>\n      <td>428188</td>\n      <td>337950</td>\n    </tr>\n    <tr>\n      <th>172</th>\n      <td>MV</td>\n      <td>Maldives</td>\n      <td>540544</td>\n      <td>530953</td>\n      <td>454915</td>\n      <td>365734</td>\n      <td>279397</td>\n      <td>223158</td>\n    </tr>\n    <tr>\n      <th>173</th>\n      <td>MT</td>\n      <td>Malta</td>\n      <td>441543</td>\n      <td>440371</td>\n      <td>433559</td>\n      <td>414253</td>\n      <td>393645</td>\n      <td>362015</td>\n    </tr>\n    <tr>\n      <th>174</th>\n      <td>BN</td>\n      <td>Brunei</td>\n      <td>437479</td>\n      <td>433285</td>\n      <td>414907</td>\n      <td>388645</td>\n      <td>333165</td>\n      <td>258721</td>\n    </tr>\n    <tr>\n      <th>175</th>\n      <td>GP</td>\n      <td>Guadeloupe</td>\n      <td>400124</td>\n      <td>400056</td>\n      <td>400255</td>\n      <td>406070</td>\n      <td>422051</td>\n      <td>389249</td>\n    </tr>\n    <tr>\n      <th>176</th>\n      <td>BZ</td>\n      <td>Belize</td>\n      <td>397628</td>\n      <td>390353</td>\n      <td>360933</td>\n      <td>322464</td>\n      <td>247315</td>\n      <td>187552</td>\n    </tr>\n    <tr>\n      <th>177</th>\n      <td>BS</td>\n      <td>Bahamas</td>\n      <td>393244</td>\n      <td>389482</td>\n      <td>374205</td>\n      <td>354941</td>\n      <td>298051</td>\n      <td>256223</td>\n    </tr>\n    <tr>\n      <th>178</th>\n      <td>MQ</td>\n      <td>Martinique</td>\n      <td>375265</td>\n      <td>375554</td>\n      <td>378478</td>\n      <td>394663</td>\n      <td>387004</td>\n      <td>358449</td>\n    </tr>\n    <tr>\n      <th>179</th>\n      <td>IS</td>\n      <td>Iceland</td>\n      <td>341243</td>\n      <td>339031</td>\n      <td>330243</td>\n      <td>320328</td>\n      <td>280435</td>\n      <td>255043</td>\n    </tr>\n    <tr>\n      <th>180</th>\n      <td>VU</td>\n      <td>Vanuatu</td>\n      <td>307145</td>\n      <td>299882</td>\n      <td>271130</td>\n      <td>236210</td>\n      <td>184972</td>\n      <td>146572</td>\n    </tr>\n    <tr>\n      <th>181</th>\n      <td>GF</td>\n      <td>French Guiana</td>\n      <td>298682</td>\n      <td>290832</td>\n      <td>260999</td>\n      <td>233002</td>\n      <td>163165</td>\n      <td>115783</td>\n    </tr>\n    <tr>\n      <th>182</th>\n      <td>BB</td>\n      <td>Barbados</td>\n      <td>287375</td>\n      <td>287025</td>\n      <td>285324</td>\n      <td>282131</td>\n      <td>271515</td>\n      <td>260935</td>\n    </tr>\n    <tr>\n      <th>183</th>\n      <td>NC</td>\n      <td>New Caledonia</td>\n      <td>285498</td>\n      <td>282750</td>\n      <td>271065</td>\n      <td>253527</td>\n      <td>217269</td>\n      <td>170335</td>\n    </tr>\n    <tr>\n      <th>184</th>\n      <td>PF</td>\n      <td>French Polynesia</td>\n      <td>280908</td>\n      <td>279287</td>\n      <td>273124</td>\n      <td>266455</td>\n      <td>240685</td>\n      <td>199905</td>\n    </tr>\n    <tr>\n      <th>185</th>\n      <td>YT</td>\n      <td>Mayotte</td>\n      <td>272815</td>\n      <td>266150</td>\n      <td>240020</td>\n      <td>208718</td>\n      <td>150331</td>\n      <td>94783</td>\n    </tr>\n    <tr>\n      <th>186</th>\n      <td>ST</td>\n      <td>Sao Tome and Principe</td>\n      <td>219159</td>\n      <td>215055</td>\n      <td>199432</td>\n      <td>180370</td>\n      <td>142262</td>\n      <td>119209</td>\n    </tr>\n    <tr>\n      <th>187</th>\n      <td>WS</td>\n      <td>Samoa</td>\n      <td>198414</td>\n      <td>197097</td>\n      <td>193513</td>\n      <td>185949</td>\n      <td>174454</td>\n      <td>162803</td>\n    </tr>\n    <tr>\n      <th>188</th>\n      <td>LC</td>\n      <td>Saint Lucia</td>\n      <td>183627</td>\n      <td>182790</td>\n      <td>179125</td>\n      <td>174085</td>\n      <td>156728</td>\n      <td>138020</td>\n    </tr>\n    <tr>\n      <th>189</th>\n      <td>GU</td>\n      <td>Guam</td>\n      <td>168775</td>\n      <td>167294</td>\n      <td>161852</td>\n      <td>159444</td>\n      <td>155329</td>\n      <td>130482</td>\n    </tr>\n    <tr>\n      <th>190</th>\n      <td>CW</td>\n      <td>Curacao</td>\n      <td>164093</td>\n      <td>163424</td>\n      <td>159847</td>\n      <td>149192</td>\n      <td>132140</td>\n      <td>146670</td>\n    </tr>\n    <tr>\n      <th>191</th>\n      <td>KI</td>\n      <td>Kiribati</td>\n      <td>119449</td>\n      <td>117606</td>\n      <td>110930</td>\n      <td>102927</td>\n      <td>84396</td>\n      <td>72400</td>\n    </tr>\n    <tr>\n      <th>192</th>\n      <td>FM</td>\n      <td>Micronesia</td>\n      <td>115023</td>\n      <td>113815</td>\n      <td>108895</td>\n      <td>102911</td>\n      <td>107402</td>\n      <td>96301</td>\n    </tr>\n    <tr>\n      <th>193</th>\n      <td>GD</td>\n      <td>Grenada</td>\n      <td>112523</td>\n      <td>112002</td>\n      <td>109598</td>\n      <td>106232</td>\n      <td>102833</td>\n      <td>96331</td>\n    </tr>\n    <tr>\n      <th>194</th>\n      <td>VC</td>\n      <td>Saint Vincent and the Grenadines</td>\n      <td>110940</td>\n      <td>110589</td>\n      <td>109148</td>\n      <td>108255</td>\n      <td>107783</td>\n      <td>107484</td>\n    </tr>\n    <tr>\n      <th>195</th>\n      <td>AW</td>\n      <td>Aruba</td>\n      <td>106766</td>\n      <td>106314</td>\n      <td>104341</td>\n      <td>101669</td>\n      <td>90853</td>\n      <td>62148</td>\n    </tr>\n    <tr>\n      <th>196</th>\n      <td>VI</td>\n      <td>United States Virgin Islands</td>\n      <td>104425</td>\n      <td>104577</td>\n      <td>104958</td>\n      <td>106087</td>\n      <td>108722</td>\n      <td>103756</td>\n    </tr>\n    <tr>\n      <th>197</th>\n      <td>TO</td>\n      <td>Tonga</td>\n      <td>105695</td>\n      <td>104494</td>\n      <td>100781</td>\n      <td>103986</td>\n      <td>97973</td>\n      <td>95069</td>\n    </tr>\n    <tr>\n      <th>198</th>\n      <td>SC</td>\n      <td>Seychelles</td>\n      <td>98347</td>\n      <td>97738</td>\n      <td>94978</td>\n      <td>91264</td>\n      <td>80996</td>\n      <td>70570</td>\n    </tr>\n    <tr>\n      <th>199</th>\n      <td>AG</td>\n      <td>Antigua and Barbuda</td>\n      <td>97929</td>\n      <td>97118</td>\n      <td>93566</td>\n      <td>88027</td>\n      <td>76016</td>\n      <td>62528</td>\n    </tr>\n    <tr>\n      <th>200</th>\n      <td>IM</td>\n      <td>Isle of Man</td>\n      <td>85033</td>\n      <td>84584</td>\n      <td>83234</td>\n      <td>84857</td>\n      <td>76941</td>\n      <td>70298</td>\n    </tr>\n    <tr>\n      <th>201</th>\n      <td>AD</td>\n      <td>Andorra</td>\n      <td>77265</td>\n      <td>77142</td>\n      <td>78011</td>\n      <td>84449</td>\n      <td>65390</td>\n      <td>54508</td>\n    </tr>\n    <tr>\n      <th>202</th>\n      <td>DM</td>\n      <td>Dominica</td>\n      <td>71986</td>\n      <td>71808</td>\n      <td>71183</td>\n      <td>70878</td>\n      <td>69650</td>\n      <td>70419</td>\n    </tr>\n    <tr>\n      <th>203</th>\n      <td>KY</td>\n      <td>Cayman Islands</td>\n      <td>65722</td>\n      <td>64948</td>\n      <td>61724</td>\n      <td>56672</td>\n      <td>42303</td>\n      <td>25311</td>\n    </tr>\n    <tr>\n      <th>204</th>\n      <td>BM</td>\n      <td>Bermuda</td>\n      <td>62278</td>\n      <td>62506</td>\n      <td>63692</td>\n      <td>65388</td>\n      <td>65012</td>\n      <td>61633</td>\n    </tr>\n    <tr>\n      <th>205</th>\n      <td>MH</td>\n      <td>Marshall Islands</td>\n      <td>59190</td>\n      <td>58791</td>\n      <td>57438</td>\n      <td>56366</td>\n      <td>50753</td>\n      <td>47271</td>\n    </tr>\n    <tr>\n      <th>206</th>\n      <td>MP</td>\n      <td>Northern Mariana Islands</td>\n      <td>57559</td>\n      <td>57216</td>\n      <td>55780</td>\n      <td>53971</td>\n      <td>57453</td>\n      <td>45751</td>\n    </tr>\n    <tr>\n      <th>207</th>\n      <td>GL</td>\n      <td>Greenland</td>\n      <td>56770</td>\n      <td>56672</td>\n      <td>56376</td>\n      <td>56638</td>\n      <td>56175</td>\n      <td>55604</td>\n    </tr>\n    <tr>\n      <th>208</th>\n      <td>AS</td>\n      <td>American Samoa</td>\n      <td>55191</td>\n      <td>55312</td>\n      <td>55812</td>\n      <td>56078</td>\n      <td>57821</td>\n      <td>47347</td>\n    </tr>\n    <tr>\n      <th>209</th>\n      <td>KN</td>\n      <td>Saint Kitts and Nevis</td>\n      <td>53199</td>\n      <td>52823</td>\n      <td>51203</td>\n      <td>49016</td>\n      <td>44074</td>\n      <td>40259</td>\n    </tr>\n    <tr>\n      <th>210</th>\n      <td>FO</td>\n      <td>Faroe Islands</td>\n      <td>48863</td>\n      <td>48678</td>\n      <td>48051</td>\n      <td>47813</td>\n      <td>46735</td>\n      <td>47273</td>\n    </tr>\n    <tr>\n      <th>211</th>\n      <td>SX</td>\n      <td>Sint Maarten</td>\n      <td>42876</td>\n      <td>42388</td>\n      <td>39968</td>\n      <td>34168</td>\n      <td>32564</td>\n      <td>28811</td>\n    </tr>\n    <tr>\n      <th>212</th>\n      <td>MC</td>\n      <td>Monaco</td>\n      <td>39242</td>\n      <td>38964</td>\n      <td>37718</td>\n      <td>35611</td>\n      <td>32147</td>\n      <td>29438</td>\n    </tr>\n    <tr>\n      <th>213</th>\n      <td>TC</td>\n      <td>Turks and Caicos Islands</td>\n      <td>38717</td>\n      <td>38191</td>\n      <td>35981</td>\n      <td>32659</td>\n      <td>20164</td>\n      <td>12110</td>\n    </tr>\n    <tr>\n      <th>214</th>\n      <td>LI</td>\n      <td>Liechtenstein</td>\n      <td>38128</td>\n      <td>38019</td>\n      <td>37470</td>\n      <td>35994</td>\n      <td>33184</td>\n      <td>28789</td>\n    </tr>\n    <tr>\n      <th>215</th>\n      <td>MF</td>\n      <td>Saint Martin</td>\n      <td>38666</td>\n      <td>38001</td>\n      <td>35858</td>\n      <td>37582</td>\n      <td>28935</td>\n      <td>31520</td>\n    </tr>\n    <tr>\n      <th>216</th>\n      <td>SM</td>\n      <td>San Marino</td>\n      <td>33931</td>\n      <td>33860</td>\n      <td>33272</td>\n      <td>31229</td>\n      <td>27462</td>\n      <td>24125</td>\n    </tr>\n    <tr>\n      <th>217</th>\n      <td>GI</td>\n      <td>Gibraltar</td>\n      <td>33691</td>\n      <td>33701</td>\n      <td>33736</td>\n      <td>33585</td>\n      <td>31077</td>\n      <td>29147</td>\n    </tr>\n    <tr>\n      <th>218</th>\n      <td>VG</td>\n      <td>British Virgin Islands</td>\n      <td>30231</td>\n      <td>30030</td>\n      <td>29151</td>\n      <td>27794</td>\n      <td>20311</td>\n      <td>17489</td>\n    </tr>\n    <tr>\n      <th>219</th>\n      <td>PW</td>\n      <td>Palau</td>\n      <td>18094</td>\n      <td>18008</td>\n      <td>17665</td>\n      <td>17955</td>\n      <td>19105</td>\n      <td>15058</td>\n    </tr>\n    <tr>\n      <th>220</th>\n      <td>CK</td>\n      <td>Cook Islands</td>\n      <td>17564</td>\n      <td>17548</td>\n      <td>17586</td>\n      <td>18391</td>\n      <td>17930</td>\n      <td>18191</td>\n    </tr>\n    <tr>\n      <th>221</th>\n      <td>AI</td>\n      <td>Anguilla</td>\n      <td>15003</td>\n      <td>14869</td>\n      <td>14279</td>\n      <td>13437</td>\n      <td>11252</td>\n      <td>8899</td>\n    </tr>\n    <tr>\n      <th>222</th>\n      <td>TV</td>\n      <td>Tuvalu</td>\n      <td>11792</td>\n      <td>11645</td>\n      <td>11099</td>\n      <td>10530</td>\n      <td>9394</td>\n      <td>8913</td>\n    </tr>\n    <tr>\n      <th>223</th>\n      <td>WF</td>\n      <td>Wallis and Futuna</td>\n      <td>11239</td>\n      <td>11432</td>\n      <td>12265</td>\n      <td>12689</td>\n      <td>14694</td>\n      <td>13800</td>\n    </tr>\n    <tr>\n      <th>224</th>\n      <td>NR</td>\n      <td>Nauru</td>\n      <td>10824</td>\n      <td>10755</td>\n      <td>10383</td>\n      <td>10005</td>\n      <td>10337</td>\n      <td>9505</td>\n    </tr>\n    <tr>\n      <th>225</th>\n      <td>BL</td>\n      <td>Saint Barthelemy</td>\n      <td>9877</td>\n      <td>9847</td>\n      <td>9693</td>\n      <td>9234</td>\n      <td>7427</td>\n      <td>5338</td>\n    </tr>\n    <tr>\n      <th>226</th>\n      <td>PM</td>\n      <td>Saint Pierre and Miquelon</td>\n      <td>5794</td>\n      <td>5822</td>\n      <td>5992</td>\n      <td>6353</td>\n      <td>6294</td>\n      <td>6393</td>\n    </tr>\n    <tr>\n      <th>227</th>\n      <td>MS</td>\n      <td>Montserrat</td>\n      <td>4992</td>\n      <td>4989</td>\n      <td>4967</td>\n      <td>4899</td>\n      <td>4928</td>\n      <td>10615</td>\n    </tr>\n    <tr>\n      <th>228</th>\n      <td>FK</td>\n      <td>Falkland Islands</td>\n      <td>3480</td>\n      <td>3377</td>\n      <td>2833</td>\n      <td>2901</td>\n      <td>2892</td>\n      <td>1982</td>\n    </tr>\n    <tr>\n      <th>229</th>\n      <td>NU</td>\n      <td>Niue</td>\n      <td>1626</td>\n      <td>1615</td>\n      <td>1619</td>\n      <td>1618</td>\n      <td>1899</td>\n      <td>2329</td>\n    </tr>\n    <tr>\n      <th>230</th>\n      <td>TK</td>\n      <td>Tokelau</td>\n      <td>1357</td>\n      <td>1340</td>\n      <td>1252</td>\n      <td>1140</td>\n      <td>1554</td>\n      <td>1608</td>\n    </tr>\n    <tr>\n      <th>231</th>\n      <td>VA</td>\n      <td>Vatican City</td>\n      <td>801</td>\n      <td>799</td>\n      <td>802</td>\n      <td>794</td>\n      <td>785</td>\n      <td>768</td>\n    </tr>\n  </tbody>\n</table>\n</div>"
     },
     "metadata": {},
     "execution_count": 449
    }
   ],
   "source": [
    "# read Countries population data from csv(source:https://worldpopulationreview.com) into dataframe\n",
    "df_countries = pd.read_csv('static/data/csvData.csv')\n",
    "# rename the columns\n",
    "df_countries.rename(columns={'cca2':'Country_Code',\n",
    "                             'name':'Country',\n",
    "                             'pop2020':'2020',\n",
    "                             'pop2019':'2019',\n",
    "                             'pop2015':'2015',\n",
    "                             'pop2010':'2010',\n",
    "                             'pop2000':'2000',\n",
    "                             'pop1990':'1990' \n",
    "                            },inplace=True)\n",
    "\n",
    "# eliminating unnessasary data\n",
    "df_countries = df_countries.iloc[:,[0,1,2,3,6,7,8,9]]\n",
    "\n",
    "# Removing decimal point from data\n",
    "# Loop through the columns\n",
    "for col in df_countries:\n",
    "    # performing operations on columns other than Country column\n",
    "    if col not in [\"Country_Code\", \"Country\"]:\n",
    "        # correcting the decimal positions\n",
    "        df_countries[col] = (df_countries[col] * 1000).astype(int)\n",
    "\n",
    "df_countries.head()"
   ]
  },
  {
   "cell_type": "code",
   "execution_count": 450,
   "metadata": {
    "ExecuteTime": {
     "end_time": "2021-01-13T08:30:59.737989Z",
     "start_time": "2021-01-13T08:30:59.599060Z"
    }
   },
   "outputs": [
    {
     "output_type": "execute_result",
     "data": {
      "text/plain": [
       "          Country Country_Code_3        2016        2017        2018\n",
       "0     Afghanistan            AFG  35383128.0  36296400.0  37172386.0\n",
       "1         Albania            ALB   2876101.0   2873457.0   2866376.0\n",
       "2         Algeria            DZA  40551404.0  41389198.0  42228429.0\n",
       "3  American Samoa            ASM     55741.0     55620.0     55465.0\n",
       "4         Andorra            AND     77297.0     77001.0     77006.0"
      ],
      "text/html": "<div>\n<style scoped>\n    .dataframe tbody tr th:only-of-type {\n        vertical-align: middle;\n    }\n\n    .dataframe tbody tr th {\n        vertical-align: top;\n    }\n\n    .dataframe thead th {\n        text-align: right;\n    }\n</style>\n<table border=\"1\" class=\"dataframe\">\n  <thead>\n    <tr style=\"text-align: right;\">\n      <th></th>\n      <th>Country</th>\n      <th>Country_Code_3</th>\n      <th>2016</th>\n      <th>2017</th>\n      <th>2018</th>\n    </tr>\n  </thead>\n  <tbody>\n    <tr>\n      <th>0</th>\n      <td>Afghanistan</td>\n      <td>AFG</td>\n      <td>35383128.0</td>\n      <td>36296400.0</td>\n      <td>37172386.0</td>\n    </tr>\n    <tr>\n      <th>1</th>\n      <td>Albania</td>\n      <td>ALB</td>\n      <td>2876101.0</td>\n      <td>2873457.0</td>\n      <td>2866376.0</td>\n    </tr>\n    <tr>\n      <th>2</th>\n      <td>Algeria</td>\n      <td>DZA</td>\n      <td>40551404.0</td>\n      <td>41389198.0</td>\n      <td>42228429.0</td>\n    </tr>\n    <tr>\n      <th>3</th>\n      <td>American Samoa</td>\n      <td>ASM</td>\n      <td>55741.0</td>\n      <td>55620.0</td>\n      <td>55465.0</td>\n    </tr>\n    <tr>\n      <th>4</th>\n      <td>Andorra</td>\n      <td>AND</td>\n      <td>77297.0</td>\n      <td>77001.0</td>\n      <td>77006.0</td>\n    </tr>\n  </tbody>\n</table>\n</div>"
     },
     "metadata": {},
     "execution_count": 450
    }
   ],
   "source": [
    "# Another Dataset\n",
    "# Cleaning csv Population data from https://datacatalog.worldbank.org\n",
    "# reading csv's into dataframes\n",
    "df_population = pd.read_csv('static/data/population.csv')\n",
    "\n",
    "# Function to Clean each dataframes\n",
    "def clean_dataFrames(df, col_list):\n",
    "    # eliminating unnecessary data\n",
    "    df = df.iloc[0:217, col_list]\n",
    "    # renaming columns\n",
    "    df.rename(columns= {df.columns[0]: \"Name\"}, inplace = True)\n",
    "    df = df.rename(columns = lambda x : (str(x)[:-9]))\n",
    "    df.rename(columns= {df.columns[0]: \"Country\", df.columns[1]: \"Country_Code_3\"}, inplace = True)\n",
    "    return df\n",
    "\n",
    "# list of required column indexes\n",
    "col_list = [2,3,11,12,13]\n",
    "# Calling clean_dataFrames function passing the dataframe as parameter\n",
    "df_population = clean_dataFrames(df_population, col_list)\n",
    "\n",
    "# Removing row with no values for the required years(Country Eritrea)\n",
    "df_population.drop(df_population.index[df_population['Country'] == 'Eritrea'], inplace = True)\n",
    "\n",
    "# Loop through the columns to covert values from string to \n",
    "for col in df_population:\n",
    "    # performing operations on columns other than Country and Country_Code columns\n",
    "    if col not in [\"Country_Code_3\", \"Country\"]:\n",
    "        df_population[col] = df_population[col].astype(float)  # Converting string to number\n",
    "\n",
    "df_population.head()"
   ]
  },
  {
   "cell_type": "code",
   "execution_count": 451,
   "metadata": {
    "ExecuteTime": {
     "end_time": "2021-01-13T08:30:59.785944Z",
     "start_time": "2021-01-13T08:30:59.739973Z"
    }
   },
   "outputs": [
    {
     "output_type": "execute_result",
     "data": {
      "text/plain": [
       "  Country_Code        Country        2020        2019          2018  \\\n",
       "0           CN          China  1439323776  1433783686  1.392730e+09   \n",
       "1           IN          India  1380004385  1366417754  1.352617e+09   \n",
       "2           US  United States   331002651   329064917  3.266875e+08   \n",
       "3           ID      Indonesia   273523615   270625568  2.676634e+08   \n",
       "4           PK       Pakistan   220892340   216565318  2.122150e+08   \n",
       "\n",
       "           2017          2016        2015        2010        2000        1990  \n",
       "0  1.386395e+09  1.378665e+09  1406847870  1368810615  1290550765  1176883674  \n",
       "1  1.338659e+09  1.324510e+09  1310152403  1234281170  1056575549   873277798  \n",
       "2  3.249855e+08  3.229413e+08   320878310   309011475   281710909   252120308  \n",
       "3  2.646459e+08  2.615542e+08   258383256   241834215   211513823   181413402  \n",
       "4  2.078967e+08  2.036273e+08   199426963   179424641   142343578   107647921  "
      ],
      "text/html": "<div>\n<style scoped>\n    .dataframe tbody tr th:only-of-type {\n        vertical-align: middle;\n    }\n\n    .dataframe tbody tr th {\n        vertical-align: top;\n    }\n\n    .dataframe thead th {\n        text-align: right;\n    }\n</style>\n<table border=\"1\" class=\"dataframe\">\n  <thead>\n    <tr style=\"text-align: right;\">\n      <th></th>\n      <th>Country_Code</th>\n      <th>Country</th>\n      <th>2020</th>\n      <th>2019</th>\n      <th>2018</th>\n      <th>2017</th>\n      <th>2016</th>\n      <th>2015</th>\n      <th>2010</th>\n      <th>2000</th>\n      <th>1990</th>\n    </tr>\n  </thead>\n  <tbody>\n    <tr>\n      <th>0</th>\n      <td>CN</td>\n      <td>China</td>\n      <td>1439323776</td>\n      <td>1433783686</td>\n      <td>1.392730e+09</td>\n      <td>1.386395e+09</td>\n      <td>1.378665e+09</td>\n      <td>1406847870</td>\n      <td>1368810615</td>\n      <td>1290550765</td>\n      <td>1176883674</td>\n    </tr>\n    <tr>\n      <th>1</th>\n      <td>IN</td>\n      <td>India</td>\n      <td>1380004385</td>\n      <td>1366417754</td>\n      <td>1.352617e+09</td>\n      <td>1.338659e+09</td>\n      <td>1.324510e+09</td>\n      <td>1310152403</td>\n      <td>1234281170</td>\n      <td>1056575549</td>\n      <td>873277798</td>\n    </tr>\n    <tr>\n      <th>2</th>\n      <td>US</td>\n      <td>United States</td>\n      <td>331002651</td>\n      <td>329064917</td>\n      <td>3.266875e+08</td>\n      <td>3.249855e+08</td>\n      <td>3.229413e+08</td>\n      <td>320878310</td>\n      <td>309011475</td>\n      <td>281710909</td>\n      <td>252120308</td>\n    </tr>\n    <tr>\n      <th>3</th>\n      <td>ID</td>\n      <td>Indonesia</td>\n      <td>273523615</td>\n      <td>270625568</td>\n      <td>2.676634e+08</td>\n      <td>2.646459e+08</td>\n      <td>2.615542e+08</td>\n      <td>258383256</td>\n      <td>241834215</td>\n      <td>211513823</td>\n      <td>181413402</td>\n    </tr>\n    <tr>\n      <th>4</th>\n      <td>PK</td>\n      <td>Pakistan</td>\n      <td>220892340</td>\n      <td>216565318</td>\n      <td>2.122150e+08</td>\n      <td>2.078967e+08</td>\n      <td>2.036273e+08</td>\n      <td>199426963</td>\n      <td>179424641</td>\n      <td>142343578</td>\n      <td>107647921</td>\n    </tr>\n  </tbody>\n</table>\n</div>"
     },
     "metadata": {},
     "execution_count": 451
    }
   ],
   "source": [
    "# merging two dataframes for additional years data\n",
    "\n",
    "# merging df_population with df_countryCode\n",
    "df_population = df_countryCode.merge(df_population, on=\"Country_Code_3\", how=\"right\")\n",
    "# removing Country_Code_3 column\n",
    "del df_population['Country_Code_3'] \n",
    "\n",
    "\n",
    "# merging df_population with df_countries\n",
    "df_countries = df_countries.merge(df_population, on=\"Country_Code\", how=\"left\")\n",
    "# removing Country_Code_3 column\n",
    "del df_countries['Country_y']\n",
    "# renaming columns\n",
    "df_countries.rename(columns= {\"Country_x\": \"Country\"}, inplace = True)\n",
    "# reordering the columns\n",
    "df_countries = df_countries.iloc[:,[0,1,2,3,10,9,8,4,5,6,7]]\n",
    "# # Replace null values with 0\n",
    "df_countries.fillna(0,inplace = True)\n",
    "\n",
    "df_countries.head()"
   ]
  },
  {
   "cell_type": "markdown",
   "metadata": {},
   "source": [
    "### Load Data into MongoDB"
   ]
  },
  {
   "cell_type": "code",
   "execution_count": 452,
   "metadata": {
    "ExecuteTime": {
     "end_time": "2021-01-13T08:31:00.052209Z",
     "start_time": "2021-01-13T08:30:59.914864Z"
    },
    "tags": []
   },
   "outputs": [
    {
     "output_type": "stream",
     "name": "stdout",
     "text": [
      "['countriesPopulation', 'latestPopulation', 'citiesPopulation']\n"
     ]
    }
   ],
   "source": [
    "# Loading Data into MongoDB\n",
    "conn = 'mongodb://localhost:27017'\n",
    "client = pymongo.MongoClient(conn)\n",
    "\n",
    "db_name = \"populationDB\"\n",
    "# # Drop database if exists\n",
    "if bool(db_name in client.list_database_names()):\n",
    "    client.drop_database(db_name)\n",
    "\n",
    "# Creating Database and collection in mongodb\n",
    "db = client[db_name]\n",
    "countriesPop = db[\"countriesPopulation\"]\n",
    "citiesPop = db[\"citiesPopulation\"]\n",
    "latestPop = db[\"latestPopulation\"]\n",
    "\n",
    "\n",
    "# Function to insert Dataframes into mongodb collections\n",
    "def insertToDB(df, collection):\n",
    "    data_dict = df.to_dict(\"records\") # Convert to dictionary\n",
    "    # removing index from data\n",
    "    data_dict = [{k: v for k, v in d.items() if k != 'index'} for d in data_dict]\n",
    "    collection.insert_one({\"data\":data_dict}) # Insert dict to collection\n",
    "\n",
    "\n",
    "# Calling function to insert each dataframes into mongoDB collections\n",
    "insertToDB(df_countries, countriesPop)\n",
    "insertToDB(df_cityPop, citiesPop)\n",
    "insertToDB(df_LatestPop, latestPop)\n",
    "\n",
    "\n",
    "print(db.list_collection_names())"
   ]
  },
  {
   "cell_type": "code",
   "execution_count": null,
   "metadata": {},
   "outputs": [],
   "source": []
  }
 ],
 "metadata": {
  "hide_input": false,
  "kernelspec": {
   "display_name": "Python 3",
   "language": "python",
   "name": "python3"
  },
  "toc": {
   "base_numbering": 1,
   "nav_menu": {},
   "number_sections": true,
   "sideBar": true,
   "skip_h1_title": false,
   "title_cell": "Table of Contents",
   "title_sidebar": "Contents",
   "toc_cell": false,
   "toc_position": {},
   "toc_section_display": true,
   "toc_window_display": false
  },
  "varInspector": {
   "cols": {
    "lenName": 16,
    "lenType": 16,
    "lenVar": 40
   },
   "kernels_config": {
    "python": {
     "delete_cmd_postfix": "",
     "delete_cmd_prefix": "del ",
     "library": "var_list.py",
     "varRefreshCmd": "print(var_dic_list())"
    },
    "r": {
     "delete_cmd_postfix": ") ",
     "delete_cmd_prefix": "rm(",
     "library": "var_list.r",
     "varRefreshCmd": "cat(var_dic_list()) "
    }
   },
   "types_to_exclude": [
    "module",
    "function",
    "builtin_function_or_method",
    "instance",
    "_Feature"
   ],
   "window_display": false
  }
 },
 "nbformat": 4,
 "nbformat_minor": 4
}