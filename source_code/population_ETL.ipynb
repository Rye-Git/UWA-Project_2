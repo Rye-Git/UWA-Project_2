{
 "cells": [
  {
   "cell_type": "code",
   "execution_count": 228,
   "metadata": {
    "ExecuteTime": {
     "end_time": "2021-01-13T08:30:58.330601Z",
     "start_time": "2021-01-13T08:30:58.312612Z"
    }
   },
   "outputs": [],
   "source": [
    "import pandas as pd\n",
    "import pymongo\n",
    "import numpy as np\n",
    "\n",
    "\n",
    "pd.set_option(\"display.max_rows\", 300)"
   ]
  },
  {
   "cell_type": "markdown",
   "metadata": {},
   "source": [
    "### Extract and Clean Data"
   ]
  },
  {
   "cell_type": "markdown",
   "metadata": {},
   "source": [
    "#### Population of Cities"
   ]
  },
  {
   "cell_type": "code",
   "execution_count": 229,
   "metadata": {
    "ExecuteTime": {
     "end_time": "2021-01-13T08:30:59.127114Z",
     "start_time": "2021-01-13T08:30:58.332601Z"
    }
   },
   "outputs": [
    {
     "output_type": "execute_result",
     "data": {
      "text/plain": [
       "   Rank         City Country      2020      2019  Change\n",
       "0     1        Tokyo   Japan  37393128  37435192  -0.11%\n",
       "1     2        Delhi   India  30290936  29399140   3.03%\n",
       "2     3     Shanghai   China  27058480  26317104   2.82%\n",
       "3     4    Sao Paulo  Brazil  22043028  21846508   0.90%\n",
       "4     5  Mexico City  Mexico  21782378  21671908   0.51%"
      ],
      "text/html": "<div>\n<style scoped>\n    .dataframe tbody tr th:only-of-type {\n        vertical-align: middle;\n    }\n\n    .dataframe tbody tr th {\n        vertical-align: top;\n    }\n\n    .dataframe thead th {\n        text-align: right;\n    }\n</style>\n<table border=\"1\" class=\"dataframe\">\n  <thead>\n    <tr style=\"text-align: right;\">\n      <th></th>\n      <th>Rank</th>\n      <th>City</th>\n      <th>Country</th>\n      <th>2020</th>\n      <th>2019</th>\n      <th>Change</th>\n    </tr>\n  </thead>\n  <tbody>\n    <tr>\n      <th>0</th>\n      <td>1</td>\n      <td>Tokyo</td>\n      <td>Japan</td>\n      <td>37393128</td>\n      <td>37435192</td>\n      <td>-0.11%</td>\n    </tr>\n    <tr>\n      <th>1</th>\n      <td>2</td>\n      <td>Delhi</td>\n      <td>India</td>\n      <td>30290936</td>\n      <td>29399140</td>\n      <td>3.03%</td>\n    </tr>\n    <tr>\n      <th>2</th>\n      <td>3</td>\n      <td>Shanghai</td>\n      <td>China</td>\n      <td>27058480</td>\n      <td>26317104</td>\n      <td>2.82%</td>\n    </tr>\n    <tr>\n      <th>3</th>\n      <td>4</td>\n      <td>Sao Paulo</td>\n      <td>Brazil</td>\n      <td>22043028</td>\n      <td>21846508</td>\n      <td>0.90%</td>\n    </tr>\n    <tr>\n      <th>4</th>\n      <td>5</td>\n      <td>Mexico City</td>\n      <td>Mexico</td>\n      <td>21782378</td>\n      <td>21671908</td>\n      <td>0.51%</td>\n    </tr>\n  </tbody>\n</table>\n</div>"
     },
     "metadata": {},
     "execution_count": 229
    }
   ],
   "source": [
    "# url to scrape for the city population\n",
    "cities_url =\"https://worldpopulationreview.com/world-cities\"\n",
    "# Use pandas `read_html` to parse the url\n",
    "df_cityPop = pd.read_html(cities_url, header=0)[0]\n",
    "# rename the columns\n",
    "df_cityPop.rename(columns={'Name':'City', \n",
    "                           '2020 Population':'2020',\n",
    "                           '2019 Population':'2019'\n",
    "                          },inplace=True)\n",
    "# Replace null values with 0\n",
    "df_cityPop.fillna(0,inplace = True)\n",
    "#  converting column 2019 from float to int\n",
    "df_cityPop['2019'] = df_cityPop['2019'].apply(np.int32)\n",
    "\n",
    "df_cityPop.head()"
   ]
  },
  {
   "cell_type": "markdown",
   "metadata": {},
   "source": [
    "#### Live Population Data Scraped"
   ]
  },
  {
   "cell_type": "code",
   "execution_count": 230,
   "metadata": {
    "ExecuteTime": {
     "end_time": "2021-01-13T08:30:59.565090Z",
     "start_time": "2021-01-13T08:30:59.129097Z"
    }
   },
   "outputs": [
    {
     "output_type": "execute_result",
     "data": {
      "text/plain": [
       "         Country  2021 (Live)  Area_SqKm  Density_PerSqKm  Growth_Percentage  \\\n",
       "0          China   1442166775    9706961              148               0.39   \n",
       "1          India   1387177258    3287590              420               0.99   \n",
       "2  United States    332041150    9372610               35               0.59   \n",
       "3      Indonesia    275056196    1904569              144               1.07   \n",
       "4       Pakistan    223154088     881912              250               2.00   \n",
       "\n",
       "   World_Percentage  Rank  \n",
       "0             18.47     1  \n",
       "1             17.70     2  \n",
       "2              4.25     3  \n",
       "3              3.51     4  \n",
       "4              2.83     5  "
      ],
      "text/html": "<div>\n<style scoped>\n    .dataframe tbody tr th:only-of-type {\n        vertical-align: middle;\n    }\n\n    .dataframe tbody tr th {\n        vertical-align: top;\n    }\n\n    .dataframe thead th {\n        text-align: right;\n    }\n</style>\n<table border=\"1\" class=\"dataframe\">\n  <thead>\n    <tr style=\"text-align: right;\">\n      <th></th>\n      <th>Country</th>\n      <th>2021 (Live)</th>\n      <th>Area_SqKm</th>\n      <th>Density_PerSqKm</th>\n      <th>Growth_Percentage</th>\n      <th>World_Percentage</th>\n      <th>Rank</th>\n    </tr>\n  </thead>\n  <tbody>\n    <tr>\n      <th>0</th>\n      <td>China</td>\n      <td>1442166775</td>\n      <td>9706961</td>\n      <td>148</td>\n      <td>0.39</td>\n      <td>18.47</td>\n      <td>1</td>\n    </tr>\n    <tr>\n      <th>1</th>\n      <td>India</td>\n      <td>1387177258</td>\n      <td>3287590</td>\n      <td>420</td>\n      <td>0.99</td>\n      <td>17.70</td>\n      <td>2</td>\n    </tr>\n    <tr>\n      <th>2</th>\n      <td>United States</td>\n      <td>332041150</td>\n      <td>9372610</td>\n      <td>35</td>\n      <td>0.59</td>\n      <td>4.25</td>\n      <td>3</td>\n    </tr>\n    <tr>\n      <th>3</th>\n      <td>Indonesia</td>\n      <td>275056196</td>\n      <td>1904569</td>\n      <td>144</td>\n      <td>1.07</td>\n      <td>3.51</td>\n      <td>4</td>\n    </tr>\n    <tr>\n      <th>4</th>\n      <td>Pakistan</td>\n      <td>223154088</td>\n      <td>881912</td>\n      <td>250</td>\n      <td>2.00</td>\n      <td>2.83</td>\n      <td>5</td>\n    </tr>\n  </tbody>\n</table>\n</div>"
     },
     "metadata": {},
     "execution_count": 230
    }
   ],
   "source": [
    "# url to scrape for the Live population data\n",
    "countries_url =\"https://worldpopulationreview.com\"\n",
    "# Use pandas `read_html` to parse the url\n",
    "df_LatestPop = pd.read_html(countries_url, header=0)[0]\n",
    "# eliminating unnessasary data\n",
    "df_LatestPop = df_LatestPop.iloc[:,[1,2,4,5,6,7,8]]\n",
    "# rename the columns\n",
    "df_LatestPop.rename(columns={'Area':'Area_SqKm',\n",
    "                             '2019 Density':'Density_PerSqKm',\n",
    "                             'Growth Rate':'Growth_Percentage', \n",
    "                             'World %':'World_Percentage'\n",
    "                            },inplace=True)\n",
    "                            \n",
    "# Converting string values to numbers\n",
    "df_LatestPop['Area_SqKm'] = pd.to_numeric(df_LatestPop['Area_SqKm'].str.rsplit(' ', 0).str.get(0).str.replace(r',', ''))\n",
    "df_LatestPop['Density_PerSqKm'] = pd.to_numeric(df_LatestPop['Density_PerSqKm'].str.rsplit('/', 0).str.get(0).str.replace(r',', ''))\n",
    "df_LatestPop['Growth_Percentage'] = pd.to_numeric(df_LatestPop['Growth_Percentage'].str.rsplit('%', 0).str.get(0))\n",
    "df_LatestPop['World_Percentage'] = pd.to_numeric(df_LatestPop['World_Percentage'].str.rsplit('%', 0).str.get(0))\n",
    "df_LatestPop.head()"
   ]
  },
  {
   "source": [
    "#### Scraping Country codes to merge datasets with"
   ],
   "cell_type": "markdown",
   "metadata": {}
  },
  {
   "cell_type": "code",
   "execution_count": 231,
   "metadata": {},
   "outputs": [
    {
     "output_type": "execute_result",
     "data": {
      "text/plain": [
       "  Country_Code_2 Country_Code\n",
       "0             AF          AFG\n",
       "1             AX          ALA\n",
       "2             AL          ALB\n",
       "3             DZ          DZA\n",
       "4             AS          ASM"
      ],
      "text/html": "<div>\n<style scoped>\n    .dataframe tbody tr th:only-of-type {\n        vertical-align: middle;\n    }\n\n    .dataframe tbody tr th {\n        vertical-align: top;\n    }\n\n    .dataframe thead th {\n        text-align: right;\n    }\n</style>\n<table border=\"1\" class=\"dataframe\">\n  <thead>\n    <tr style=\"text-align: right;\">\n      <th></th>\n      <th>Country_Code_2</th>\n      <th>Country_Code</th>\n    </tr>\n  </thead>\n  <tbody>\n    <tr>\n      <th>0</th>\n      <td>AF</td>\n      <td>AFG</td>\n    </tr>\n    <tr>\n      <th>1</th>\n      <td>AX</td>\n      <td>ALA</td>\n    </tr>\n    <tr>\n      <th>2</th>\n      <td>AL</td>\n      <td>ALB</td>\n    </tr>\n    <tr>\n      <th>3</th>\n      <td>DZ</td>\n      <td>DZA</td>\n    </tr>\n    <tr>\n      <th>4</th>\n      <td>AS</td>\n      <td>ASM</td>\n    </tr>\n  </tbody>\n</table>\n</div>"
     },
     "metadata": {},
     "execution_count": 231
    }
   ],
   "source": [
    "# url to scrape for ISO 3166 country codes Alpha-2 and Alpha-3 from www.iban.com\n",
    "country_code_url =\"https://www.iban.com/country-codes\"\n",
    "# Use panda's `read_html` to parse the url\n",
    "df_countryCode = pd.read_html(country_code_url, header=0)[0]\n",
    "# eliminating unnessasary data\n",
    "df_countryCode = df_countryCode.iloc[:,[1,2]]\n",
    "# rename the columns\n",
    "df_countryCode.rename(columns={'Alpha-2 code':'Country_Code_2',\n",
    "                               'Alpha-3 code':'Country_Code'\n",
    "                              },inplace=True)\n",
    "df_countryCode.head()"
   ]
  },
  {
   "cell_type": "markdown",
   "metadata": {},
   "source": [
    "#### Population of Countries"
   ]
  },
  {
   "cell_type": "code",
   "execution_count": 232,
   "metadata": {
    "ExecuteTime": {
     "end_time": "2021-01-13T08:30:59.597061Z",
     "start_time": "2021-01-13T08:30:59.567079Z"
    }
   },
   "outputs": [
    {
     "output_type": "execute_result",
     "data": {
      "text/plain": [
       "  Country_Code_2        Country        2050        2030        2020  \\\n",
       "0             CN          China  1402405170  1464340159  1439323776   \n",
       "1             IN          India  1639176033  1503642322  1380004385   \n",
       "2             US  United States   379419102   349641876   331002651   \n",
       "3             ID      Indonesia   330904664   299198430   273523615   \n",
       "4             PK       Pakistan   338013196   262958794   220892340   \n",
       "\n",
       "         2019        2015        2010        2000        1990        1980  \\\n",
       "0  1433783686  1406847870  1368810615  1290550765  1176883674  1000089235   \n",
       "1  1366417754  1310152403  1234281170  1056575549   873277798   698952844   \n",
       "2   329064917   320878310   309011475   281710909   252120308   229476354   \n",
       "3   270625568   258383256   241834215   211513823   181413402   147447836   \n",
       "4   216565318   199426963   179424641   142343578   107647921    78054343   \n",
       "\n",
       "        1970  \n",
       "0  827601394  \n",
       "1  555189792  \n",
       "2  209513341  \n",
       "3  114793178  \n",
       "4   58142060  "
      ],
      "text/html": "<div>\n<style scoped>\n    .dataframe tbody tr th:only-of-type {\n        vertical-align: middle;\n    }\n\n    .dataframe tbody tr th {\n        vertical-align: top;\n    }\n\n    .dataframe thead th {\n        text-align: right;\n    }\n</style>\n<table border=\"1\" class=\"dataframe\">\n  <thead>\n    <tr style=\"text-align: right;\">\n      <th></th>\n      <th>Country_Code_2</th>\n      <th>Country</th>\n      <th>2050</th>\n      <th>2030</th>\n      <th>2020</th>\n      <th>2019</th>\n      <th>2015</th>\n      <th>2010</th>\n      <th>2000</th>\n      <th>1990</th>\n      <th>1980</th>\n      <th>1970</th>\n    </tr>\n  </thead>\n  <tbody>\n    <tr>\n      <th>0</th>\n      <td>CN</td>\n      <td>China</td>\n      <td>1402405170</td>\n      <td>1464340159</td>\n      <td>1439323776</td>\n      <td>1433783686</td>\n      <td>1406847870</td>\n      <td>1368810615</td>\n      <td>1290550765</td>\n      <td>1176883674</td>\n      <td>1000089235</td>\n      <td>827601394</td>\n    </tr>\n    <tr>\n      <th>1</th>\n      <td>IN</td>\n      <td>India</td>\n      <td>1639176033</td>\n      <td>1503642322</td>\n      <td>1380004385</td>\n      <td>1366417754</td>\n      <td>1310152403</td>\n      <td>1234281170</td>\n      <td>1056575549</td>\n      <td>873277798</td>\n      <td>698952844</td>\n      <td>555189792</td>\n    </tr>\n    <tr>\n      <th>2</th>\n      <td>US</td>\n      <td>United States</td>\n      <td>379419102</td>\n      <td>349641876</td>\n      <td>331002651</td>\n      <td>329064917</td>\n      <td>320878310</td>\n      <td>309011475</td>\n      <td>281710909</td>\n      <td>252120308</td>\n      <td>229476354</td>\n      <td>209513341</td>\n    </tr>\n    <tr>\n      <th>3</th>\n      <td>ID</td>\n      <td>Indonesia</td>\n      <td>330904664</td>\n      <td>299198430</td>\n      <td>273523615</td>\n      <td>270625568</td>\n      <td>258383256</td>\n      <td>241834215</td>\n      <td>211513823</td>\n      <td>181413402</td>\n      <td>147447836</td>\n      <td>114793178</td>\n    </tr>\n    <tr>\n      <th>4</th>\n      <td>PK</td>\n      <td>Pakistan</td>\n      <td>338013196</td>\n      <td>262958794</td>\n      <td>220892340</td>\n      <td>216565318</td>\n      <td>199426963</td>\n      <td>179424641</td>\n      <td>142343578</td>\n      <td>107647921</td>\n      <td>78054343</td>\n      <td>58142060</td>\n    </tr>\n  </tbody>\n</table>\n</div>"
     },
     "metadata": {},
     "execution_count": 232
    }
   ],
   "source": [
    "# read Countries population data from csv(source:https://worldpopulationreview.com) into dataframe\n",
    "df_countries = pd.read_csv('static/data/csvData.csv')\n",
    "# rename the columns\n",
    "df_countries.rename(columns={'cca2':'Country_Code_2',\n",
    "                             'name':'Country',\n",
    "                             'pop2050':'2050',\n",
    "                             'pop2030':'2030',\n",
    "                             'pop2020':'2020',\n",
    "                             'pop2019':'2019',\n",
    "                             'pop2015':'2015',\n",
    "                             'pop2010':'2010',\n",
    "                             'pop2000':'2000',\n",
    "                             'pop1990':'1990',\n",
    "                             'pop1980':'1980',\n",
    "                             'pop1970':'1970' \n",
    "                            },inplace=True)\n",
    "\n",
    "# # eliminating unnessasary data\n",
    "df_countries = df_countries.iloc[:,[0,1,4,5,2,3,6,7,8,9,10,11]]\n",
    "\n",
    "# Removing decimal point from data\n",
    "# Loop through the columns\n",
    "for col in df_countries:\n",
    "    # performing operations on columns other than Country column\n",
    "    if col not in [\"Country_Code_2\", \"Country\"]:\n",
    "        # correcting the decimal positions\n",
    "        df_countries[col] = (df_countries[col] * 1000).astype(int)\n",
    "\n",
    "df_countries.head()"
   ]
  },
  {
   "cell_type": "code",
   "execution_count": 233,
   "metadata": {
    "ExecuteTime": {
     "end_time": "2021-01-13T08:30:59.737989Z",
     "start_time": "2021-01-13T08:30:59.599060Z"
    }
   },
   "outputs": [
    {
     "output_type": "execute_result",
     "data": {
      "text/plain": [
       "          Country Country_Code      2016      2017      2018\n",
       "0     Afghanistan          AFG  35383128  36296400  37172386\n",
       "1         Albania          ALB   2876101   2873457   2866376\n",
       "2         Algeria          DZA  40551404  41389198  42228429\n",
       "3  American Samoa          ASM     55741     55620     55465\n",
       "4         Andorra          AND     77297     77001     77006"
      ],
      "text/html": "<div>\n<style scoped>\n    .dataframe tbody tr th:only-of-type {\n        vertical-align: middle;\n    }\n\n    .dataframe tbody tr th {\n        vertical-align: top;\n    }\n\n    .dataframe thead th {\n        text-align: right;\n    }\n</style>\n<table border=\"1\" class=\"dataframe\">\n  <thead>\n    <tr style=\"text-align: right;\">\n      <th></th>\n      <th>Country</th>\n      <th>Country_Code</th>\n      <th>2016</th>\n      <th>2017</th>\n      <th>2018</th>\n    </tr>\n  </thead>\n  <tbody>\n    <tr>\n      <th>0</th>\n      <td>Afghanistan</td>\n      <td>AFG</td>\n      <td>35383128</td>\n      <td>36296400</td>\n      <td>37172386</td>\n    </tr>\n    <tr>\n      <th>1</th>\n      <td>Albania</td>\n      <td>ALB</td>\n      <td>2876101</td>\n      <td>2873457</td>\n      <td>2866376</td>\n    </tr>\n    <tr>\n      <th>2</th>\n      <td>Algeria</td>\n      <td>DZA</td>\n      <td>40551404</td>\n      <td>41389198</td>\n      <td>42228429</td>\n    </tr>\n    <tr>\n      <th>3</th>\n      <td>American Samoa</td>\n      <td>ASM</td>\n      <td>55741</td>\n      <td>55620</td>\n      <td>55465</td>\n    </tr>\n    <tr>\n      <th>4</th>\n      <td>Andorra</td>\n      <td>AND</td>\n      <td>77297</td>\n      <td>77001</td>\n      <td>77006</td>\n    </tr>\n  </tbody>\n</table>\n</div>"
     },
     "metadata": {},
     "execution_count": 233
    }
   ],
   "source": [
    "# Another Dataset\n",
    "# Cleaning csv Population data from https://datacatalog.worldbank.org\n",
    "# reading csv's into dataframes\n",
    "df_population = pd.read_csv('static/data/population.csv')\n",
    "\n",
    "# Function to Clean each dataframes\n",
    "def clean_dataFrames(df, col_list):\n",
    "    # eliminating unnecessary data\n",
    "    df = df.iloc[0:217, col_list]\n",
    "    # renaming columns\n",
    "    df.rename(columns= {df.columns[0]: \"Name\"}, inplace = True)\n",
    "    df = df.rename(columns = lambda x : (str(x)[:-9]))\n",
    "    df.rename(columns= {df.columns[0]: \"Country\", df.columns[1]: \"Country_Code\"}, inplace = True)\n",
    "    return df\n",
    "\n",
    "# list of required column indexes\n",
    "col_list = [2,3,11,12,13]\n",
    "# Calling clean_dataFrames function passing the dataframe as parameter\n",
    "df_population = clean_dataFrames(df_population, col_list)\n",
    "\n",
    "# Removing row with no values for the required years(Country Eritrea)\n",
    "df_population.drop(df_population.index[df_population['Country'] == 'Eritrea'], inplace = True)\n",
    "\n",
    "# Loop through the columns to covert values from string to \n",
    "for col in df_population:\n",
    "    # on columns other than Country and Country_Code_2\n",
    "    if col not in [\"Country_Code\", \"Country\"]:\n",
    "        # Converting string to number\n",
    "        df_population[col] = df_population[col].astype(float).apply(np.int32)\n",
    "\n",
    "df_population.head()"
   ]
  },
  {
   "cell_type": "code",
   "execution_count": 234,
   "metadata": {
    "ExecuteTime": {
     "end_time": "2021-01-13T08:30:59.785944Z",
     "start_time": "2021-01-13T08:30:59.739973Z"
    }
   },
   "outputs": [
    {
     "output_type": "execute_result",
     "data": {
      "text/plain": [
       "         Country Country_Code        2050        2030        2020        2019  \\\n",
       "0          China          CHN  1402405170  1464340159  1439323776  1433783686   \n",
       "1          India          IND  1639176033  1503642322  1380004385  1366417754   \n",
       "2  United States          USA   379419102   349641876   331002651   329064917   \n",
       "3      Indonesia          IDN   330904664   299198430   273523615   270625568   \n",
       "4       Pakistan          PAK   338013196   262958794   220892340   216565318   \n",
       "\n",
       "         2015        2018        2017        2016        2010        2000  \\\n",
       "0  1406847870  1392730000  1386395000  1378665000  1368810615  1290550765   \n",
       "1  1310152403  1352617328  1338658835  1324509589  1234281170  1056575549   \n",
       "2   320878310   326687501   324985539   322941311   309011475   281710909   \n",
       "3   258383256   267663435   264645886   261554226   241834215   211513823   \n",
       "4   199426963   212215030   207896686   203627284   179424641   142343578   \n",
       "\n",
       "         1990        1980       1970  \n",
       "0  1176883674  1000089235  827601394  \n",
       "1   873277798   698952844  555189792  \n",
       "2   252120308   229476354  209513341  \n",
       "3   181413402   147447836  114793178  \n",
       "4   107647921    78054343   58142060  "
      ],
      "text/html": "<div>\n<style scoped>\n    .dataframe tbody tr th:only-of-type {\n        vertical-align: middle;\n    }\n\n    .dataframe tbody tr th {\n        vertical-align: top;\n    }\n\n    .dataframe thead th {\n        text-align: right;\n    }\n</style>\n<table border=\"1\" class=\"dataframe\">\n  <thead>\n    <tr style=\"text-align: right;\">\n      <th></th>\n      <th>Country</th>\n      <th>Country_Code</th>\n      <th>2050</th>\n      <th>2030</th>\n      <th>2020</th>\n      <th>2019</th>\n      <th>2015</th>\n      <th>2018</th>\n      <th>2017</th>\n      <th>2016</th>\n      <th>2010</th>\n      <th>2000</th>\n      <th>1990</th>\n      <th>1980</th>\n      <th>1970</th>\n    </tr>\n  </thead>\n  <tbody>\n    <tr>\n      <th>0</th>\n      <td>China</td>\n      <td>CHN</td>\n      <td>1402405170</td>\n      <td>1464340159</td>\n      <td>1439323776</td>\n      <td>1433783686</td>\n      <td>1406847870</td>\n      <td>1392730000</td>\n      <td>1386395000</td>\n      <td>1378665000</td>\n      <td>1368810615</td>\n      <td>1290550765</td>\n      <td>1176883674</td>\n      <td>1000089235</td>\n      <td>827601394</td>\n    </tr>\n    <tr>\n      <th>1</th>\n      <td>India</td>\n      <td>IND</td>\n      <td>1639176033</td>\n      <td>1503642322</td>\n      <td>1380004385</td>\n      <td>1366417754</td>\n      <td>1310152403</td>\n      <td>1352617328</td>\n      <td>1338658835</td>\n      <td>1324509589</td>\n      <td>1234281170</td>\n      <td>1056575549</td>\n      <td>873277798</td>\n      <td>698952844</td>\n      <td>555189792</td>\n    </tr>\n    <tr>\n      <th>2</th>\n      <td>United States</td>\n      <td>USA</td>\n      <td>379419102</td>\n      <td>349641876</td>\n      <td>331002651</td>\n      <td>329064917</td>\n      <td>320878310</td>\n      <td>326687501</td>\n      <td>324985539</td>\n      <td>322941311</td>\n      <td>309011475</td>\n      <td>281710909</td>\n      <td>252120308</td>\n      <td>229476354</td>\n      <td>209513341</td>\n    </tr>\n    <tr>\n      <th>3</th>\n      <td>Indonesia</td>\n      <td>IDN</td>\n      <td>330904664</td>\n      <td>299198430</td>\n      <td>273523615</td>\n      <td>270625568</td>\n      <td>258383256</td>\n      <td>267663435</td>\n      <td>264645886</td>\n      <td>261554226</td>\n      <td>241834215</td>\n      <td>211513823</td>\n      <td>181413402</td>\n      <td>147447836</td>\n      <td>114793178</td>\n    </tr>\n    <tr>\n      <th>4</th>\n      <td>Pakistan</td>\n      <td>PAK</td>\n      <td>338013196</td>\n      <td>262958794</td>\n      <td>220892340</td>\n      <td>216565318</td>\n      <td>199426963</td>\n      <td>212215030</td>\n      <td>207896686</td>\n      <td>203627284</td>\n      <td>179424641</td>\n      <td>142343578</td>\n      <td>107647921</td>\n      <td>78054343</td>\n      <td>58142060</td>\n    </tr>\n  </tbody>\n</table>\n</div>"
     },
     "metadata": {},
     "execution_count": 234
    }
   ],
   "source": [
    "# merging two dataframes for additional years data\n",
    "\n",
    "# merging df_population with df_countryCode\n",
    "df_population = df_countryCode.merge(df_population, on=\"Country_Code\", how=\"right\")\n",
    "\n",
    "\n",
    "\n",
    "# merging df_population with df_countries\n",
    "df_countries = df_countries.merge(df_population, on=\"Country_Code_2\", how=\"left\")\n",
    "# removing duplicated Country column and Country_Code_2\n",
    "df_countries = df_countries.drop(['Country_y', 'Country_Code_2'], axis=1)\n",
    "# renaming columns\n",
    "df_countries.rename(columns= {\"Country_x\": \"Country\"}, inplace = True)\n",
    "# reordering the columns\n",
    "df_countries = df_countries.iloc[:,[0,11,1,2,3,4,5,14,13,12,6,7,8,9,10]]\n",
    "# Replace null values with 0\n",
    "df_countries.fillna(0,inplace = True)\n",
    "# converting float values to int\n",
    "df_countries[['2016','2017','2018']] = df_countries[['2016','2017','2018']].apply(np.int32)\n",
    "\n",
    "df_countries.head()"
   ]
  },
  {
   "cell_type": "markdown",
   "metadata": {},
   "source": [
    "### Load Data into MongoDB"
   ]
  },
  {
   "cell_type": "code",
   "execution_count": 235,
   "metadata": {
    "ExecuteTime": {
     "end_time": "2021-01-13T08:31:00.052209Z",
     "start_time": "2021-01-13T08:30:59.914864Z"
    },
    "tags": []
   },
   "outputs": [
    {
     "output_type": "stream",
     "name": "stdout",
     "text": [
      "['latestPopulation', 'countriesPopulation', 'citiesPopulation']\n"
     ]
    }
   ],
   "source": [
    "# Loading Data into MongoDB\n",
    "conn = 'mongodb://localhost:27017'\n",
    "client = pymongo.MongoClient(conn)\n",
    "\n",
    "db_name = \"populationDB\"\n",
    "# # Drop database if exists\n",
    "if bool(db_name in client.list_database_names()):\n",
    "    client.drop_database(db_name)\n",
    "\n",
    "# Creating Database and collection in mongodb\n",
    "db = client[db_name]\n",
    "countriesPop = db[\"countriesPopulation\"]\n",
    "citiesPop = db[\"citiesPopulation\"]\n",
    "latestPop = db[\"latestPopulation\"]\n",
    "\n",
    "\n",
    "# Function to insert Dataframes into mongodb collections\n",
    "def insertToDB(df, collection):\n",
    "    data_dict = df.to_dict(\"records\") # Convert to dictionary\n",
    "    # removing index from data\n",
    "    data_dict = [{k: v for k, v in d.items() if k != 'index'} for d in data_dict]\n",
    "    collection.insert_one({\"data\":data_dict}) # Insert dict to collection\n",
    "\n",
    "\n",
    "# Calling function to insert each dataframes into mongoDB collections\n",
    "insertToDB(df_countries, countriesPop)\n",
    "insertToDB(df_cityPop, citiesPop)\n",
    "insertToDB(df_LatestPop, latestPop)\n",
    "\n",
    "\n",
    "print(db.list_collection_names())"
   ]
  },
  {
   "cell_type": "code",
   "execution_count": null,
   "metadata": {},
   "outputs": [],
   "source": []
  }
 ],
 "metadata": {
  "hide_input": false,
  "kernelspec": {
   "display_name": "Python 3",
   "language": "python",
   "name": "python3"
  },
  "toc": {
   "base_numbering": 1,
   "nav_menu": {},
   "number_sections": true,
   "sideBar": true,
   "skip_h1_title": false,
   "title_cell": "Table of Contents",
   "title_sidebar": "Contents",
   "toc_cell": false,
   "toc_position": {},
   "toc_section_display": true,
   "toc_window_display": false
  },
  "varInspector": {
   "cols": {
    "lenName": 16,
    "lenType": 16,
    "lenVar": 40
   },
   "kernels_config": {
    "python": {
     "delete_cmd_postfix": "",
     "delete_cmd_prefix": "del ",
     "library": "var_list.py",
     "varRefreshCmd": "print(var_dic_list())"
    },
    "r": {
     "delete_cmd_postfix": ") ",
     "delete_cmd_prefix": "rm(",
     "library": "var_list.r",
     "varRefreshCmd": "cat(var_dic_list()) "
    }
   },
   "types_to_exclude": [
    "module",
    "function",
    "builtin_function_or_method",
    "instance",
    "_Feature"
   ],
   "window_display": false
  }
 },
 "nbformat": 4,
 "nbformat_minor": 4
}