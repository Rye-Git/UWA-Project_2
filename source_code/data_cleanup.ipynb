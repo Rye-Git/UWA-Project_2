{
 "metadata": {
  "language_info": {
   "codemirror_mode": {
    "name": "ipython",
    "version": 3
   },
   "file_extension": ".py",
   "mimetype": "text/x-python",
   "name": "python",
   "nbconvert_exporter": "python",
   "pygments_lexer": "ipython3",
   "version": "3.8.3-final"
  },
  "orig_nbformat": 2,
  "kernelspec": {
   "name": "python3",
   "display_name": "Python 3",
   "language": "python"
  }
 },
 "nbformat": 4,
 "nbformat_minor": 2,
 "cells": [
  {
   "cell_type": "code",
   "execution_count": 1,
   "metadata": {},
   "outputs": [],
   "source": [
    "import pandas as pd"
   ]
  },
  {
   "cell_type": "code",
   "execution_count": 2,
   "metadata": {},
   "outputs": [
    {
     "output_type": "execute_result",
     "data": {
      "text/plain": [
       "      Unnamed: 0  Flag           Country  2021 (Live)  2019 Population  \\\n",
       "Rank                                                                     \n",
       "1              0   NaN             China   1442166775       1433783686   \n",
       "2              1   NaN             India   1387177258       1366417754   \n",
       "3              2   NaN     United States    332041150        329064917   \n",
       "4              3   NaN         Indonesia    275056196        270625568   \n",
       "5              4   NaN          Pakistan    223154088        216565318   \n",
       "...          ...   ...               ...          ...              ...   \n",
       "228          227   NaN        Montserrat         4992             4989   \n",
       "229          228   NaN  Falkland Islands         3480             3377   \n",
       "230          229   NaN              Niue         1626             1615   \n",
       "231          230   NaN           Tokelau         1357             1340   \n",
       "232          231   NaN      Vatican City          801              799   \n",
       "\n",
       "               Area 2019 Density Growth Rate World %  \n",
       "Rank                                                  \n",
       "1     9,706,961 km²      148/km²       0.39%  18.47%  \n",
       "2     3,287,590 km²      420/km²       0.99%  17.70%  \n",
       "3     9,372,610 km²       35/km²       0.59%   4.25%  \n",
       "4     1,904,569 km²      144/km²       1.07%   3.51%  \n",
       "5       881,912 km²      250/km²       2.00%   2.83%  \n",
       "...             ...          ...         ...     ...  \n",
       "228         102 km²       49/km²       0.06%   0.00%  \n",
       "229      12,173 km²        0/km²       3.05%   0.00%  \n",
       "230         260 km²        6/km²       0.68%   0.00%  \n",
       "231          12 km²      113/km²       1.27%   0.00%  \n",
       "232           1 km²      801/km²       0.25%   0.00%  \n",
       "\n",
       "[232 rows x 9 columns]"
      ],
      "text/html": "<div>\n<style scoped>\n    .dataframe tbody tr th:only-of-type {\n        vertical-align: middle;\n    }\n\n    .dataframe tbody tr th {\n        vertical-align: top;\n    }\n\n    .dataframe thead th {\n        text-align: right;\n    }\n</style>\n<table border=\"1\" class=\"dataframe\">\n  <thead>\n    <tr style=\"text-align: right;\">\n      <th></th>\n      <th>Unnamed: 0</th>\n      <th>Flag</th>\n      <th>Country</th>\n      <th>2021 (Live)</th>\n      <th>2019 Population</th>\n      <th>Area</th>\n      <th>2019 Density</th>\n      <th>Growth Rate</th>\n      <th>World %</th>\n    </tr>\n    <tr>\n      <th>Rank</th>\n      <th></th>\n      <th></th>\n      <th></th>\n      <th></th>\n      <th></th>\n      <th></th>\n      <th></th>\n      <th></th>\n      <th></th>\n    </tr>\n  </thead>\n  <tbody>\n    <tr>\n      <th>1</th>\n      <td>0</td>\n      <td>NaN</td>\n      <td>China</td>\n      <td>1442166775</td>\n      <td>1433783686</td>\n      <td>9,706,961 km²</td>\n      <td>148/km²</td>\n      <td>0.39%</td>\n      <td>18.47%</td>\n    </tr>\n    <tr>\n      <th>2</th>\n      <td>1</td>\n      <td>NaN</td>\n      <td>India</td>\n      <td>1387177258</td>\n      <td>1366417754</td>\n      <td>3,287,590 km²</td>\n      <td>420/km²</td>\n      <td>0.99%</td>\n      <td>17.70%</td>\n    </tr>\n    <tr>\n      <th>3</th>\n      <td>2</td>\n      <td>NaN</td>\n      <td>United States</td>\n      <td>332041150</td>\n      <td>329064917</td>\n      <td>9,372,610 km²</td>\n      <td>35/km²</td>\n      <td>0.59%</td>\n      <td>4.25%</td>\n    </tr>\n    <tr>\n      <th>4</th>\n      <td>3</td>\n      <td>NaN</td>\n      <td>Indonesia</td>\n      <td>275056196</td>\n      <td>270625568</td>\n      <td>1,904,569 km²</td>\n      <td>144/km²</td>\n      <td>1.07%</td>\n      <td>3.51%</td>\n    </tr>\n    <tr>\n      <th>5</th>\n      <td>4</td>\n      <td>NaN</td>\n      <td>Pakistan</td>\n      <td>223154088</td>\n      <td>216565318</td>\n      <td>881,912 km²</td>\n      <td>250/km²</td>\n      <td>2.00%</td>\n      <td>2.83%</td>\n    </tr>\n    <tr>\n      <th>...</th>\n      <td>...</td>\n      <td>...</td>\n      <td>...</td>\n      <td>...</td>\n      <td>...</td>\n      <td>...</td>\n      <td>...</td>\n      <td>...</td>\n      <td>...</td>\n    </tr>\n    <tr>\n      <th>228</th>\n      <td>227</td>\n      <td>NaN</td>\n      <td>Montserrat</td>\n      <td>4992</td>\n      <td>4989</td>\n      <td>102 km²</td>\n      <td>49/km²</td>\n      <td>0.06%</td>\n      <td>0.00%</td>\n    </tr>\n    <tr>\n      <th>229</th>\n      <td>228</td>\n      <td>NaN</td>\n      <td>Falkland Islands</td>\n      <td>3480</td>\n      <td>3377</td>\n      <td>12,173 km²</td>\n      <td>0/km²</td>\n      <td>3.05%</td>\n      <td>0.00%</td>\n    </tr>\n    <tr>\n      <th>230</th>\n      <td>229</td>\n      <td>NaN</td>\n      <td>Niue</td>\n      <td>1626</td>\n      <td>1615</td>\n      <td>260 km²</td>\n      <td>6/km²</td>\n      <td>0.68%</td>\n      <td>0.00%</td>\n    </tr>\n    <tr>\n      <th>231</th>\n      <td>230</td>\n      <td>NaN</td>\n      <td>Tokelau</td>\n      <td>1357</td>\n      <td>1340</td>\n      <td>12 km²</td>\n      <td>113/km²</td>\n      <td>1.27%</td>\n      <td>0.00%</td>\n    </tr>\n    <tr>\n      <th>232</th>\n      <td>231</td>\n      <td>NaN</td>\n      <td>Vatican City</td>\n      <td>801</td>\n      <td>799</td>\n      <td>1 km²</td>\n      <td>801/km²</td>\n      <td>0.25%</td>\n      <td>0.00%</td>\n    </tr>\n  </tbody>\n</table>\n<p>232 rows × 9 columns</p>\n</div>"
     },
     "metadata": {},
     "execution_count": 2
    }
   ],
   "source": [
    "# assign the country csv file to a variable\n",
    "country_path = ('../raw_data/country.csv')\n",
    "\n",
    "# read the csv file\n",
    "country_df = pd.read_csv(country_path, index_col=9)\n",
    "country_df"
   ]
  },
  {
   "cell_type": "code",
   "execution_count": 3,
   "metadata": {},
   "outputs": [
    {
     "output_type": "stream",
     "name": "stdout",
     "text": [
      "232\n"
     ]
    }
   ],
   "source": [
    "# check for duplicate values in Country (output should be 232)\n",
    "print(country_df['Country'].nunique())"
   ]
  },
  {
   "cell_type": "code",
   "execution_count": 4,
   "metadata": {},
   "outputs": [
    {
     "output_type": "stream",
     "name": "stdout",
     "text": [
      "Unnamed: 0           0\nFlag               232\nCountry              0\n2021 (Live)          0\n2019 Population      0\nArea                 0\n2019 Density         0\nGrowth Rate          0\nWorld %              0\ndtype: int64\n"
     ]
    }
   ],
   "source": [
    "# check for null values\n",
    "print(country_df.isna().sum())"
   ]
  },
  {
   "cell_type": "code",
   "execution_count": 5,
   "metadata": {},
   "outputs": [],
   "source": [
    "# delete unecessary columns\n",
    "del country_df['Unnamed: 0'], country_df['Flag'], country_df['2019 Density']"
   ]
  },
  {
   "cell_type": "code",
   "execution_count": 6,
   "metadata": {},
   "outputs": [
    {
     "output_type": "execute_result",
     "data": {
      "text/plain": [
       "               Country  2021 (Live)  2019 Population           Area  \\\n",
       "Rank                                                                  \n",
       "1                China   1442166775       1433783686  9,706,961 km²   \n",
       "2                India   1387177258       1366417754  3,287,590 km²   \n",
       "3        United States    332041150        329064917  9,372,610 km²   \n",
       "4            Indonesia    275056196        270625568  1,904,569 km²   \n",
       "5             Pakistan    223154088        216565318    881,912 km²   \n",
       "...                ...          ...              ...            ...   \n",
       "228         Montserrat         4992             4989        102 km²   \n",
       "229   Falkland Islands         3480             3377     12,173 km²   \n",
       "230               Niue         1626             1615        260 km²   \n",
       "231            Tokelau         1357             1340         12 km²   \n",
       "232       Vatican City          801              799          1 km²   \n",
       "\n",
       "     Growth Rate World %  \n",
       "Rank                      \n",
       "1          0.39%  18.47%  \n",
       "2          0.99%  17.70%  \n",
       "3          0.59%   4.25%  \n",
       "4          1.07%   3.51%  \n",
       "5          2.00%   2.83%  \n",
       "...          ...     ...  \n",
       "228        0.06%   0.00%  \n",
       "229        3.05%   0.00%  \n",
       "230        0.68%   0.00%  \n",
       "231        1.27%   0.00%  \n",
       "232        0.25%   0.00%  \n",
       "\n",
       "[232 rows x 6 columns]"
      ],
      "text/html": "<div>\n<style scoped>\n    .dataframe tbody tr th:only-of-type {\n        vertical-align: middle;\n    }\n\n    .dataframe tbody tr th {\n        vertical-align: top;\n    }\n\n    .dataframe thead th {\n        text-align: right;\n    }\n</style>\n<table border=\"1\" class=\"dataframe\">\n  <thead>\n    <tr style=\"text-align: right;\">\n      <th></th>\n      <th>Country</th>\n      <th>2021 (Live)</th>\n      <th>2019 Population</th>\n      <th>Area</th>\n      <th>Growth Rate</th>\n      <th>World %</th>\n    </tr>\n    <tr>\n      <th>Rank</th>\n      <th></th>\n      <th></th>\n      <th></th>\n      <th></th>\n      <th></th>\n      <th></th>\n    </tr>\n  </thead>\n  <tbody>\n    <tr>\n      <th>1</th>\n      <td>China</td>\n      <td>1442166775</td>\n      <td>1433783686</td>\n      <td>9,706,961 km²</td>\n      <td>0.39%</td>\n      <td>18.47%</td>\n    </tr>\n    <tr>\n      <th>2</th>\n      <td>India</td>\n      <td>1387177258</td>\n      <td>1366417754</td>\n      <td>3,287,590 km²</td>\n      <td>0.99%</td>\n      <td>17.70%</td>\n    </tr>\n    <tr>\n      <th>3</th>\n      <td>United States</td>\n      <td>332041150</td>\n      <td>329064917</td>\n      <td>9,372,610 km²</td>\n      <td>0.59%</td>\n      <td>4.25%</td>\n    </tr>\n    <tr>\n      <th>4</th>\n      <td>Indonesia</td>\n      <td>275056196</td>\n      <td>270625568</td>\n      <td>1,904,569 km²</td>\n      <td>1.07%</td>\n      <td>3.51%</td>\n    </tr>\n    <tr>\n      <th>5</th>\n      <td>Pakistan</td>\n      <td>223154088</td>\n      <td>216565318</td>\n      <td>881,912 km²</td>\n      <td>2.00%</td>\n      <td>2.83%</td>\n    </tr>\n    <tr>\n      <th>...</th>\n      <td>...</td>\n      <td>...</td>\n      <td>...</td>\n      <td>...</td>\n      <td>...</td>\n      <td>...</td>\n    </tr>\n    <tr>\n      <th>228</th>\n      <td>Montserrat</td>\n      <td>4992</td>\n      <td>4989</td>\n      <td>102 km²</td>\n      <td>0.06%</td>\n      <td>0.00%</td>\n    </tr>\n    <tr>\n      <th>229</th>\n      <td>Falkland Islands</td>\n      <td>3480</td>\n      <td>3377</td>\n      <td>12,173 km²</td>\n      <td>3.05%</td>\n      <td>0.00%</td>\n    </tr>\n    <tr>\n      <th>230</th>\n      <td>Niue</td>\n      <td>1626</td>\n      <td>1615</td>\n      <td>260 km²</td>\n      <td>0.68%</td>\n      <td>0.00%</td>\n    </tr>\n    <tr>\n      <th>231</th>\n      <td>Tokelau</td>\n      <td>1357</td>\n      <td>1340</td>\n      <td>12 km²</td>\n      <td>1.27%</td>\n      <td>0.00%</td>\n    </tr>\n    <tr>\n      <th>232</th>\n      <td>Vatican City</td>\n      <td>801</td>\n      <td>799</td>\n      <td>1 km²</td>\n      <td>0.25%</td>\n      <td>0.00%</td>\n    </tr>\n  </tbody>\n</table>\n<p>232 rows × 6 columns</p>\n</div>"
     },
     "metadata": {},
     "execution_count": 6
    }
   ],
   "source": [
    "country_df"
   ]
  },
  {
   "cell_type": "code",
   "execution_count": 7,
   "metadata": {},
   "outputs": [],
   "source": [
    "# rename the columns\n",
    "country_df.rename(columns={\n",
    "    '2021 (Live)':'2020',\n",
    "    '2019 Population':'2019',\n",
    "    'Area':'Area (km²)',\n",
    "    'Growth Rate':'Growth Rate (%)',\n",
    "    'World %':'World Ratio (%)'\n",
    " },inplace=True)"
   ]
  },
  {
   "cell_type": "code",
   "execution_count": 8,
   "metadata": {},
   "outputs": [
    {
     "output_type": "execute_result",
     "data": {
      "text/plain": [
       "               Country        2020        2019     Area (km²) Growth Rate (%)  \\\n",
       "Rank                                                                            \n",
       "1                China  1442166775  1433783686  9,706,961 km²           0.39%   \n",
       "2                India  1387177258  1366417754  3,287,590 km²           0.99%   \n",
       "3        United States   332041150   329064917  9,372,610 km²           0.59%   \n",
       "4            Indonesia   275056196   270625568  1,904,569 km²           1.07%   \n",
       "5             Pakistan   223154088   216565318    881,912 km²           2.00%   \n",
       "...                ...         ...         ...            ...             ...   \n",
       "228         Montserrat        4992        4989        102 km²           0.06%   \n",
       "229   Falkland Islands        3480        3377     12,173 km²           3.05%   \n",
       "230               Niue        1626        1615        260 km²           0.68%   \n",
       "231            Tokelau        1357        1340         12 km²           1.27%   \n",
       "232       Vatican City         801         799          1 km²           0.25%   \n",
       "\n",
       "     World Ratio (%)  \n",
       "Rank                  \n",
       "1             18.47%  \n",
       "2             17.70%  \n",
       "3              4.25%  \n",
       "4              3.51%  \n",
       "5              2.83%  \n",
       "...              ...  \n",
       "228            0.00%  \n",
       "229            0.00%  \n",
       "230            0.00%  \n",
       "231            0.00%  \n",
       "232            0.00%  \n",
       "\n",
       "[232 rows x 6 columns]"
      ],
      "text/html": "<div>\n<style scoped>\n    .dataframe tbody tr th:only-of-type {\n        vertical-align: middle;\n    }\n\n    .dataframe tbody tr th {\n        vertical-align: top;\n    }\n\n    .dataframe thead th {\n        text-align: right;\n    }\n</style>\n<table border=\"1\" class=\"dataframe\">\n  <thead>\n    <tr style=\"text-align: right;\">\n      <th></th>\n      <th>Country</th>\n      <th>2020</th>\n      <th>2019</th>\n      <th>Area (km²)</th>\n      <th>Growth Rate (%)</th>\n      <th>World Ratio (%)</th>\n    </tr>\n    <tr>\n      <th>Rank</th>\n      <th></th>\n      <th></th>\n      <th></th>\n      <th></th>\n      <th></th>\n      <th></th>\n    </tr>\n  </thead>\n  <tbody>\n    <tr>\n      <th>1</th>\n      <td>China</td>\n      <td>1442166775</td>\n      <td>1433783686</td>\n      <td>9,706,961 km²</td>\n      <td>0.39%</td>\n      <td>18.47%</td>\n    </tr>\n    <tr>\n      <th>2</th>\n      <td>India</td>\n      <td>1387177258</td>\n      <td>1366417754</td>\n      <td>3,287,590 km²</td>\n      <td>0.99%</td>\n      <td>17.70%</td>\n    </tr>\n    <tr>\n      <th>3</th>\n      <td>United States</td>\n      <td>332041150</td>\n      <td>329064917</td>\n      <td>9,372,610 km²</td>\n      <td>0.59%</td>\n      <td>4.25%</td>\n    </tr>\n    <tr>\n      <th>4</th>\n      <td>Indonesia</td>\n      <td>275056196</td>\n      <td>270625568</td>\n      <td>1,904,569 km²</td>\n      <td>1.07%</td>\n      <td>3.51%</td>\n    </tr>\n    <tr>\n      <th>5</th>\n      <td>Pakistan</td>\n      <td>223154088</td>\n      <td>216565318</td>\n      <td>881,912 km²</td>\n      <td>2.00%</td>\n      <td>2.83%</td>\n    </tr>\n    <tr>\n      <th>...</th>\n      <td>...</td>\n      <td>...</td>\n      <td>...</td>\n      <td>...</td>\n      <td>...</td>\n      <td>...</td>\n    </tr>\n    <tr>\n      <th>228</th>\n      <td>Montserrat</td>\n      <td>4992</td>\n      <td>4989</td>\n      <td>102 km²</td>\n      <td>0.06%</td>\n      <td>0.00%</td>\n    </tr>\n    <tr>\n      <th>229</th>\n      <td>Falkland Islands</td>\n      <td>3480</td>\n      <td>3377</td>\n      <td>12,173 km²</td>\n      <td>3.05%</td>\n      <td>0.00%</td>\n    </tr>\n    <tr>\n      <th>230</th>\n      <td>Niue</td>\n      <td>1626</td>\n      <td>1615</td>\n      <td>260 km²</td>\n      <td>0.68%</td>\n      <td>0.00%</td>\n    </tr>\n    <tr>\n      <th>231</th>\n      <td>Tokelau</td>\n      <td>1357</td>\n      <td>1340</td>\n      <td>12 km²</td>\n      <td>1.27%</td>\n      <td>0.00%</td>\n    </tr>\n    <tr>\n      <th>232</th>\n      <td>Vatican City</td>\n      <td>801</td>\n      <td>799</td>\n      <td>1 km²</td>\n      <td>0.25%</td>\n      <td>0.00%</td>\n    </tr>\n  </tbody>\n</table>\n<p>232 rows × 6 columns</p>\n</div>"
     },
     "metadata": {},
     "execution_count": 8
    }
   ],
   "source": [
    "country_df"
   ]
  },
  {
   "cell_type": "code",
   "execution_count": 9,
   "metadata": {},
   "outputs": [
    {
     "output_type": "execute_result",
     "data": {
      "text/plain": [
       "               Country        2020        2019 Area (km²) Growth Rate (%)  \\\n",
       "Rank                                                                        \n",
       "1                China  1442166775  1433783686    9706961            0.39   \n",
       "2                India  1387177258  1366417754    3287590            0.99   \n",
       "3        United States   332041150   329064917    9372610            0.59   \n",
       "4            Indonesia   275056196   270625568    1904569            1.07   \n",
       "5             Pakistan   223154088   216565318     881912            2.00   \n",
       "...                ...         ...         ...        ...             ...   \n",
       "228         Montserrat        4992        4989        102            0.06   \n",
       "229   Falkland Islands        3480        3377      12173            3.05   \n",
       "230               Niue        1626        1615        260            0.68   \n",
       "231            Tokelau        1357        1340         12            1.27   \n",
       "232       Vatican City         801         799          1            0.25   \n",
       "\n",
       "     World Ratio (%)  \n",
       "Rank                  \n",
       "1              18.47  \n",
       "2              17.70  \n",
       "3               4.25  \n",
       "4               3.51  \n",
       "5               2.83  \n",
       "...              ...  \n",
       "228             0.00  \n",
       "229             0.00  \n",
       "230             0.00  \n",
       "231             0.00  \n",
       "232             0.00  \n",
       "\n",
       "[232 rows x 6 columns]"
      ],
      "text/html": "<div>\n<style scoped>\n    .dataframe tbody tr th:only-of-type {\n        vertical-align: middle;\n    }\n\n    .dataframe tbody tr th {\n        vertical-align: top;\n    }\n\n    .dataframe thead th {\n        text-align: right;\n    }\n</style>\n<table border=\"1\" class=\"dataframe\">\n  <thead>\n    <tr style=\"text-align: right;\">\n      <th></th>\n      <th>Country</th>\n      <th>2020</th>\n      <th>2019</th>\n      <th>Area (km²)</th>\n      <th>Growth Rate (%)</th>\n      <th>World Ratio (%)</th>\n    </tr>\n    <tr>\n      <th>Rank</th>\n      <th></th>\n      <th></th>\n      <th></th>\n      <th></th>\n      <th></th>\n      <th></th>\n    </tr>\n  </thead>\n  <tbody>\n    <tr>\n      <th>1</th>\n      <td>China</td>\n      <td>1442166775</td>\n      <td>1433783686</td>\n      <td>9706961</td>\n      <td>0.39</td>\n      <td>18.47</td>\n    </tr>\n    <tr>\n      <th>2</th>\n      <td>India</td>\n      <td>1387177258</td>\n      <td>1366417754</td>\n      <td>3287590</td>\n      <td>0.99</td>\n      <td>17.70</td>\n    </tr>\n    <tr>\n      <th>3</th>\n      <td>United States</td>\n      <td>332041150</td>\n      <td>329064917</td>\n      <td>9372610</td>\n      <td>0.59</td>\n      <td>4.25</td>\n    </tr>\n    <tr>\n      <th>4</th>\n      <td>Indonesia</td>\n      <td>275056196</td>\n      <td>270625568</td>\n      <td>1904569</td>\n      <td>1.07</td>\n      <td>3.51</td>\n    </tr>\n    <tr>\n      <th>5</th>\n      <td>Pakistan</td>\n      <td>223154088</td>\n      <td>216565318</td>\n      <td>881912</td>\n      <td>2.00</td>\n      <td>2.83</td>\n    </tr>\n    <tr>\n      <th>...</th>\n      <td>...</td>\n      <td>...</td>\n      <td>...</td>\n      <td>...</td>\n      <td>...</td>\n      <td>...</td>\n    </tr>\n    <tr>\n      <th>228</th>\n      <td>Montserrat</td>\n      <td>4992</td>\n      <td>4989</td>\n      <td>102</td>\n      <td>0.06</td>\n      <td>0.00</td>\n    </tr>\n    <tr>\n      <th>229</th>\n      <td>Falkland Islands</td>\n      <td>3480</td>\n      <td>3377</td>\n      <td>12173</td>\n      <td>3.05</td>\n      <td>0.00</td>\n    </tr>\n    <tr>\n      <th>230</th>\n      <td>Niue</td>\n      <td>1626</td>\n      <td>1615</td>\n      <td>260</td>\n      <td>0.68</td>\n      <td>0.00</td>\n    </tr>\n    <tr>\n      <th>231</th>\n      <td>Tokelau</td>\n      <td>1357</td>\n      <td>1340</td>\n      <td>12</td>\n      <td>1.27</td>\n      <td>0.00</td>\n    </tr>\n    <tr>\n      <th>232</th>\n      <td>Vatican City</td>\n      <td>801</td>\n      <td>799</td>\n      <td>1</td>\n      <td>0.25</td>\n      <td>0.00</td>\n    </tr>\n  </tbody>\n</table>\n<p>232 rows × 6 columns</p>\n</div>"
     },
     "metadata": {},
     "execution_count": 9
    }
   ],
   "source": [
    "# Remove unecessary characters\n",
    "country_df['Area (km²)'] = country_df['Area (km²)'].str.rsplit(' ', 0).str.get(0)\n",
    "country_df['Area (km²)'] = country_df['Area (km²)'].str.replace(',', '')\n",
    "country_df['Growth Rate (%)'] = country_df['Growth Rate (%)'].str.rsplit('%', 0).str.get(0)\n",
    "country_df['World Ratio (%)'] = country_df['World Ratio (%)'].str.rsplit('%', 0).str.get(0)\n",
    "country_df"
   ]
  },
  {
   "cell_type": "code",
   "execution_count": 10,
   "metadata": {},
   "outputs": [],
   "source": [
    "# export the country_df to a csv file\n",
    "country_df.to_csv(\"../clean_data/country_clean.csv\")"
   ]
  },
  {
   "source": [
    "### city csv cleanup"
   ],
   "cell_type": "markdown",
   "metadata": {}
  },
  {
   "cell_type": "code",
   "execution_count": 11,
   "metadata": {},
   "outputs": [
    {
     "output_type": "execute_result",
     "data": {
      "text/plain": [
       "      Unnamed: 0         Name        Country  2020 Population  \\\n",
       "Rank                                                            \n",
       "1              0        Tokyo          Japan         37393128   \n",
       "2              1        Delhi          India         30290936   \n",
       "3              2     Shanghai          China         27058480   \n",
       "4              3    Sao Paulo         Brazil         22043028   \n",
       "5              4  Mexico City         Mexico         21782378   \n",
       "...          ...          ...            ...              ...   \n",
       "1141        1140        Tanta          Egypt           501423   \n",
       "1142        1141   Sacramento  United States           500930   \n",
       "1143        1142     Chuxiong          China           500867   \n",
       "1144        1143   Douai Lens         France           500776   \n",
       "1145        1144       Ziyang          China           500094   \n",
       "\n",
       "      2019 Population  Change  \n",
       "Rank                           \n",
       "1          37435192.0  -0.11%  \n",
       "2          29399140.0   3.03%  \n",
       "3          26317104.0   2.82%  \n",
       "4          21846508.0   0.90%  \n",
       "5          21671908.0   0.51%  \n",
       "...               ...     ...  \n",
       "1141              NaN     NaN  \n",
       "1142         500930.0   0.00%  \n",
       "1143              NaN     NaN  \n",
       "1144         501078.0  -0.06%  \n",
       "1145              NaN     NaN  \n",
       "\n",
       "[1145 rows x 6 columns]"
      ],
      "text/html": "<div>\n<style scoped>\n    .dataframe tbody tr th:only-of-type {\n        vertical-align: middle;\n    }\n\n    .dataframe tbody tr th {\n        vertical-align: top;\n    }\n\n    .dataframe thead th {\n        text-align: right;\n    }\n</style>\n<table border=\"1\" class=\"dataframe\">\n  <thead>\n    <tr style=\"text-align: right;\">\n      <th></th>\n      <th>Unnamed: 0</th>\n      <th>Name</th>\n      <th>Country</th>\n      <th>2020 Population</th>\n      <th>2019 Population</th>\n      <th>Change</th>\n    </tr>\n    <tr>\n      <th>Rank</th>\n      <th></th>\n      <th></th>\n      <th></th>\n      <th></th>\n      <th></th>\n      <th></th>\n    </tr>\n  </thead>\n  <tbody>\n    <tr>\n      <th>1</th>\n      <td>0</td>\n      <td>Tokyo</td>\n      <td>Japan</td>\n      <td>37393128</td>\n      <td>37435192.0</td>\n      <td>-0.11%</td>\n    </tr>\n    <tr>\n      <th>2</th>\n      <td>1</td>\n      <td>Delhi</td>\n      <td>India</td>\n      <td>30290936</td>\n      <td>29399140.0</td>\n      <td>3.03%</td>\n    </tr>\n    <tr>\n      <th>3</th>\n      <td>2</td>\n      <td>Shanghai</td>\n      <td>China</td>\n      <td>27058480</td>\n      <td>26317104.0</td>\n      <td>2.82%</td>\n    </tr>\n    <tr>\n      <th>4</th>\n      <td>3</td>\n      <td>Sao Paulo</td>\n      <td>Brazil</td>\n      <td>22043028</td>\n      <td>21846508.0</td>\n      <td>0.90%</td>\n    </tr>\n    <tr>\n      <th>5</th>\n      <td>4</td>\n      <td>Mexico City</td>\n      <td>Mexico</td>\n      <td>21782378</td>\n      <td>21671908.0</td>\n      <td>0.51%</td>\n    </tr>\n    <tr>\n      <th>...</th>\n      <td>...</td>\n      <td>...</td>\n      <td>...</td>\n      <td>...</td>\n      <td>...</td>\n      <td>...</td>\n    </tr>\n    <tr>\n      <th>1141</th>\n      <td>1140</td>\n      <td>Tanta</td>\n      <td>Egypt</td>\n      <td>501423</td>\n      <td>NaN</td>\n      <td>NaN</td>\n    </tr>\n    <tr>\n      <th>1142</th>\n      <td>1141</td>\n      <td>Sacramento</td>\n      <td>United States</td>\n      <td>500930</td>\n      <td>500930.0</td>\n      <td>0.00%</td>\n    </tr>\n    <tr>\n      <th>1143</th>\n      <td>1142</td>\n      <td>Chuxiong</td>\n      <td>China</td>\n      <td>500867</td>\n      <td>NaN</td>\n      <td>NaN</td>\n    </tr>\n    <tr>\n      <th>1144</th>\n      <td>1143</td>\n      <td>Douai Lens</td>\n      <td>France</td>\n      <td>500776</td>\n      <td>501078.0</td>\n      <td>-0.06%</td>\n    </tr>\n    <tr>\n      <th>1145</th>\n      <td>1144</td>\n      <td>Ziyang</td>\n      <td>China</td>\n      <td>500094</td>\n      <td>NaN</td>\n      <td>NaN</td>\n    </tr>\n  </tbody>\n</table>\n<p>1145 rows × 6 columns</p>\n</div>"
     },
     "metadata": {},
     "execution_count": 11
    }
   ],
   "source": [
    "# assign the city csv file to a variable\n",
    "city_path = ('../raw_data/city.csv')\n",
    "\n",
    "# read the csv file\n",
    "city_df = pd.read_csv(city_path, index_col=1)\n",
    "city_df"
   ]
  },
  {
   "cell_type": "code",
   "execution_count": 12,
   "metadata": {},
   "outputs": [
    {
     "output_type": "stream",
     "name": "stdout",
     "text": [
      "1138\n"
     ]
    }
   ],
   "source": [
    "# check for duplicate values in Country (output should be 1145)\n",
    "print(city_df['Name'].nunique())"
   ]
  },
  {
   "cell_type": "code",
   "execution_count": 13,
   "metadata": {},
   "outputs": [
    {
     "output_type": "execute_result",
     "data": {
      "text/plain": [
       "      Unnamed: 0       Name             Country  2020 Population  \\\n",
       "Rank                                                               \n",
       "344          343     Anyang               China          1460114   \n",
       "994          993     Anyang         South Korea           567945   \n",
       "32            31  Hyderabad               India         10004144   \n",
       "268          267  Hyderabad            Pakistan          1849829   \n",
       "361          360   San Jose          Costa Rica          1399629   \n",
       "524          523   San Jose       United States          1027690   \n",
       "195          194   San Juan         Puerto Rico          2448417   \n",
       "1060        1059   San Juan           Argentina           536913   \n",
       "55            54   Santiago               Chile          6767223   \n",
       "843          842   Santiago  Dominican Republic           664575   \n",
       "54            53     Suzhou               China          7069992   \n",
       "441          440     Suzhou               China          1169932   \n",
       "251          250   Valencia           Venezuela          1910188   \n",
       "669          668   Valencia               Spain           833724   \n",
       "\n",
       "      2019 Population  Change  \n",
       "Rank                           \n",
       "344         1393965.0   4.75%  \n",
       "994          571888.0  -0.69%  \n",
       "32          9741397.0   2.70%  \n",
       "268         1814914.0   1.92%  \n",
       "361         1378546.0   1.53%  \n",
       "524         1027690.0   0.00%  \n",
       "195         2451375.0  -0.12%  \n",
       "1060         532634.0   0.80%  \n",
       "55          6723516.0   0.65%  \n",
       "843          657179.0   1.13%  \n",
       "54          6703499.0   5.47%  \n",
       "441         1119054.0   4.55%  \n",
       "251         1885255.0   1.32%  \n",
       "669          831815.0   0.23%  "
      ],
      "text/html": "<div>\n<style scoped>\n    .dataframe tbody tr th:only-of-type {\n        vertical-align: middle;\n    }\n\n    .dataframe tbody tr th {\n        vertical-align: top;\n    }\n\n    .dataframe thead th {\n        text-align: right;\n    }\n</style>\n<table border=\"1\" class=\"dataframe\">\n  <thead>\n    <tr style=\"text-align: right;\">\n      <th></th>\n      <th>Unnamed: 0</th>\n      <th>Name</th>\n      <th>Country</th>\n      <th>2020 Population</th>\n      <th>2019 Population</th>\n      <th>Change</th>\n    </tr>\n    <tr>\n      <th>Rank</th>\n      <th></th>\n      <th></th>\n      <th></th>\n      <th></th>\n      <th></th>\n      <th></th>\n    </tr>\n  </thead>\n  <tbody>\n    <tr>\n      <th>344</th>\n      <td>343</td>\n      <td>Anyang</td>\n      <td>China</td>\n      <td>1460114</td>\n      <td>1393965.0</td>\n      <td>4.75%</td>\n    </tr>\n    <tr>\n      <th>994</th>\n      <td>993</td>\n      <td>Anyang</td>\n      <td>South Korea</td>\n      <td>567945</td>\n      <td>571888.0</td>\n      <td>-0.69%</td>\n    </tr>\n    <tr>\n      <th>32</th>\n      <td>31</td>\n      <td>Hyderabad</td>\n      <td>India</td>\n      <td>10004144</td>\n      <td>9741397.0</td>\n      <td>2.70%</td>\n    </tr>\n    <tr>\n      <th>268</th>\n      <td>267</td>\n      <td>Hyderabad</td>\n      <td>Pakistan</td>\n      <td>1849829</td>\n      <td>1814914.0</td>\n      <td>1.92%</td>\n    </tr>\n    <tr>\n      <th>361</th>\n      <td>360</td>\n      <td>San Jose</td>\n      <td>Costa Rica</td>\n      <td>1399629</td>\n      <td>1378546.0</td>\n      <td>1.53%</td>\n    </tr>\n    <tr>\n      <th>524</th>\n      <td>523</td>\n      <td>San Jose</td>\n      <td>United States</td>\n      <td>1027690</td>\n      <td>1027690.0</td>\n      <td>0.00%</td>\n    </tr>\n    <tr>\n      <th>195</th>\n      <td>194</td>\n      <td>San Juan</td>\n      <td>Puerto Rico</td>\n      <td>2448417</td>\n      <td>2451375.0</td>\n      <td>-0.12%</td>\n    </tr>\n    <tr>\n      <th>1060</th>\n      <td>1059</td>\n      <td>San Juan</td>\n      <td>Argentina</td>\n      <td>536913</td>\n      <td>532634.0</td>\n      <td>0.80%</td>\n    </tr>\n    <tr>\n      <th>55</th>\n      <td>54</td>\n      <td>Santiago</td>\n      <td>Chile</td>\n      <td>6767223</td>\n      <td>6723516.0</td>\n      <td>0.65%</td>\n    </tr>\n    <tr>\n      <th>843</th>\n      <td>842</td>\n      <td>Santiago</td>\n      <td>Dominican Republic</td>\n      <td>664575</td>\n      <td>657179.0</td>\n      <td>1.13%</td>\n    </tr>\n    <tr>\n      <th>54</th>\n      <td>53</td>\n      <td>Suzhou</td>\n      <td>China</td>\n      <td>7069992</td>\n      <td>6703499.0</td>\n      <td>5.47%</td>\n    </tr>\n    <tr>\n      <th>441</th>\n      <td>440</td>\n      <td>Suzhou</td>\n      <td>China</td>\n      <td>1169932</td>\n      <td>1119054.0</td>\n      <td>4.55%</td>\n    </tr>\n    <tr>\n      <th>251</th>\n      <td>250</td>\n      <td>Valencia</td>\n      <td>Venezuela</td>\n      <td>1910188</td>\n      <td>1885255.0</td>\n      <td>1.32%</td>\n    </tr>\n    <tr>\n      <th>669</th>\n      <td>668</td>\n      <td>Valencia</td>\n      <td>Spain</td>\n      <td>833724</td>\n      <td>831815.0</td>\n      <td>0.23%</td>\n    </tr>\n  </tbody>\n</table>\n</div>"
     },
     "metadata": {},
     "execution_count": 13
    }
   ],
   "source": [
    "#  check the duplicate values for review\n",
    "ids = city_df[\"Name\"]\n",
    "city_df[ids.isin(ids[ids.duplicated()])].sort_values(\"Name\")"
   ]
  },
  {
   "cell_type": "code",
   "execution_count": 14,
   "metadata": {},
   "outputs": [
    {
     "output_type": "stream",
     "name": "stdout",
     "text": [
      "Unnamed: 0          0\nName                0\nCountry             0\n2020 Population     0\n2019 Population    28\nChange             28\ndtype: int64\n"
     ]
    }
   ],
   "source": [
    "#  check for null values\n",
    "print(city_df.isna().sum())"
   ]
  },
  {
   "cell_type": "code",
   "execution_count": 15,
   "metadata": {},
   "outputs": [
    {
     "output_type": "execute_result",
     "data": {
      "text/plain": [
       "Unnamed: 0         0\n",
       "Name               0\n",
       "Country            0\n",
       "2020 Population    0\n",
       "2019 Population    0\n",
       "Change             0\n",
       "dtype: int64"
      ]
     },
     "metadata": {},
     "execution_count": 15
    }
   ],
   "source": [
    "# replace the null values with zero.\n",
    "city_df.fillna(0,inplace = True)\n",
    "city_df.isna().sum()"
   ]
  },
  {
   "cell_type": "code",
   "execution_count": 16,
   "metadata": {},
   "outputs": [
    {
     "output_type": "execute_result",
     "data": {
      "text/plain": [
       "      Unnamed: 0         Name        Country  2020 Population  \\\n",
       "Rank                                                            \n",
       "1              0        Tokyo          Japan         37393128   \n",
       "2              1        Delhi          India         30290936   \n",
       "3              2     Shanghai          China         27058480   \n",
       "4              3    Sao Paulo         Brazil         22043028   \n",
       "5              4  Mexico City         Mexico         21782378   \n",
       "...          ...          ...            ...              ...   \n",
       "1141        1140        Tanta          Egypt           501423   \n",
       "1142        1141   Sacramento  United States           500930   \n",
       "1143        1142     Chuxiong          China           500867   \n",
       "1144        1143   Douai Lens         France           500776   \n",
       "1145        1144       Ziyang          China           500094   \n",
       "\n",
       "      2019 Population  Change  \n",
       "Rank                           \n",
       "1          37435192.0  -0.11%  \n",
       "2          29399140.0   3.03%  \n",
       "3          26317104.0   2.82%  \n",
       "4          21846508.0   0.90%  \n",
       "5          21671908.0   0.51%  \n",
       "...               ...     ...  \n",
       "1141              0.0       0  \n",
       "1142         500930.0   0.00%  \n",
       "1143              0.0       0  \n",
       "1144         501078.0  -0.06%  \n",
       "1145              0.0       0  \n",
       "\n",
       "[1145 rows x 6 columns]"
      ],
      "text/html": "<div>\n<style scoped>\n    .dataframe tbody tr th:only-of-type {\n        vertical-align: middle;\n    }\n\n    .dataframe tbody tr th {\n        vertical-align: top;\n    }\n\n    .dataframe thead th {\n        text-align: right;\n    }\n</style>\n<table border=\"1\" class=\"dataframe\">\n  <thead>\n    <tr style=\"text-align: right;\">\n      <th></th>\n      <th>Unnamed: 0</th>\n      <th>Name</th>\n      <th>Country</th>\n      <th>2020 Population</th>\n      <th>2019 Population</th>\n      <th>Change</th>\n    </tr>\n    <tr>\n      <th>Rank</th>\n      <th></th>\n      <th></th>\n      <th></th>\n      <th></th>\n      <th></th>\n      <th></th>\n    </tr>\n  </thead>\n  <tbody>\n    <tr>\n      <th>1</th>\n      <td>0</td>\n      <td>Tokyo</td>\n      <td>Japan</td>\n      <td>37393128</td>\n      <td>37435192.0</td>\n      <td>-0.11%</td>\n    </tr>\n    <tr>\n      <th>2</th>\n      <td>1</td>\n      <td>Delhi</td>\n      <td>India</td>\n      <td>30290936</td>\n      <td>29399140.0</td>\n      <td>3.03%</td>\n    </tr>\n    <tr>\n      <th>3</th>\n      <td>2</td>\n      <td>Shanghai</td>\n      <td>China</td>\n      <td>27058480</td>\n      <td>26317104.0</td>\n      <td>2.82%</td>\n    </tr>\n    <tr>\n      <th>4</th>\n      <td>3</td>\n      <td>Sao Paulo</td>\n      <td>Brazil</td>\n      <td>22043028</td>\n      <td>21846508.0</td>\n      <td>0.90%</td>\n    </tr>\n    <tr>\n      <th>5</th>\n      <td>4</td>\n      <td>Mexico City</td>\n      <td>Mexico</td>\n      <td>21782378</td>\n      <td>21671908.0</td>\n      <td>0.51%</td>\n    </tr>\n    <tr>\n      <th>...</th>\n      <td>...</td>\n      <td>...</td>\n      <td>...</td>\n      <td>...</td>\n      <td>...</td>\n      <td>...</td>\n    </tr>\n    <tr>\n      <th>1141</th>\n      <td>1140</td>\n      <td>Tanta</td>\n      <td>Egypt</td>\n      <td>501423</td>\n      <td>0.0</td>\n      <td>0</td>\n    </tr>\n    <tr>\n      <th>1142</th>\n      <td>1141</td>\n      <td>Sacramento</td>\n      <td>United States</td>\n      <td>500930</td>\n      <td>500930.0</td>\n      <td>0.00%</td>\n    </tr>\n    <tr>\n      <th>1143</th>\n      <td>1142</td>\n      <td>Chuxiong</td>\n      <td>China</td>\n      <td>500867</td>\n      <td>0.0</td>\n      <td>0</td>\n    </tr>\n    <tr>\n      <th>1144</th>\n      <td>1143</td>\n      <td>Douai Lens</td>\n      <td>France</td>\n      <td>500776</td>\n      <td>501078.0</td>\n      <td>-0.06%</td>\n    </tr>\n    <tr>\n      <th>1145</th>\n      <td>1144</td>\n      <td>Ziyang</td>\n      <td>China</td>\n      <td>500094</td>\n      <td>0.0</td>\n      <td>0</td>\n    </tr>\n  </tbody>\n</table>\n<p>1145 rows × 6 columns</p>\n</div>"
     },
     "metadata": {},
     "execution_count": 16
    }
   ],
   "source": [
    "city_df"
   ]
  },
  {
   "cell_type": "code",
   "execution_count": 17,
   "metadata": {},
   "outputs": [
    {
     "output_type": "execute_result",
     "data": {
      "text/plain": [
       "             Name        Country  2020 Population  2019 Population  Change\n",
       "Rank                                                                      \n",
       "1           Tokyo          Japan         37393128       37435192.0  -0.11%\n",
       "2           Delhi          India         30290936       29399140.0   3.03%\n",
       "3        Shanghai          China         27058480       26317104.0   2.82%\n",
       "4       Sao Paulo         Brazil         22043028       21846508.0   0.90%\n",
       "5     Mexico City         Mexico         21782378       21671908.0   0.51%\n",
       "...           ...            ...              ...              ...     ...\n",
       "1141        Tanta          Egypt           501423              0.0       0\n",
       "1142   Sacramento  United States           500930         500930.0   0.00%\n",
       "1143     Chuxiong          China           500867              0.0       0\n",
       "1144   Douai Lens         France           500776         501078.0  -0.06%\n",
       "1145       Ziyang          China           500094              0.0       0\n",
       "\n",
       "[1145 rows x 5 columns]"
      ],
      "text/html": "<div>\n<style scoped>\n    .dataframe tbody tr th:only-of-type {\n        vertical-align: middle;\n    }\n\n    .dataframe tbody tr th {\n        vertical-align: top;\n    }\n\n    .dataframe thead th {\n        text-align: right;\n    }\n</style>\n<table border=\"1\" class=\"dataframe\">\n  <thead>\n    <tr style=\"text-align: right;\">\n      <th></th>\n      <th>Name</th>\n      <th>Country</th>\n      <th>2020 Population</th>\n      <th>2019 Population</th>\n      <th>Change</th>\n    </tr>\n    <tr>\n      <th>Rank</th>\n      <th></th>\n      <th></th>\n      <th></th>\n      <th></th>\n      <th></th>\n    </tr>\n  </thead>\n  <tbody>\n    <tr>\n      <th>1</th>\n      <td>Tokyo</td>\n      <td>Japan</td>\n      <td>37393128</td>\n      <td>37435192.0</td>\n      <td>-0.11%</td>\n    </tr>\n    <tr>\n      <th>2</th>\n      <td>Delhi</td>\n      <td>India</td>\n      <td>30290936</td>\n      <td>29399140.0</td>\n      <td>3.03%</td>\n    </tr>\n    <tr>\n      <th>3</th>\n      <td>Shanghai</td>\n      <td>China</td>\n      <td>27058480</td>\n      <td>26317104.0</td>\n      <td>2.82%</td>\n    </tr>\n    <tr>\n      <th>4</th>\n      <td>Sao Paulo</td>\n      <td>Brazil</td>\n      <td>22043028</td>\n      <td>21846508.0</td>\n      <td>0.90%</td>\n    </tr>\n    <tr>\n      <th>5</th>\n      <td>Mexico City</td>\n      <td>Mexico</td>\n      <td>21782378</td>\n      <td>21671908.0</td>\n      <td>0.51%</td>\n    </tr>\n    <tr>\n      <th>...</th>\n      <td>...</td>\n      <td>...</td>\n      <td>...</td>\n      <td>...</td>\n      <td>...</td>\n    </tr>\n    <tr>\n      <th>1141</th>\n      <td>Tanta</td>\n      <td>Egypt</td>\n      <td>501423</td>\n      <td>0.0</td>\n      <td>0</td>\n    </tr>\n    <tr>\n      <th>1142</th>\n      <td>Sacramento</td>\n      <td>United States</td>\n      <td>500930</td>\n      <td>500930.0</td>\n      <td>0.00%</td>\n    </tr>\n    <tr>\n      <th>1143</th>\n      <td>Chuxiong</td>\n      <td>China</td>\n      <td>500867</td>\n      <td>0.0</td>\n      <td>0</td>\n    </tr>\n    <tr>\n      <th>1144</th>\n      <td>Douai Lens</td>\n      <td>France</td>\n      <td>500776</td>\n      <td>501078.0</td>\n      <td>-0.06%</td>\n    </tr>\n    <tr>\n      <th>1145</th>\n      <td>Ziyang</td>\n      <td>China</td>\n      <td>500094</td>\n      <td>0.0</td>\n      <td>0</td>\n    </tr>\n  </tbody>\n</table>\n<p>1145 rows × 5 columns</p>\n</div>"
     },
     "metadata": {},
     "execution_count": 17
    }
   ],
   "source": [
    "# delete unecessary columns\n",
    "del city_df['Unnamed: 0']\n",
    "city_df"
   ]
  },
  {
   "cell_type": "code",
   "execution_count": 18,
   "metadata": {},
   "outputs": [],
   "source": [
    "# rename the columns\n",
    "city_df.rename(columns={\n",
    "    'Name':'City',\n",
    "    '2020 Population':'2020',\n",
    "    '2019 Population':'2019'\n",
    " },inplace=True)"
   ]
  },
  {
   "cell_type": "code",
   "execution_count": 19,
   "metadata": {},
   "outputs": [
    {
     "output_type": "execute_result",
     "data": {
      "text/plain": [
       "             City        Country      2020        2019  Change\n",
       "Rank                                                          \n",
       "1           Tokyo          Japan  37393128  37435192.0  -0.11%\n",
       "2           Delhi          India  30290936  29399140.0   3.03%\n",
       "3        Shanghai          China  27058480  26317104.0   2.82%\n",
       "4       Sao Paulo         Brazil  22043028  21846508.0   0.90%\n",
       "5     Mexico City         Mexico  21782378  21671908.0   0.51%\n",
       "...           ...            ...       ...         ...     ...\n",
       "1141        Tanta          Egypt    501423         0.0       0\n",
       "1142   Sacramento  United States    500930    500930.0   0.00%\n",
       "1143     Chuxiong          China    500867         0.0       0\n",
       "1144   Douai Lens         France    500776    501078.0  -0.06%\n",
       "1145       Ziyang          China    500094         0.0       0\n",
       "\n",
       "[1145 rows x 5 columns]"
      ],
      "text/html": "<div>\n<style scoped>\n    .dataframe tbody tr th:only-of-type {\n        vertical-align: middle;\n    }\n\n    .dataframe tbody tr th {\n        vertical-align: top;\n    }\n\n    .dataframe thead th {\n        text-align: right;\n    }\n</style>\n<table border=\"1\" class=\"dataframe\">\n  <thead>\n    <tr style=\"text-align: right;\">\n      <th></th>\n      <th>City</th>\n      <th>Country</th>\n      <th>2020</th>\n      <th>2019</th>\n      <th>Change</th>\n    </tr>\n    <tr>\n      <th>Rank</th>\n      <th></th>\n      <th></th>\n      <th></th>\n      <th></th>\n      <th></th>\n    </tr>\n  </thead>\n  <tbody>\n    <tr>\n      <th>1</th>\n      <td>Tokyo</td>\n      <td>Japan</td>\n      <td>37393128</td>\n      <td>37435192.0</td>\n      <td>-0.11%</td>\n    </tr>\n    <tr>\n      <th>2</th>\n      <td>Delhi</td>\n      <td>India</td>\n      <td>30290936</td>\n      <td>29399140.0</td>\n      <td>3.03%</td>\n    </tr>\n    <tr>\n      <th>3</th>\n      <td>Shanghai</td>\n      <td>China</td>\n      <td>27058480</td>\n      <td>26317104.0</td>\n      <td>2.82%</td>\n    </tr>\n    <tr>\n      <th>4</th>\n      <td>Sao Paulo</td>\n      <td>Brazil</td>\n      <td>22043028</td>\n      <td>21846508.0</td>\n      <td>0.90%</td>\n    </tr>\n    <tr>\n      <th>5</th>\n      <td>Mexico City</td>\n      <td>Mexico</td>\n      <td>21782378</td>\n      <td>21671908.0</td>\n      <td>0.51%</td>\n    </tr>\n    <tr>\n      <th>...</th>\n      <td>...</td>\n      <td>...</td>\n      <td>...</td>\n      <td>...</td>\n      <td>...</td>\n    </tr>\n    <tr>\n      <th>1141</th>\n      <td>Tanta</td>\n      <td>Egypt</td>\n      <td>501423</td>\n      <td>0.0</td>\n      <td>0</td>\n    </tr>\n    <tr>\n      <th>1142</th>\n      <td>Sacramento</td>\n      <td>United States</td>\n      <td>500930</td>\n      <td>500930.0</td>\n      <td>0.00%</td>\n    </tr>\n    <tr>\n      <th>1143</th>\n      <td>Chuxiong</td>\n      <td>China</td>\n      <td>500867</td>\n      <td>0.0</td>\n      <td>0</td>\n    </tr>\n    <tr>\n      <th>1144</th>\n      <td>Douai Lens</td>\n      <td>France</td>\n      <td>500776</td>\n      <td>501078.0</td>\n      <td>-0.06%</td>\n    </tr>\n    <tr>\n      <th>1145</th>\n      <td>Ziyang</td>\n      <td>China</td>\n      <td>500094</td>\n      <td>0.0</td>\n      <td>0</td>\n    </tr>\n  </tbody>\n</table>\n<p>1145 rows × 5 columns</p>\n</div>"
     },
     "metadata": {},
     "execution_count": 19
    }
   ],
   "source": [
    "city_df"
   ]
  },
  {
   "cell_type": "code",
   "execution_count": 20,
   "metadata": {},
   "outputs": [
    {
     "output_type": "execute_result",
     "data": {
      "text/plain": [
       "             City        Country      2020      2019 Change\n",
       "Rank                                                       \n",
       "1           Tokyo          Japan  37393128  37435192  -0.11\n",
       "2           Delhi          India  30290936    293991   3.03\n",
       "3        Shanghai          China  27058480    263174   2.82\n",
       "4       Sao Paulo         Brazil  22043028    218468   0.90\n",
       "5     Mexico City         Mexico  21782378    216718   0.51\n",
       "...           ...            ...       ...       ...    ...\n",
       "1141        Tanta          Egypt    501423         0    NaN\n",
       "1142   Sacramento  United States    500930        09   0.00\n",
       "1143     Chuxiong          China    500867         0    NaN\n",
       "1144   Douai Lens         France    500776        78  -0.06\n",
       "1145       Ziyang          China    500094         0    NaN\n",
       "\n",
       "[1145 rows x 5 columns]"
      ],
      "text/html": "<div>\n<style scoped>\n    .dataframe tbody tr th:only-of-type {\n        vertical-align: middle;\n    }\n\n    .dataframe tbody tr th {\n        vertical-align: top;\n    }\n\n    .dataframe thead th {\n        text-align: right;\n    }\n</style>\n<table border=\"1\" class=\"dataframe\">\n  <thead>\n    <tr style=\"text-align: right;\">\n      <th></th>\n      <th>City</th>\n      <th>Country</th>\n      <th>2020</th>\n      <th>2019</th>\n      <th>Change</th>\n    </tr>\n    <tr>\n      <th>Rank</th>\n      <th></th>\n      <th></th>\n      <th></th>\n      <th></th>\n      <th></th>\n    </tr>\n  </thead>\n  <tbody>\n    <tr>\n      <th>1</th>\n      <td>Tokyo</td>\n      <td>Japan</td>\n      <td>37393128</td>\n      <td>37435192</td>\n      <td>-0.11</td>\n    </tr>\n    <tr>\n      <th>2</th>\n      <td>Delhi</td>\n      <td>India</td>\n      <td>30290936</td>\n      <td>293991</td>\n      <td>3.03</td>\n    </tr>\n    <tr>\n      <th>3</th>\n      <td>Shanghai</td>\n      <td>China</td>\n      <td>27058480</td>\n      <td>263174</td>\n      <td>2.82</td>\n    </tr>\n    <tr>\n      <th>4</th>\n      <td>Sao Paulo</td>\n      <td>Brazil</td>\n      <td>22043028</td>\n      <td>218468</td>\n      <td>0.90</td>\n    </tr>\n    <tr>\n      <th>5</th>\n      <td>Mexico City</td>\n      <td>Mexico</td>\n      <td>21782378</td>\n      <td>216718</td>\n      <td>0.51</td>\n    </tr>\n    <tr>\n      <th>...</th>\n      <td>...</td>\n      <td>...</td>\n      <td>...</td>\n      <td>...</td>\n      <td>...</td>\n    </tr>\n    <tr>\n      <th>1141</th>\n      <td>Tanta</td>\n      <td>Egypt</td>\n      <td>501423</td>\n      <td>0</td>\n      <td>NaN</td>\n    </tr>\n    <tr>\n      <th>1142</th>\n      <td>Sacramento</td>\n      <td>United States</td>\n      <td>500930</td>\n      <td>09</td>\n      <td>0.00</td>\n    </tr>\n    <tr>\n      <th>1143</th>\n      <td>Chuxiong</td>\n      <td>China</td>\n      <td>500867</td>\n      <td>0</td>\n      <td>NaN</td>\n    </tr>\n    <tr>\n      <th>1144</th>\n      <td>Douai Lens</td>\n      <td>France</td>\n      <td>500776</td>\n      <td>78</td>\n      <td>-0.06</td>\n    </tr>\n    <tr>\n      <th>1145</th>\n      <td>Ziyang</td>\n      <td>China</td>\n      <td>500094</td>\n      <td>0</td>\n      <td>NaN</td>\n    </tr>\n  </tbody>\n</table>\n<p>1145 rows × 5 columns</p>\n</div>"
     },
     "metadata": {},
     "execution_count": 20
    }
   ],
   "source": [
    "# Remove unecessary characters\n",
    "city_df['Change'] = city_df['Change'].str.rsplit('%', 0).str.get(0)\n",
    "city_df['2019'] = city_df['2019'].astype(str)\n",
    "city_df['2019'] = city_df['2019'].str.replace('.0', '')\n",
    "city_df"
   ]
  },
  {
   "cell_type": "code",
   "execution_count": 21,
   "metadata": {},
   "outputs": [
    {
     "output_type": "execute_result",
     "data": {
      "text/plain": [
       "City       0\n",
       "Country    0\n",
       "2020       0\n",
       "2019       0\n",
       "Change     0\n",
       "dtype: int64"
      ]
     },
     "metadata": {},
     "execution_count": 21
    }
   ],
   "source": [
    "# replace the null values with zero.\n",
    "city_df.fillna(0,inplace = True)\n",
    "city_df.isna().sum()"
   ]
  },
  {
   "cell_type": "code",
   "execution_count": 22,
   "metadata": {},
   "outputs": [
    {
     "output_type": "execute_result",
     "data": {
      "text/plain": [
       "             City        Country      2020      2019 Change\n",
       "Rank                                                       \n",
       "1           Tokyo          Japan  37393128  37435192  -0.11\n",
       "2           Delhi          India  30290936    293991   3.03\n",
       "3        Shanghai          China  27058480    263174   2.82\n",
       "4       Sao Paulo         Brazil  22043028    218468   0.90\n",
       "5     Mexico City         Mexico  21782378    216718   0.51\n",
       "...           ...            ...       ...       ...    ...\n",
       "1141        Tanta          Egypt    501423         0      0\n",
       "1142   Sacramento  United States    500930        09   0.00\n",
       "1143     Chuxiong          China    500867         0      0\n",
       "1144   Douai Lens         France    500776        78  -0.06\n",
       "1145       Ziyang          China    500094         0      0\n",
       "\n",
       "[1145 rows x 5 columns]"
      ],
      "text/html": "<div>\n<style scoped>\n    .dataframe tbody tr th:only-of-type {\n        vertical-align: middle;\n    }\n\n    .dataframe tbody tr th {\n        vertical-align: top;\n    }\n\n    .dataframe thead th {\n        text-align: right;\n    }\n</style>\n<table border=\"1\" class=\"dataframe\">\n  <thead>\n    <tr style=\"text-align: right;\">\n      <th></th>\n      <th>City</th>\n      <th>Country</th>\n      <th>2020</th>\n      <th>2019</th>\n      <th>Change</th>\n    </tr>\n    <tr>\n      <th>Rank</th>\n      <th></th>\n      <th></th>\n      <th></th>\n      <th></th>\n      <th></th>\n    </tr>\n  </thead>\n  <tbody>\n    <tr>\n      <th>1</th>\n      <td>Tokyo</td>\n      <td>Japan</td>\n      <td>37393128</td>\n      <td>37435192</td>\n      <td>-0.11</td>\n    </tr>\n    <tr>\n      <th>2</th>\n      <td>Delhi</td>\n      <td>India</td>\n      <td>30290936</td>\n      <td>293991</td>\n      <td>3.03</td>\n    </tr>\n    <tr>\n      <th>3</th>\n      <td>Shanghai</td>\n      <td>China</td>\n      <td>27058480</td>\n      <td>263174</td>\n      <td>2.82</td>\n    </tr>\n    <tr>\n      <th>4</th>\n      <td>Sao Paulo</td>\n      <td>Brazil</td>\n      <td>22043028</td>\n      <td>218468</td>\n      <td>0.90</td>\n    </tr>\n    <tr>\n      <th>5</th>\n      <td>Mexico City</td>\n      <td>Mexico</td>\n      <td>21782378</td>\n      <td>216718</td>\n      <td>0.51</td>\n    </tr>\n    <tr>\n      <th>...</th>\n      <td>...</td>\n      <td>...</td>\n      <td>...</td>\n      <td>...</td>\n      <td>...</td>\n    </tr>\n    <tr>\n      <th>1141</th>\n      <td>Tanta</td>\n      <td>Egypt</td>\n      <td>501423</td>\n      <td>0</td>\n      <td>0</td>\n    </tr>\n    <tr>\n      <th>1142</th>\n      <td>Sacramento</td>\n      <td>United States</td>\n      <td>500930</td>\n      <td>09</td>\n      <td>0.00</td>\n    </tr>\n    <tr>\n      <th>1143</th>\n      <td>Chuxiong</td>\n      <td>China</td>\n      <td>500867</td>\n      <td>0</td>\n      <td>0</td>\n    </tr>\n    <tr>\n      <th>1144</th>\n      <td>Douai Lens</td>\n      <td>France</td>\n      <td>500776</td>\n      <td>78</td>\n      <td>-0.06</td>\n    </tr>\n    <tr>\n      <th>1145</th>\n      <td>Ziyang</td>\n      <td>China</td>\n      <td>500094</td>\n      <td>0</td>\n      <td>0</td>\n    </tr>\n  </tbody>\n</table>\n<p>1145 rows × 5 columns</p>\n</div>"
     },
     "metadata": {},
     "execution_count": 22
    }
   ],
   "source": [
    "city_df"
   ]
  },
  {
   "cell_type": "code",
   "execution_count": 23,
   "metadata": {},
   "outputs": [],
   "source": [
    "# export the city_df to a csv file\n",
    "city_df.to_csv(\"../clean_data/city_clean.csv\")"
   ]
  }
 ]
}