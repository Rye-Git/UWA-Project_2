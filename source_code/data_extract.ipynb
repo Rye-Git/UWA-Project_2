{
 "metadata": {
  "language_info": {
   "codemirror_mode": {
    "name": "ipython",
    "version": 3
   },
   "file_extension": ".py",
   "mimetype": "text/x-python",
   "name": "python",
   "nbconvert_exporter": "python",
   "pygments_lexer": "ipython3",
   "version": "3.8.3-final"
  },
  "orig_nbformat": 2,
  "kernelspec": {
   "name": "python3",
   "display_name": "Python 3",
   "language": "python"
  }
 },
 "nbformat": 4,
 "nbformat_minor": 2,
 "cells": [
  {
   "cell_type": "code",
   "execution_count": 9,
   "metadata": {},
   "outputs": [],
   "source": [
    "import pandas as pd"
   ]
  },
  {
   "cell_type": "code",
   "execution_count": 10,
   "metadata": {},
   "outputs": [
    {
     "output_type": "execute_result",
     "data": {
      "text/plain": [
       "     Flag           Country  2021 (Live)  2019 Population           Area  \\\n",
       "0     NaN             China   1442166775       1433783686  9,706,961 km²   \n",
       "1     NaN             India   1387177258       1366417754  3,287,590 km²   \n",
       "2     NaN     United States    332041150        329064917  9,372,610 km²   \n",
       "3     NaN         Indonesia    275056196        270625568  1,904,569 km²   \n",
       "4     NaN          Pakistan    223154088        216565318    881,912 km²   \n",
       "..    ...               ...          ...              ...            ...   \n",
       "227   NaN        Montserrat         4992             4989        102 km²   \n",
       "228   NaN  Falkland Islands         3480             3377     12,173 km²   \n",
       "229   NaN              Niue         1626             1615        260 km²   \n",
       "230   NaN           Tokelau         1357             1340         12 km²   \n",
       "231   NaN      Vatican City          801              799          1 km²   \n",
       "\n",
       "    2019 Density Growth Rate World %  Rank  \n",
       "0        148/km²       0.39%  18.47%     1  \n",
       "1        420/km²       0.99%  17.70%     2  \n",
       "2         35/km²       0.59%   4.25%     3  \n",
       "3        144/km²       1.07%   3.51%     4  \n",
       "4        250/km²       2.00%   2.83%     5  \n",
       "..           ...         ...     ...   ...  \n",
       "227       49/km²       0.06%   0.00%   228  \n",
       "228        0/km²       3.05%   0.00%   229  \n",
       "229        6/km²       0.68%   0.00%   230  \n",
       "230      113/km²       1.27%   0.00%   231  \n",
       "231      801/km²       0.25%   0.00%   232  \n",
       "\n",
       "[232 rows x 9 columns]"
      ],
      "text/html": "<div>\n<style scoped>\n    .dataframe tbody tr th:only-of-type {\n        vertical-align: middle;\n    }\n\n    .dataframe tbody tr th {\n        vertical-align: top;\n    }\n\n    .dataframe thead th {\n        text-align: right;\n    }\n</style>\n<table border=\"1\" class=\"dataframe\">\n  <thead>\n    <tr style=\"text-align: right;\">\n      <th></th>\n      <th>Flag</th>\n      <th>Country</th>\n      <th>2021 (Live)</th>\n      <th>2019 Population</th>\n      <th>Area</th>\n      <th>2019 Density</th>\n      <th>Growth Rate</th>\n      <th>World %</th>\n      <th>Rank</th>\n    </tr>\n  </thead>\n  <tbody>\n    <tr>\n      <th>0</th>\n      <td>NaN</td>\n      <td>China</td>\n      <td>1442166775</td>\n      <td>1433783686</td>\n      <td>9,706,961 km²</td>\n      <td>148/km²</td>\n      <td>0.39%</td>\n      <td>18.47%</td>\n      <td>1</td>\n    </tr>\n    <tr>\n      <th>1</th>\n      <td>NaN</td>\n      <td>India</td>\n      <td>1387177258</td>\n      <td>1366417754</td>\n      <td>3,287,590 km²</td>\n      <td>420/km²</td>\n      <td>0.99%</td>\n      <td>17.70%</td>\n      <td>2</td>\n    </tr>\n    <tr>\n      <th>2</th>\n      <td>NaN</td>\n      <td>United States</td>\n      <td>332041150</td>\n      <td>329064917</td>\n      <td>9,372,610 km²</td>\n      <td>35/km²</td>\n      <td>0.59%</td>\n      <td>4.25%</td>\n      <td>3</td>\n    </tr>\n    <tr>\n      <th>3</th>\n      <td>NaN</td>\n      <td>Indonesia</td>\n      <td>275056196</td>\n      <td>270625568</td>\n      <td>1,904,569 km²</td>\n      <td>144/km²</td>\n      <td>1.07%</td>\n      <td>3.51%</td>\n      <td>4</td>\n    </tr>\n    <tr>\n      <th>4</th>\n      <td>NaN</td>\n      <td>Pakistan</td>\n      <td>223154088</td>\n      <td>216565318</td>\n      <td>881,912 km²</td>\n      <td>250/km²</td>\n      <td>2.00%</td>\n      <td>2.83%</td>\n      <td>5</td>\n    </tr>\n    <tr>\n      <th>...</th>\n      <td>...</td>\n      <td>...</td>\n      <td>...</td>\n      <td>...</td>\n      <td>...</td>\n      <td>...</td>\n      <td>...</td>\n      <td>...</td>\n      <td>...</td>\n    </tr>\n    <tr>\n      <th>227</th>\n      <td>NaN</td>\n      <td>Montserrat</td>\n      <td>4992</td>\n      <td>4989</td>\n      <td>102 km²</td>\n      <td>49/km²</td>\n      <td>0.06%</td>\n      <td>0.00%</td>\n      <td>228</td>\n    </tr>\n    <tr>\n      <th>228</th>\n      <td>NaN</td>\n      <td>Falkland Islands</td>\n      <td>3480</td>\n      <td>3377</td>\n      <td>12,173 km²</td>\n      <td>0/km²</td>\n      <td>3.05%</td>\n      <td>0.00%</td>\n      <td>229</td>\n    </tr>\n    <tr>\n      <th>229</th>\n      <td>NaN</td>\n      <td>Niue</td>\n      <td>1626</td>\n      <td>1615</td>\n      <td>260 km²</td>\n      <td>6/km²</td>\n      <td>0.68%</td>\n      <td>0.00%</td>\n      <td>230</td>\n    </tr>\n    <tr>\n      <th>230</th>\n      <td>NaN</td>\n      <td>Tokelau</td>\n      <td>1357</td>\n      <td>1340</td>\n      <td>12 km²</td>\n      <td>113/km²</td>\n      <td>1.27%</td>\n      <td>0.00%</td>\n      <td>231</td>\n    </tr>\n    <tr>\n      <th>231</th>\n      <td>NaN</td>\n      <td>Vatican City</td>\n      <td>801</td>\n      <td>799</td>\n      <td>1 km²</td>\n      <td>801/km²</td>\n      <td>0.25%</td>\n      <td>0.00%</td>\n      <td>232</td>\n    </tr>\n  </tbody>\n</table>\n<p>232 rows × 9 columns</p>\n</div>"
     },
     "metadata": {},
     "execution_count": 10
    }
   ],
   "source": [
    "# url for the country population\n",
    "country_url =\"https://worldpopulationreview.com/\"\n",
    "\n",
    "# Use panda's `read_html` to parse the url\n",
    "country = pd.read_html(country_url, header=0)[0]\n",
    "country"
   ]
  },
  {
   "cell_type": "code",
   "execution_count": 11,
   "metadata": {},
   "outputs": [],
   "source": [
    "# save the country dataframe to a CSV file\n",
    "country.to_csv(\"../raw_data/country.csv\")"
   ]
  },
  {
   "cell_type": "code",
   "execution_count": 12,
   "metadata": {},
   "outputs": [
    {
     "output_type": "execute_result",
     "data": {
      "text/plain": [
       "      Rank         Name        Country  2020 Population  2019 Population  \\\n",
       "0        1        Tokyo          Japan         37393128       37435192.0   \n",
       "1        2        Delhi          India         30290936       29399140.0   \n",
       "2        3     Shanghai          China         27058480       26317104.0   \n",
       "3        4    Sao Paulo         Brazil         22043028       21846508.0   \n",
       "4        5  Mexico City         Mexico         21782378       21671908.0   \n",
       "...    ...          ...            ...              ...              ...   \n",
       "1140  1141        Tanta          Egypt           501423              NaN   \n",
       "1141  1142   Sacramento  United States           500930         500930.0   \n",
       "1142  1143     Chuxiong          China           500867              NaN   \n",
       "1143  1144   Douai Lens         France           500776         501078.0   \n",
       "1144  1145       Ziyang          China           500094              NaN   \n",
       "\n",
       "      Change  \n",
       "0     -0.11%  \n",
       "1      3.03%  \n",
       "2      2.82%  \n",
       "3      0.90%  \n",
       "4      0.51%  \n",
       "...      ...  \n",
       "1140     NaN  \n",
       "1141   0.00%  \n",
       "1142     NaN  \n",
       "1143  -0.06%  \n",
       "1144     NaN  \n",
       "\n",
       "[1145 rows x 6 columns]"
      ],
      "text/html": "<div>\n<style scoped>\n    .dataframe tbody tr th:only-of-type {\n        vertical-align: middle;\n    }\n\n    .dataframe tbody tr th {\n        vertical-align: top;\n    }\n\n    .dataframe thead th {\n        text-align: right;\n    }\n</style>\n<table border=\"1\" class=\"dataframe\">\n  <thead>\n    <tr style=\"text-align: right;\">\n      <th></th>\n      <th>Rank</th>\n      <th>Name</th>\n      <th>Country</th>\n      <th>2020 Population</th>\n      <th>2019 Population</th>\n      <th>Change</th>\n    </tr>\n  </thead>\n  <tbody>\n    <tr>\n      <th>0</th>\n      <td>1</td>\n      <td>Tokyo</td>\n      <td>Japan</td>\n      <td>37393128</td>\n      <td>37435192.0</td>\n      <td>-0.11%</td>\n    </tr>\n    <tr>\n      <th>1</th>\n      <td>2</td>\n      <td>Delhi</td>\n      <td>India</td>\n      <td>30290936</td>\n      <td>29399140.0</td>\n      <td>3.03%</td>\n    </tr>\n    <tr>\n      <th>2</th>\n      <td>3</td>\n      <td>Shanghai</td>\n      <td>China</td>\n      <td>27058480</td>\n      <td>26317104.0</td>\n      <td>2.82%</td>\n    </tr>\n    <tr>\n      <th>3</th>\n      <td>4</td>\n      <td>Sao Paulo</td>\n      <td>Brazil</td>\n      <td>22043028</td>\n      <td>21846508.0</td>\n      <td>0.90%</td>\n    </tr>\n    <tr>\n      <th>4</th>\n      <td>5</td>\n      <td>Mexico City</td>\n      <td>Mexico</td>\n      <td>21782378</td>\n      <td>21671908.0</td>\n      <td>0.51%</td>\n    </tr>\n    <tr>\n      <th>...</th>\n      <td>...</td>\n      <td>...</td>\n      <td>...</td>\n      <td>...</td>\n      <td>...</td>\n      <td>...</td>\n    </tr>\n    <tr>\n      <th>1140</th>\n      <td>1141</td>\n      <td>Tanta</td>\n      <td>Egypt</td>\n      <td>501423</td>\n      <td>NaN</td>\n      <td>NaN</td>\n    </tr>\n    <tr>\n      <th>1141</th>\n      <td>1142</td>\n      <td>Sacramento</td>\n      <td>United States</td>\n      <td>500930</td>\n      <td>500930.0</td>\n      <td>0.00%</td>\n    </tr>\n    <tr>\n      <th>1142</th>\n      <td>1143</td>\n      <td>Chuxiong</td>\n      <td>China</td>\n      <td>500867</td>\n      <td>NaN</td>\n      <td>NaN</td>\n    </tr>\n    <tr>\n      <th>1143</th>\n      <td>1144</td>\n      <td>Douai Lens</td>\n      <td>France</td>\n      <td>500776</td>\n      <td>501078.0</td>\n      <td>-0.06%</td>\n    </tr>\n    <tr>\n      <th>1144</th>\n      <td>1145</td>\n      <td>Ziyang</td>\n      <td>China</td>\n      <td>500094</td>\n      <td>NaN</td>\n      <td>NaN</td>\n    </tr>\n  </tbody>\n</table>\n<p>1145 rows × 6 columns</p>\n</div>"
     },
     "metadata": {},
     "execution_count": 12
    }
   ],
   "source": [
    "# url for the city population\n",
    "city_url =\"https://worldpopulationreview.com/world-cities\"\n",
    "\n",
    "# Use panda's `read_html` to parse the url\n",
    "city = pd.read_html(city_url, header=0)[0]\n",
    "city"
   ]
  },
  {
   "cell_type": "code",
   "execution_count": 13,
   "metadata": {},
   "outputs": [],
   "source": [
    "# save the city dataframe to a CSV file\n",
    "city.to_csv(\"../raw_data/city.csv\")"
   ]
  }
 ]
}