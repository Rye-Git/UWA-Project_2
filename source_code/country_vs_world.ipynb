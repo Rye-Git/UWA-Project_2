{
 "metadata": {
  "language_info": {
   "codemirror_mode": {
    "name": "ipython",
    "version": 3
   },
   "file_extension": ".py",
   "mimetype": "text/x-python",
   "name": "python",
   "nbconvert_exporter": "python",
   "pygments_lexer": "ipython3",
   "version": "3.8.3-final"
  },
  "orig_nbformat": 2,
  "kernelspec": {
   "name": "python3",
   "display_name": "Python 3",
   "language": "python"
  }
 },
 "nbformat": 4,
 "nbformat_minor": 2,
 "cells": [
  {
   "source": [
    "### Top 10 country ratio versus the rest of the world"
   ],
   "cell_type": "markdown",
   "metadata": {}
  },
  {
   "cell_type": "code",
   "execution_count": 38,
   "metadata": {},
   "outputs": [],
   "source": [
    "import pandas as pd"
   ]
  },
  {
   "cell_type": "code",
   "execution_count": 39,
   "metadata": {},
   "outputs": [
    {
     "output_type": "execute_result",
     "data": {
      "text/plain": [
       "               Country        2019        2020  Area_(km²)  Growth_Rate_(%)  \\\n",
       "Rank                                                                          \n",
       "1                China  1433783686  1442166775     9706961             0.39   \n",
       "2                India  1366417754  1387177258     3287590             0.99   \n",
       "3        United States   329064917   332041150     9372610             0.59   \n",
       "4            Indonesia   270625568   275056196     1904569             1.07   \n",
       "5             Pakistan   216565318   223154088      881912             2.00   \n",
       "...                ...         ...         ...         ...              ...   \n",
       "228         Montserrat        4989        4992         102             0.06   \n",
       "229   Falkland Islands        3377        3480       12173             3.05   \n",
       "230               Niue        1615        1626         260             0.68   \n",
       "231            Tokelau        1340        1357          12             1.27   \n",
       "232       Vatican City         799         801           1             0.25   \n",
       "\n",
       "      World_Ratio_(%)  \n",
       "Rank                   \n",
       "1               18.47  \n",
       "2               17.70  \n",
       "3                4.25  \n",
       "4                3.51  \n",
       "5                2.83  \n",
       "...               ...  \n",
       "228              0.00  \n",
       "229              0.00  \n",
       "230              0.00  \n",
       "231              0.00  \n",
       "232              0.00  \n",
       "\n",
       "[232 rows x 6 columns]"
      ],
      "text/html": "<div>\n<style scoped>\n    .dataframe tbody tr th:only-of-type {\n        vertical-align: middle;\n    }\n\n    .dataframe tbody tr th {\n        vertical-align: top;\n    }\n\n    .dataframe thead th {\n        text-align: right;\n    }\n</style>\n<table border=\"1\" class=\"dataframe\">\n  <thead>\n    <tr style=\"text-align: right;\">\n      <th></th>\n      <th>Country</th>\n      <th>2019</th>\n      <th>2020</th>\n      <th>Area_(km²)</th>\n      <th>Growth_Rate_(%)</th>\n      <th>World_Ratio_(%)</th>\n    </tr>\n    <tr>\n      <th>Rank</th>\n      <th></th>\n      <th></th>\n      <th></th>\n      <th></th>\n      <th></th>\n      <th></th>\n    </tr>\n  </thead>\n  <tbody>\n    <tr>\n      <th>1</th>\n      <td>China</td>\n      <td>1433783686</td>\n      <td>1442166775</td>\n      <td>9706961</td>\n      <td>0.39</td>\n      <td>18.47</td>\n    </tr>\n    <tr>\n      <th>2</th>\n      <td>India</td>\n      <td>1366417754</td>\n      <td>1387177258</td>\n      <td>3287590</td>\n      <td>0.99</td>\n      <td>17.70</td>\n    </tr>\n    <tr>\n      <th>3</th>\n      <td>United States</td>\n      <td>329064917</td>\n      <td>332041150</td>\n      <td>9372610</td>\n      <td>0.59</td>\n      <td>4.25</td>\n    </tr>\n    <tr>\n      <th>4</th>\n      <td>Indonesia</td>\n      <td>270625568</td>\n      <td>275056196</td>\n      <td>1904569</td>\n      <td>1.07</td>\n      <td>3.51</td>\n    </tr>\n    <tr>\n      <th>5</th>\n      <td>Pakistan</td>\n      <td>216565318</td>\n      <td>223154088</td>\n      <td>881912</td>\n      <td>2.00</td>\n      <td>2.83</td>\n    </tr>\n    <tr>\n      <th>...</th>\n      <td>...</td>\n      <td>...</td>\n      <td>...</td>\n      <td>...</td>\n      <td>...</td>\n      <td>...</td>\n    </tr>\n    <tr>\n      <th>228</th>\n      <td>Montserrat</td>\n      <td>4989</td>\n      <td>4992</td>\n      <td>102</td>\n      <td>0.06</td>\n      <td>0.00</td>\n    </tr>\n    <tr>\n      <th>229</th>\n      <td>Falkland Islands</td>\n      <td>3377</td>\n      <td>3480</td>\n      <td>12173</td>\n      <td>3.05</td>\n      <td>0.00</td>\n    </tr>\n    <tr>\n      <th>230</th>\n      <td>Niue</td>\n      <td>1615</td>\n      <td>1626</td>\n      <td>260</td>\n      <td>0.68</td>\n      <td>0.00</td>\n    </tr>\n    <tr>\n      <th>231</th>\n      <td>Tokelau</td>\n      <td>1340</td>\n      <td>1357</td>\n      <td>12</td>\n      <td>1.27</td>\n      <td>0.00</td>\n    </tr>\n    <tr>\n      <th>232</th>\n      <td>Vatican City</td>\n      <td>799</td>\n      <td>801</td>\n      <td>1</td>\n      <td>0.25</td>\n      <td>0.00</td>\n    </tr>\n  </tbody>\n</table>\n<p>232 rows × 6 columns</p>\n</div>"
     },
     "metadata": {},
     "execution_count": 39
    }
   ],
   "source": [
    "# assign the country csv file to a variable\n",
    "path = ('../clean_data/country_population_change_2yrs.csv')\n",
    "\n",
    "# read the csv file\n",
    "countries_vs_world = pd.read_csv(path, index_col=0)\n",
    "countries_vs_world"
   ]
  },
  {
   "cell_type": "code",
   "execution_count": 40,
   "metadata": {},
   "outputs": [
    {
     "output_type": "execute_result",
     "data": {
      "text/plain": [
       "            Country        2019        2020  Area_(km²)  Growth_Rate_(%)  \\\n",
       "Rank                                                                       \n",
       "1             China  1433783686  1442166775     9706961             0.39   \n",
       "2             India  1366417754  1387177258     3287590             0.99   \n",
       "3     United States   329064917   332041150     9372610             0.59   \n",
       "4         Indonesia   270625568   275056196     1904569             1.07   \n",
       "5          Pakistan   216565318   223154088      881912             2.00   \n",
       "6            Brazil   211049527   213344896     8515767             0.72   \n",
       "7           Nigeria   200963599   208873242      923768             2.58   \n",
       "8        Bangladesh   163046161   165549495      147570             1.01   \n",
       "9            Russia   145872256   145960882    17098242             0.04   \n",
       "10           Mexico   127575529   129649385     1964375             1.06   \n",
       "\n",
       "      World_Ratio_(%)  \n",
       "Rank                   \n",
       "1               18.47  \n",
       "2               17.70  \n",
       "3                4.25  \n",
       "4                3.51  \n",
       "5                2.83  \n",
       "6                2.73  \n",
       "7                2.64  \n",
       "8                2.11  \n",
       "9                1.87  \n",
       "10               1.65  "
      ],
      "text/html": "<div>\n<style scoped>\n    .dataframe tbody tr th:only-of-type {\n        vertical-align: middle;\n    }\n\n    .dataframe tbody tr th {\n        vertical-align: top;\n    }\n\n    .dataframe thead th {\n        text-align: right;\n    }\n</style>\n<table border=\"1\" class=\"dataframe\">\n  <thead>\n    <tr style=\"text-align: right;\">\n      <th></th>\n      <th>Country</th>\n      <th>2019</th>\n      <th>2020</th>\n      <th>Area_(km²)</th>\n      <th>Growth_Rate_(%)</th>\n      <th>World_Ratio_(%)</th>\n    </tr>\n    <tr>\n      <th>Rank</th>\n      <th></th>\n      <th></th>\n      <th></th>\n      <th></th>\n      <th></th>\n      <th></th>\n    </tr>\n  </thead>\n  <tbody>\n    <tr>\n      <th>1</th>\n      <td>China</td>\n      <td>1433783686</td>\n      <td>1442166775</td>\n      <td>9706961</td>\n      <td>0.39</td>\n      <td>18.47</td>\n    </tr>\n    <tr>\n      <th>2</th>\n      <td>India</td>\n      <td>1366417754</td>\n      <td>1387177258</td>\n      <td>3287590</td>\n      <td>0.99</td>\n      <td>17.70</td>\n    </tr>\n    <tr>\n      <th>3</th>\n      <td>United States</td>\n      <td>329064917</td>\n      <td>332041150</td>\n      <td>9372610</td>\n      <td>0.59</td>\n      <td>4.25</td>\n    </tr>\n    <tr>\n      <th>4</th>\n      <td>Indonesia</td>\n      <td>270625568</td>\n      <td>275056196</td>\n      <td>1904569</td>\n      <td>1.07</td>\n      <td>3.51</td>\n    </tr>\n    <tr>\n      <th>5</th>\n      <td>Pakistan</td>\n      <td>216565318</td>\n      <td>223154088</td>\n      <td>881912</td>\n      <td>2.00</td>\n      <td>2.83</td>\n    </tr>\n    <tr>\n      <th>6</th>\n      <td>Brazil</td>\n      <td>211049527</td>\n      <td>213344896</td>\n      <td>8515767</td>\n      <td>0.72</td>\n      <td>2.73</td>\n    </tr>\n    <tr>\n      <th>7</th>\n      <td>Nigeria</td>\n      <td>200963599</td>\n      <td>208873242</td>\n      <td>923768</td>\n      <td>2.58</td>\n      <td>2.64</td>\n    </tr>\n    <tr>\n      <th>8</th>\n      <td>Bangladesh</td>\n      <td>163046161</td>\n      <td>165549495</td>\n      <td>147570</td>\n      <td>1.01</td>\n      <td>2.11</td>\n    </tr>\n    <tr>\n      <th>9</th>\n      <td>Russia</td>\n      <td>145872256</td>\n      <td>145960882</td>\n      <td>17098242</td>\n      <td>0.04</td>\n      <td>1.87</td>\n    </tr>\n    <tr>\n      <th>10</th>\n      <td>Mexico</td>\n      <td>127575529</td>\n      <td>129649385</td>\n      <td>1964375</td>\n      <td>1.06</td>\n      <td>1.65</td>\n    </tr>\n  </tbody>\n</table>\n</div>"
     },
     "metadata": {},
     "execution_count": 40
    }
   ],
   "source": [
    "# grab the top 10 countries\n",
    "top_10 = countries_vs_world.head(10)\n",
    "top_10"
   ]
  },
  {
   "cell_type": "code",
   "execution_count": 41,
   "metadata": {},
   "outputs": [
    {
     "output_type": "execute_result",
     "data": {
      "text/plain": [
       "            Country        2020  World_Ratio_(%)\n",
       "Rank                                            \n",
       "1             China  1442166775            18.47\n",
       "2             India  1387177258            17.70\n",
       "3     United States   332041150             4.25\n",
       "4         Indonesia   275056196             3.51\n",
       "5          Pakistan   223154088             2.83\n",
       "6            Brazil   213344896             2.73\n",
       "7           Nigeria   208873242             2.64\n",
       "8        Bangladesh   165549495             2.11\n",
       "9            Russia   145960882             1.87\n",
       "10           Mexico   129649385             1.65"
      ],
      "text/html": "<div>\n<style scoped>\n    .dataframe tbody tr th:only-of-type {\n        vertical-align: middle;\n    }\n\n    .dataframe tbody tr th {\n        vertical-align: top;\n    }\n\n    .dataframe thead th {\n        text-align: right;\n    }\n</style>\n<table border=\"1\" class=\"dataframe\">\n  <thead>\n    <tr style=\"text-align: right;\">\n      <th></th>\n      <th>Country</th>\n      <th>2020</th>\n      <th>World_Ratio_(%)</th>\n    </tr>\n    <tr>\n      <th>Rank</th>\n      <th></th>\n      <th></th>\n      <th></th>\n    </tr>\n  </thead>\n  <tbody>\n    <tr>\n      <th>1</th>\n      <td>China</td>\n      <td>1442166775</td>\n      <td>18.47</td>\n    </tr>\n    <tr>\n      <th>2</th>\n      <td>India</td>\n      <td>1387177258</td>\n      <td>17.70</td>\n    </tr>\n    <tr>\n      <th>3</th>\n      <td>United States</td>\n      <td>332041150</td>\n      <td>4.25</td>\n    </tr>\n    <tr>\n      <th>4</th>\n      <td>Indonesia</td>\n      <td>275056196</td>\n      <td>3.51</td>\n    </tr>\n    <tr>\n      <th>5</th>\n      <td>Pakistan</td>\n      <td>223154088</td>\n      <td>2.83</td>\n    </tr>\n    <tr>\n      <th>6</th>\n      <td>Brazil</td>\n      <td>213344896</td>\n      <td>2.73</td>\n    </tr>\n    <tr>\n      <th>7</th>\n      <td>Nigeria</td>\n      <td>208873242</td>\n      <td>2.64</td>\n    </tr>\n    <tr>\n      <th>8</th>\n      <td>Bangladesh</td>\n      <td>165549495</td>\n      <td>2.11</td>\n    </tr>\n    <tr>\n      <th>9</th>\n      <td>Russia</td>\n      <td>145960882</td>\n      <td>1.87</td>\n    </tr>\n    <tr>\n      <th>10</th>\n      <td>Mexico</td>\n      <td>129649385</td>\n      <td>1.65</td>\n    </tr>\n  </tbody>\n</table>\n</div>"
     },
     "metadata": {},
     "execution_count": 41
    }
   ],
   "source": [
    "# delete unecessary columns\n",
    "del top_10['2019'], top_10['Area_(km²)'], top_10['Growth_Rate_(%)']\n",
    "top_10"
   ]
  },
  {
   "cell_type": "code",
   "execution_count": 42,
   "metadata": {},
   "outputs": [
    {
     "output_type": "stream",
     "name": "stdout",
     "text": [
      "57.76\n"
     ]
    }
   ],
   "source": [
    "# sum of the world ratio of the top 10 countries\n",
    "print(top_10['World_Ratio_(%)'].sum(axis=0))"
   ]
  },
  {
   "cell_type": "code",
   "execution_count": 43,
   "metadata": {},
   "outputs": [
    {
     "output_type": "execute_result",
     "data": {
      "text/plain": [
       "               Country       2019       2020  Area_(km²)  Growth_Rate_(%)  \\\n",
       "Rank                                                                        \n",
       "11               Japan  126860301  126275125      377930            -0.30   \n",
       "12            Ethiopia  112078730  116483634     1104300             2.57   \n",
       "13         Philippines  108116615  110360579      342353             1.35   \n",
       "14               Egypt  100388073  103358053     1002450             1.94   \n",
       "15             Vietnam   96462106   97793127      331212             0.91   \n",
       "...                ...        ...        ...         ...              ...   \n",
       "228         Montserrat       4989       4992         102             0.06   \n",
       "229   Falkland Islands       3377       3480       12173             3.05   \n",
       "230               Niue       1615       1626         260             0.68   \n",
       "231            Tokelau       1340       1357          12             1.27   \n",
       "232       Vatican City        799        801           1             0.25   \n",
       "\n",
       "      World_Ratio_(%)  \n",
       "Rank                   \n",
       "11               1.62  \n",
       "12               1.47  \n",
       "13               1.41  \n",
       "14               1.31  \n",
       "15               1.25  \n",
       "...               ...  \n",
       "228              0.00  \n",
       "229              0.00  \n",
       "230              0.00  \n",
       "231              0.00  \n",
       "232              0.00  \n",
       "\n",
       "[222 rows x 6 columns]"
      ],
      "text/html": "<div>\n<style scoped>\n    .dataframe tbody tr th:only-of-type {\n        vertical-align: middle;\n    }\n\n    .dataframe tbody tr th {\n        vertical-align: top;\n    }\n\n    .dataframe thead th {\n        text-align: right;\n    }\n</style>\n<table border=\"1\" class=\"dataframe\">\n  <thead>\n    <tr style=\"text-align: right;\">\n      <th></th>\n      <th>Country</th>\n      <th>2019</th>\n      <th>2020</th>\n      <th>Area_(km²)</th>\n      <th>Growth_Rate_(%)</th>\n      <th>World_Ratio_(%)</th>\n    </tr>\n    <tr>\n      <th>Rank</th>\n      <th></th>\n      <th></th>\n      <th></th>\n      <th></th>\n      <th></th>\n      <th></th>\n    </tr>\n  </thead>\n  <tbody>\n    <tr>\n      <th>11</th>\n      <td>Japan</td>\n      <td>126860301</td>\n      <td>126275125</td>\n      <td>377930</td>\n      <td>-0.30</td>\n      <td>1.62</td>\n    </tr>\n    <tr>\n      <th>12</th>\n      <td>Ethiopia</td>\n      <td>112078730</td>\n      <td>116483634</td>\n      <td>1104300</td>\n      <td>2.57</td>\n      <td>1.47</td>\n    </tr>\n    <tr>\n      <th>13</th>\n      <td>Philippines</td>\n      <td>108116615</td>\n      <td>110360579</td>\n      <td>342353</td>\n      <td>1.35</td>\n      <td>1.41</td>\n    </tr>\n    <tr>\n      <th>14</th>\n      <td>Egypt</td>\n      <td>100388073</td>\n      <td>103358053</td>\n      <td>1002450</td>\n      <td>1.94</td>\n      <td>1.31</td>\n    </tr>\n    <tr>\n      <th>15</th>\n      <td>Vietnam</td>\n      <td>96462106</td>\n      <td>97793127</td>\n      <td>331212</td>\n      <td>0.91</td>\n      <td>1.25</td>\n    </tr>\n    <tr>\n      <th>...</th>\n      <td>...</td>\n      <td>...</td>\n      <td>...</td>\n      <td>...</td>\n      <td>...</td>\n      <td>...</td>\n    </tr>\n    <tr>\n      <th>228</th>\n      <td>Montserrat</td>\n      <td>4989</td>\n      <td>4992</td>\n      <td>102</td>\n      <td>0.06</td>\n      <td>0.00</td>\n    </tr>\n    <tr>\n      <th>229</th>\n      <td>Falkland Islands</td>\n      <td>3377</td>\n      <td>3480</td>\n      <td>12173</td>\n      <td>3.05</td>\n      <td>0.00</td>\n    </tr>\n    <tr>\n      <th>230</th>\n      <td>Niue</td>\n      <td>1615</td>\n      <td>1626</td>\n      <td>260</td>\n      <td>0.68</td>\n      <td>0.00</td>\n    </tr>\n    <tr>\n      <th>231</th>\n      <td>Tokelau</td>\n      <td>1340</td>\n      <td>1357</td>\n      <td>12</td>\n      <td>1.27</td>\n      <td>0.00</td>\n    </tr>\n    <tr>\n      <th>232</th>\n      <td>Vatican City</td>\n      <td>799</td>\n      <td>801</td>\n      <td>1</td>\n      <td>0.25</td>\n      <td>0.00</td>\n    </tr>\n  </tbody>\n</table>\n<p>222 rows × 6 columns</p>\n</div>"
     },
     "metadata": {},
     "execution_count": 43
    }
   ],
   "source": [
    "# grab the remaining countries\n",
    "rest_of_the_world = countries_vs_world.tail(222)\n",
    "rest_of_the_world"
   ]
  },
  {
   "cell_type": "code",
   "execution_count": 44,
   "metadata": {},
   "outputs": [
    {
     "output_type": "execute_result",
     "data": {
      "text/plain": [
       "               Country       2020  World_Ratio_(%)\n",
       "Rank                                              \n",
       "11               Japan  126275125             1.62\n",
       "12            Ethiopia  116483634             1.47\n",
       "13         Philippines  110360579             1.41\n",
       "14               Egypt  103358053             1.31\n",
       "15             Vietnam   97793127             1.25\n",
       "...                ...        ...              ...\n",
       "228         Montserrat       4992             0.00\n",
       "229   Falkland Islands       3480             0.00\n",
       "230               Niue       1626             0.00\n",
       "231            Tokelau       1357             0.00\n",
       "232       Vatican City        801             0.00\n",
       "\n",
       "[222 rows x 3 columns]"
      ],
      "text/html": "<div>\n<style scoped>\n    .dataframe tbody tr th:only-of-type {\n        vertical-align: middle;\n    }\n\n    .dataframe tbody tr th {\n        vertical-align: top;\n    }\n\n    .dataframe thead th {\n        text-align: right;\n    }\n</style>\n<table border=\"1\" class=\"dataframe\">\n  <thead>\n    <tr style=\"text-align: right;\">\n      <th></th>\n      <th>Country</th>\n      <th>2020</th>\n      <th>World_Ratio_(%)</th>\n    </tr>\n    <tr>\n      <th>Rank</th>\n      <th></th>\n      <th></th>\n      <th></th>\n    </tr>\n  </thead>\n  <tbody>\n    <tr>\n      <th>11</th>\n      <td>Japan</td>\n      <td>126275125</td>\n      <td>1.62</td>\n    </tr>\n    <tr>\n      <th>12</th>\n      <td>Ethiopia</td>\n      <td>116483634</td>\n      <td>1.47</td>\n    </tr>\n    <tr>\n      <th>13</th>\n      <td>Philippines</td>\n      <td>110360579</td>\n      <td>1.41</td>\n    </tr>\n    <tr>\n      <th>14</th>\n      <td>Egypt</td>\n      <td>103358053</td>\n      <td>1.31</td>\n    </tr>\n    <tr>\n      <th>15</th>\n      <td>Vietnam</td>\n      <td>97793127</td>\n      <td>1.25</td>\n    </tr>\n    <tr>\n      <th>...</th>\n      <td>...</td>\n      <td>...</td>\n      <td>...</td>\n    </tr>\n    <tr>\n      <th>228</th>\n      <td>Montserrat</td>\n      <td>4992</td>\n      <td>0.00</td>\n    </tr>\n    <tr>\n      <th>229</th>\n      <td>Falkland Islands</td>\n      <td>3480</td>\n      <td>0.00</td>\n    </tr>\n    <tr>\n      <th>230</th>\n      <td>Niue</td>\n      <td>1626</td>\n      <td>0.00</td>\n    </tr>\n    <tr>\n      <th>231</th>\n      <td>Tokelau</td>\n      <td>1357</td>\n      <td>0.00</td>\n    </tr>\n    <tr>\n      <th>232</th>\n      <td>Vatican City</td>\n      <td>801</td>\n      <td>0.00</td>\n    </tr>\n  </tbody>\n</table>\n<p>222 rows × 3 columns</p>\n</div>"
     },
     "metadata": {},
     "execution_count": 44
    }
   ],
   "source": [
    "# delete unecessary columns\n",
    "del rest_of_the_world['2019'], rest_of_the_world['Area_(km²)'], rest_of_the_world['Growth_Rate_(%)']\n",
    "rest_of_the_world"
   ]
  },
  {
   "cell_type": "code",
   "execution_count": 45,
   "metadata": {},
   "outputs": [
    {
     "output_type": "stream",
     "name": "stdout",
     "text": [
      "3314375271\n"
     ]
    }
   ],
   "source": [
    "# population of the rest of the world from rank 11\n",
    "rest_of_the_world_sum = rest_of_the_world['2020'].sum(axis=0)\n",
    "print(rest_of_the_world_sum)"
   ]
  },
  {
   "cell_type": "code",
   "execution_count": 46,
   "metadata": {},
   "outputs": [
    {
     "output_type": "stream",
     "name": "stdout",
     "text": [
      "42.24\n"
     ]
    }
   ],
   "source": [
    "# rest of the world ratio from rank 11\n",
    "rest_of_the_world_ratio = 100 - top_10['World_Ratio_(%)'].sum(axis=0)\n",
    "print(rest_of_the_world_ratio)"
   ]
  },
  {
   "cell_type": "code",
   "execution_count": 47,
   "metadata": {},
   "outputs": [
    {
     "output_type": "execute_result",
     "data": {
      "text/plain": [
       "              Country        2020  World_Ratio_(%)\n",
       "0               China  1442166775            18.47\n",
       "1               India  1387177258            17.70\n",
       "2       United States   332041150             4.25\n",
       "3           Indonesia   275056196             3.51\n",
       "4            Pakistan   223154088             2.83\n",
       "5              Brazil   213344896             2.73\n",
       "6             Nigeria   208873242             2.64\n",
       "7          Bangladesh   165549495             2.11\n",
       "8              Russia   145960882             1.87\n",
       "9              Mexico   129649385             1.65\n",
       "10  Rest of the World  3314375271            42.24"
      ],
      "text/html": "<div>\n<style scoped>\n    .dataframe tbody tr th:only-of-type {\n        vertical-align: middle;\n    }\n\n    .dataframe tbody tr th {\n        vertical-align: top;\n    }\n\n    .dataframe thead th {\n        text-align: right;\n    }\n</style>\n<table border=\"1\" class=\"dataframe\">\n  <thead>\n    <tr style=\"text-align: right;\">\n      <th></th>\n      <th>Country</th>\n      <th>2020</th>\n      <th>World_Ratio_(%)</th>\n    </tr>\n  </thead>\n  <tbody>\n    <tr>\n      <th>0</th>\n      <td>China</td>\n      <td>1442166775</td>\n      <td>18.47</td>\n    </tr>\n    <tr>\n      <th>1</th>\n      <td>India</td>\n      <td>1387177258</td>\n      <td>17.70</td>\n    </tr>\n    <tr>\n      <th>2</th>\n      <td>United States</td>\n      <td>332041150</td>\n      <td>4.25</td>\n    </tr>\n    <tr>\n      <th>3</th>\n      <td>Indonesia</td>\n      <td>275056196</td>\n      <td>3.51</td>\n    </tr>\n    <tr>\n      <th>4</th>\n      <td>Pakistan</td>\n      <td>223154088</td>\n      <td>2.83</td>\n    </tr>\n    <tr>\n      <th>5</th>\n      <td>Brazil</td>\n      <td>213344896</td>\n      <td>2.73</td>\n    </tr>\n    <tr>\n      <th>6</th>\n      <td>Nigeria</td>\n      <td>208873242</td>\n      <td>2.64</td>\n    </tr>\n    <tr>\n      <th>7</th>\n      <td>Bangladesh</td>\n      <td>165549495</td>\n      <td>2.11</td>\n    </tr>\n    <tr>\n      <th>8</th>\n      <td>Russia</td>\n      <td>145960882</td>\n      <td>1.87</td>\n    </tr>\n    <tr>\n      <th>9</th>\n      <td>Mexico</td>\n      <td>129649385</td>\n      <td>1.65</td>\n    </tr>\n    <tr>\n      <th>10</th>\n      <td>Rest of the World</td>\n      <td>3314375271</td>\n      <td>42.24</td>\n    </tr>\n  </tbody>\n</table>\n</div>"
     },
     "metadata": {},
     "execution_count": 47
    }
   ],
   "source": [
    "# add a new row the the rest of the world data\n",
    "new_row = {'Country':'Rest of the World', '2020':rest_of_the_world_sum, 'World_Ratio_(%)':rest_of_the_world_ratio}\n",
    "population_ratio = top_10.append(new_row, ignore_index=True)\n",
    "\n",
    "#append row to the dataframe\n",
    "population_ratio"
   ]
  },
  {
   "cell_type": "code",
   "execution_count": 48,
   "metadata": {},
   "outputs": [
    {
     "output_type": "execute_result",
     "data": {
      "text/plain": [
       "                         2020  World_Ratio_(%)\n",
       "Country                                       \n",
       "China              1442166775            18.47\n",
       "India              1387177258            17.70\n",
       "United States       332041150             4.25\n",
       "Indonesia           275056196             3.51\n",
       "Pakistan            223154088             2.83\n",
       "Brazil              213344896             2.73\n",
       "Nigeria             208873242             2.64\n",
       "Bangladesh          165549495             2.11\n",
       "Russia              145960882             1.87\n",
       "Mexico              129649385             1.65\n",
       "Rest of the World  3314375271            42.24"
      ],
      "text/html": "<div>\n<style scoped>\n    .dataframe tbody tr th:only-of-type {\n        vertical-align: middle;\n    }\n\n    .dataframe tbody tr th {\n        vertical-align: top;\n    }\n\n    .dataframe thead th {\n        text-align: right;\n    }\n</style>\n<table border=\"1\" class=\"dataframe\">\n  <thead>\n    <tr style=\"text-align: right;\">\n      <th></th>\n      <th>2020</th>\n      <th>World_Ratio_(%)</th>\n    </tr>\n    <tr>\n      <th>Country</th>\n      <th></th>\n      <th></th>\n    </tr>\n  </thead>\n  <tbody>\n    <tr>\n      <th>China</th>\n      <td>1442166775</td>\n      <td>18.47</td>\n    </tr>\n    <tr>\n      <th>India</th>\n      <td>1387177258</td>\n      <td>17.70</td>\n    </tr>\n    <tr>\n      <th>United States</th>\n      <td>332041150</td>\n      <td>4.25</td>\n    </tr>\n    <tr>\n      <th>Indonesia</th>\n      <td>275056196</td>\n      <td>3.51</td>\n    </tr>\n    <tr>\n      <th>Pakistan</th>\n      <td>223154088</td>\n      <td>2.83</td>\n    </tr>\n    <tr>\n      <th>Brazil</th>\n      <td>213344896</td>\n      <td>2.73</td>\n    </tr>\n    <tr>\n      <th>Nigeria</th>\n      <td>208873242</td>\n      <td>2.64</td>\n    </tr>\n    <tr>\n      <th>Bangladesh</th>\n      <td>165549495</td>\n      <td>2.11</td>\n    </tr>\n    <tr>\n      <th>Russia</th>\n      <td>145960882</td>\n      <td>1.87</td>\n    </tr>\n    <tr>\n      <th>Mexico</th>\n      <td>129649385</td>\n      <td>1.65</td>\n    </tr>\n    <tr>\n      <th>Rest of the World</th>\n      <td>3314375271</td>\n      <td>42.24</td>\n    </tr>\n  </tbody>\n</table>\n</div>"
     },
     "metadata": {},
     "execution_count": 48
    }
   ],
   "source": [
    "# set the Country as the index\n",
    "population_ratio.set_index(\"Country\", inplace = True)\n",
    "population_ratio"
   ]
  },
  {
   "cell_type": "code",
   "execution_count": 49,
   "metadata": {},
   "outputs": [],
   "source": [
    "# export the population_ratio to a csv file\n",
    "population_ratio.to_csv(\"../clean_data/top10_country_population_ratio.csv\")"
   ]
  }
 ]
}