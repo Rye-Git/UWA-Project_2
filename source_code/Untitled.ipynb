{
 "cells": [
  {
   "cell_type": "code",
   "execution_count": 5,
   "metadata": {
    "ExecuteTime": {
     "end_time": "2021-01-13T08:10:56.747860Z",
     "start_time": "2021-01-13T08:10:56.717880Z"
    }
   },
   "outputs": [
    {
     "name": "stdout",
     "output_type": "stream",
     "text": [
      "<class 'pandas.core.frame.DataFrame'>\n",
      "RangeIndex: 269 entries, 0 to 268\n",
      "Data columns (total 16 columns):\n",
      " #   Column         Non-Null Count  Dtype \n",
      "---  ------         --------------  ----- \n",
      " 0   Series Name    266 non-null    object\n",
      " 1   Series Code    264 non-null    object\n",
      " 2   Country Name   264 non-null    object\n",
      " 3   Country Code   264 non-null    object\n",
      " 4   1990 [YR1990]  264 non-null    object\n",
      " 5   2000 [YR2000]  264 non-null    object\n",
      " 6   2011 [YR2011]  264 non-null    object\n",
      " 7   2012 [YR2012]  264 non-null    object\n",
      " 8   2013 [YR2013]  264 non-null    object\n",
      " 9   2014 [YR2014]  264 non-null    object\n",
      " 10  2015 [YR2015]  264 non-null    object\n",
      " 11  2016 [YR2016]  264 non-null    object\n",
      " 12  2017 [YR2017]  264 non-null    object\n",
      " 13  2018 [YR2018]  264 non-null    object\n",
      " 14  2019 [YR2019]  264 non-null    object\n",
      " 15  2020 [YR2020]  264 non-null    object\n",
      "dtypes: object(16)\n",
      "memory usage: 33.8+ KB\n"
     ]
    }
   ],
   "source": [
    "import pandas as pd\n",
    "\n",
    "# Cleaning csv Population data from https://datacatalog.worldbank.org\n",
    "# reading csv's into dataframes\n",
    "df_density = pd.read_csv('static/data/populationDensity.csv')\n",
    "# df_density =  clean_dataFrames(df_density, 14)\n",
    "df_density.info()"
   ]
  },
  {
   "cell_type": "code",
   "execution_count": null,
   "metadata": {},
   "outputs": [],
   "source": []
  }
 ],
 "metadata": {
  "hide_input": false,
  "kernelspec": {
   "display_name": "Python 3",
   "language": "python",
   "name": "python3"
  },
  "language_info": {
   "codemirror_mode": {
    "name": "ipython",
    "version": 3
   },
   "file_extension": ".py",
   "mimetype": "text/x-python",
   "name": "python",
   "nbconvert_exporter": "python",
   "pygments_lexer": "ipython3",
   "version": "3.7.9"
  },
  "toc": {
   "base_numbering": 1,
   "nav_menu": {},
   "number_sections": true,
   "sideBar": true,
   "skip_h1_title": false,
   "title_cell": "Table of Contents",
   "title_sidebar": "Contents",
   "toc_cell": false,
   "toc_position": {},
   "toc_section_display": true,
   "toc_window_display": false
  },
  "varInspector": {
   "cols": {
    "lenName": 16,
    "lenType": 16,
    "lenVar": 40
   },
   "kernels_config": {
    "python": {
     "delete_cmd_postfix": "",
     "delete_cmd_prefix": "del ",
     "library": "var_list.py",
     "varRefreshCmd": "print(var_dic_list())"
    },
    "r": {
     "delete_cmd_postfix": ") ",
     "delete_cmd_prefix": "rm(",
     "library": "var_list.r",
     "varRefreshCmd": "cat(var_dic_list()) "
    }
   },
   "types_to_exclude": [
    "module",
    "function",
    "builtin_function_or_method",
    "instance",
    "_Feature"
   ],
   "window_display": false
  }
 },
 "nbformat": 4,
 "nbformat_minor": 4
}
