{
 "metadata": {
  "language_info": {
   "codemirror_mode": {
    "name": "ipython",
    "version": 3
   },
   "file_extension": ".py",
   "mimetype": "text/x-python",
   "name": "python",
   "nbconvert_exporter": "python",
   "pygments_lexer": "ipython3",
   "version": "3.8.3-final"
  },
  "orig_nbformat": 2,
  "kernelspec": {
   "name": "python3",
   "display_name": "Python 3",
   "language": "python"
  }
 },
 "nbformat": 4,
 "nbformat_minor": 2,
 "cells": [
  {
   "cell_type": "code",
   "execution_count": 1,
   "metadata": {},
   "outputs": [],
   "source": [
    "import pandas as pd"
   ]
  },
  {
   "cell_type": "code",
   "execution_count": 2,
   "metadata": {},
   "outputs": [
    {
     "output_type": "execute_result",
     "data": {
      "text/plain": [
       "    cca2              name     pop2020      pop2019      pop2050      pop2030  \\\n",
       "0     CN             China  1442166775  1433783.686  1402405.170  1464340.159   \n",
       "1     IN             India  1387177258  1366417.754  1639176.033  1503642.322   \n",
       "2     US     United States   332041150   329064.917   379419.102   349641.876   \n",
       "3     ID         Indonesia   275056196   270625.568   330904.664   299198.430   \n",
       "4     PK          Pakistan   223154088   216565.318   338013.196   262958.794   \n",
       "..   ...               ...         ...          ...          ...          ...   \n",
       "227   MS        Montserrat        4992        4.989        4.153        4.763   \n",
       "228   FK  Falkland Islands        3480        3.377        3.243        3.436   \n",
       "229   NU              Niue        1626        1.615        1.778        1.664   \n",
       "230   TK           Tokelau        1357        1.340        1.565        1.448   \n",
       "231   VA      Vatican City         801        0.814        0.795        0.803   \n",
       "\n",
       "         pop2015      pop2010      pop2000      pop1990      pop1980  \\\n",
       "0    1406847.870  1368810.615  1290550.765  1176883.674  1000089.235   \n",
       "1    1310152.403  1234281.170  1056575.549   873277.798   698952.844   \n",
       "2     320878.310   309011.475   281710.909   252120.309   229476.354   \n",
       "3     258383.256   241834.215   211513.823   181413.402   147447.836   \n",
       "4     199426.964   179424.641   142343.578   107647.921    78054.343   \n",
       "..           ...          ...          ...          ...          ...   \n",
       "227        4.967        4.899        4.929       10.615       11.607   \n",
       "228        2.834        2.901        2.892        1.982        1.854   \n",
       "229        1.619        1.618        1.899        2.329        3.404   \n",
       "230        1.252        1.140        1.554        1.608        1.553   \n",
       "231        0.794        0.785        0.768        0.724        0.644   \n",
       "\n",
       "        pop1970     area   Density  GrowthRate  WorldPercentage   rank  \n",
       "0    827601.394  9706961  148.2775      1.0039           0.1847    1.0  \n",
       "1    555189.792  3287590  419.7617      1.0099           0.1770    2.0  \n",
       "2    209513.341  9372610   35.3160      1.0059           0.0425    3.0  \n",
       "3    114793.178  1904569  143.6144      1.0107           0.0351    4.0  \n",
       "4     58142.060   881912  250.4698      1.0200           0.0283    5.0  \n",
       "..          ...      ...       ...         ...              ...    ...  \n",
       "227      11.534      102   48.9412      1.0006           0.0000  228.0  \n",
       "228       1.992    12173    0.2859      1.0305           0.0000  229.0  \n",
       "229       5.135      260    6.2538      1.0068           0.0000  230.0  \n",
       "230       1.621       12  113.0833      1.0127           0.0000  231.0  \n",
       "231       1.000      801    1.0025      0.0000         232.0000    NaN  \n",
       "\n",
       "[232 rows x 17 columns]"
      ],
      "text/html": "<div>\n<style scoped>\n    .dataframe tbody tr th:only-of-type {\n        vertical-align: middle;\n    }\n\n    .dataframe tbody tr th {\n        vertical-align: top;\n    }\n\n    .dataframe thead th {\n        text-align: right;\n    }\n</style>\n<table border=\"1\" class=\"dataframe\">\n  <thead>\n    <tr style=\"text-align: right;\">\n      <th></th>\n      <th>cca2</th>\n      <th>name</th>\n      <th>pop2020</th>\n      <th>pop2019</th>\n      <th>pop2050</th>\n      <th>pop2030</th>\n      <th>pop2015</th>\n      <th>pop2010</th>\n      <th>pop2000</th>\n      <th>pop1990</th>\n      <th>pop1980</th>\n      <th>pop1970</th>\n      <th>area</th>\n      <th>Density</th>\n      <th>GrowthRate</th>\n      <th>WorldPercentage</th>\n      <th>rank</th>\n    </tr>\n  </thead>\n  <tbody>\n    <tr>\n      <th>0</th>\n      <td>CN</td>\n      <td>China</td>\n      <td>1442166775</td>\n      <td>1433783.686</td>\n      <td>1402405.170</td>\n      <td>1464340.159</td>\n      <td>1406847.870</td>\n      <td>1368810.615</td>\n      <td>1290550.765</td>\n      <td>1176883.674</td>\n      <td>1000089.235</td>\n      <td>827601.394</td>\n      <td>9706961</td>\n      <td>148.2775</td>\n      <td>1.0039</td>\n      <td>0.1847</td>\n      <td>1.0</td>\n    </tr>\n    <tr>\n      <th>1</th>\n      <td>IN</td>\n      <td>India</td>\n      <td>1387177258</td>\n      <td>1366417.754</td>\n      <td>1639176.033</td>\n      <td>1503642.322</td>\n      <td>1310152.403</td>\n      <td>1234281.170</td>\n      <td>1056575.549</td>\n      <td>873277.798</td>\n      <td>698952.844</td>\n      <td>555189.792</td>\n      <td>3287590</td>\n      <td>419.7617</td>\n      <td>1.0099</td>\n      <td>0.1770</td>\n      <td>2.0</td>\n    </tr>\n    <tr>\n      <th>2</th>\n      <td>US</td>\n      <td>United States</td>\n      <td>332041150</td>\n      <td>329064.917</td>\n      <td>379419.102</td>\n      <td>349641.876</td>\n      <td>320878.310</td>\n      <td>309011.475</td>\n      <td>281710.909</td>\n      <td>252120.309</td>\n      <td>229476.354</td>\n      <td>209513.341</td>\n      <td>9372610</td>\n      <td>35.3160</td>\n      <td>1.0059</td>\n      <td>0.0425</td>\n      <td>3.0</td>\n    </tr>\n    <tr>\n      <th>3</th>\n      <td>ID</td>\n      <td>Indonesia</td>\n      <td>275056196</td>\n      <td>270625.568</td>\n      <td>330904.664</td>\n      <td>299198.430</td>\n      <td>258383.256</td>\n      <td>241834.215</td>\n      <td>211513.823</td>\n      <td>181413.402</td>\n      <td>147447.836</td>\n      <td>114793.178</td>\n      <td>1904569</td>\n      <td>143.6144</td>\n      <td>1.0107</td>\n      <td>0.0351</td>\n      <td>4.0</td>\n    </tr>\n    <tr>\n      <th>4</th>\n      <td>PK</td>\n      <td>Pakistan</td>\n      <td>223154088</td>\n      <td>216565.318</td>\n      <td>338013.196</td>\n      <td>262958.794</td>\n      <td>199426.964</td>\n      <td>179424.641</td>\n      <td>142343.578</td>\n      <td>107647.921</td>\n      <td>78054.343</td>\n      <td>58142.060</td>\n      <td>881912</td>\n      <td>250.4698</td>\n      <td>1.0200</td>\n      <td>0.0283</td>\n      <td>5.0</td>\n    </tr>\n    <tr>\n      <th>...</th>\n      <td>...</td>\n      <td>...</td>\n      <td>...</td>\n      <td>...</td>\n      <td>...</td>\n      <td>...</td>\n      <td>...</td>\n      <td>...</td>\n      <td>...</td>\n      <td>...</td>\n      <td>...</td>\n      <td>...</td>\n      <td>...</td>\n      <td>...</td>\n      <td>...</td>\n      <td>...</td>\n      <td>...</td>\n    </tr>\n    <tr>\n      <th>227</th>\n      <td>MS</td>\n      <td>Montserrat</td>\n      <td>4992</td>\n      <td>4.989</td>\n      <td>4.153</td>\n      <td>4.763</td>\n      <td>4.967</td>\n      <td>4.899</td>\n      <td>4.929</td>\n      <td>10.615</td>\n      <td>11.607</td>\n      <td>11.534</td>\n      <td>102</td>\n      <td>48.9412</td>\n      <td>1.0006</td>\n      <td>0.0000</td>\n      <td>228.0</td>\n    </tr>\n    <tr>\n      <th>228</th>\n      <td>FK</td>\n      <td>Falkland Islands</td>\n      <td>3480</td>\n      <td>3.377</td>\n      <td>3.243</td>\n      <td>3.436</td>\n      <td>2.834</td>\n      <td>2.901</td>\n      <td>2.892</td>\n      <td>1.982</td>\n      <td>1.854</td>\n      <td>1.992</td>\n      <td>12173</td>\n      <td>0.2859</td>\n      <td>1.0305</td>\n      <td>0.0000</td>\n      <td>229.0</td>\n    </tr>\n    <tr>\n      <th>229</th>\n      <td>NU</td>\n      <td>Niue</td>\n      <td>1626</td>\n      <td>1.615</td>\n      <td>1.778</td>\n      <td>1.664</td>\n      <td>1.619</td>\n      <td>1.618</td>\n      <td>1.899</td>\n      <td>2.329</td>\n      <td>3.404</td>\n      <td>5.135</td>\n      <td>260</td>\n      <td>6.2538</td>\n      <td>1.0068</td>\n      <td>0.0000</td>\n      <td>230.0</td>\n    </tr>\n    <tr>\n      <th>230</th>\n      <td>TK</td>\n      <td>Tokelau</td>\n      <td>1357</td>\n      <td>1.340</td>\n      <td>1.565</td>\n      <td>1.448</td>\n      <td>1.252</td>\n      <td>1.140</td>\n      <td>1.554</td>\n      <td>1.608</td>\n      <td>1.553</td>\n      <td>1.621</td>\n      <td>12</td>\n      <td>113.0833</td>\n      <td>1.0127</td>\n      <td>0.0000</td>\n      <td>231.0</td>\n    </tr>\n    <tr>\n      <th>231</th>\n      <td>VA</td>\n      <td>Vatican City</td>\n      <td>801</td>\n      <td>0.814</td>\n      <td>0.795</td>\n      <td>0.803</td>\n      <td>0.794</td>\n      <td>0.785</td>\n      <td>0.768</td>\n      <td>0.724</td>\n      <td>0.644</td>\n      <td>1.000</td>\n      <td>801</td>\n      <td>1.0025</td>\n      <td>0.0000</td>\n      <td>232.0000</td>\n      <td>NaN</td>\n    </tr>\n  </tbody>\n</table>\n<p>232 rows × 17 columns</p>\n</div>"
     },
     "metadata": {},
     "execution_count": 2
    }
   ],
   "source": [
    "# assign the country csv file to a variable\n",
    "predict_path = ('../raw_data/country_prediction_raw.csv')\n",
    "\n",
    "# read the csv file\n",
    "country_predict = pd.read_csv(predict_path)\n",
    "country_predict"
   ]
  },
  {
   "cell_type": "code",
   "execution_count": 3,
   "metadata": {},
   "outputs": [],
   "source": [
    "# delete unecessary columns\n",
    "del country_predict['cca2'], country_predict['area'], country_predict['Density'], country_predict['GrowthRate'], country_predict['WorldPercentage'], country_predict['rank']"
   ]
  },
  {
   "cell_type": "code",
   "execution_count": 4,
   "metadata": {},
   "outputs": [
    {
     "output_type": "execute_result",
     "data": {
      "text/plain": [
       "                 name     pop2020      pop2019      pop2050      pop2030  \\\n",
       "0               China  1442166775  1433783.686  1402405.170  1464340.159   \n",
       "1               India  1387177258  1366417.754  1639176.033  1503642.322   \n",
       "2       United States   332041150   329064.917   379419.102   349641.876   \n",
       "3           Indonesia   275056196   270625.568   330904.664   299198.430   \n",
       "4            Pakistan   223154088   216565.318   338013.196   262958.794   \n",
       "..                ...         ...          ...          ...          ...   \n",
       "227        Montserrat        4992        4.989        4.153        4.763   \n",
       "228  Falkland Islands        3480        3.377        3.243        3.436   \n",
       "229              Niue        1626        1.615        1.778        1.664   \n",
       "230           Tokelau        1357        1.340        1.565        1.448   \n",
       "231      Vatican City         801        0.814        0.795        0.803   \n",
       "\n",
       "         pop2015      pop2010      pop2000      pop1990      pop1980  \\\n",
       "0    1406847.870  1368810.615  1290550.765  1176883.674  1000089.235   \n",
       "1    1310152.403  1234281.170  1056575.549   873277.798   698952.844   \n",
       "2     320878.310   309011.475   281710.909   252120.309   229476.354   \n",
       "3     258383.256   241834.215   211513.823   181413.402   147447.836   \n",
       "4     199426.964   179424.641   142343.578   107647.921    78054.343   \n",
       "..           ...          ...          ...          ...          ...   \n",
       "227        4.967        4.899        4.929       10.615       11.607   \n",
       "228        2.834        2.901        2.892        1.982        1.854   \n",
       "229        1.619        1.618        1.899        2.329        3.404   \n",
       "230        1.252        1.140        1.554        1.608        1.553   \n",
       "231        0.794        0.785        0.768        0.724        0.644   \n",
       "\n",
       "        pop1970  \n",
       "0    827601.394  \n",
       "1    555189.792  \n",
       "2    209513.341  \n",
       "3    114793.178  \n",
       "4     58142.060  \n",
       "..          ...  \n",
       "227      11.534  \n",
       "228       1.992  \n",
       "229       5.135  \n",
       "230       1.621  \n",
       "231       1.000  \n",
       "\n",
       "[232 rows x 11 columns]"
      ],
      "text/html": "<div>\n<style scoped>\n    .dataframe tbody tr th:only-of-type {\n        vertical-align: middle;\n    }\n\n    .dataframe tbody tr th {\n        vertical-align: top;\n    }\n\n    .dataframe thead th {\n        text-align: right;\n    }\n</style>\n<table border=\"1\" class=\"dataframe\">\n  <thead>\n    <tr style=\"text-align: right;\">\n      <th></th>\n      <th>name</th>\n      <th>pop2020</th>\n      <th>pop2019</th>\n      <th>pop2050</th>\n      <th>pop2030</th>\n      <th>pop2015</th>\n      <th>pop2010</th>\n      <th>pop2000</th>\n      <th>pop1990</th>\n      <th>pop1980</th>\n      <th>pop1970</th>\n    </tr>\n  </thead>\n  <tbody>\n    <tr>\n      <th>0</th>\n      <td>China</td>\n      <td>1442166775</td>\n      <td>1433783.686</td>\n      <td>1402405.170</td>\n      <td>1464340.159</td>\n      <td>1406847.870</td>\n      <td>1368810.615</td>\n      <td>1290550.765</td>\n      <td>1176883.674</td>\n      <td>1000089.235</td>\n      <td>827601.394</td>\n    </tr>\n    <tr>\n      <th>1</th>\n      <td>India</td>\n      <td>1387177258</td>\n      <td>1366417.754</td>\n      <td>1639176.033</td>\n      <td>1503642.322</td>\n      <td>1310152.403</td>\n      <td>1234281.170</td>\n      <td>1056575.549</td>\n      <td>873277.798</td>\n      <td>698952.844</td>\n      <td>555189.792</td>\n    </tr>\n    <tr>\n      <th>2</th>\n      <td>United States</td>\n      <td>332041150</td>\n      <td>329064.917</td>\n      <td>379419.102</td>\n      <td>349641.876</td>\n      <td>320878.310</td>\n      <td>309011.475</td>\n      <td>281710.909</td>\n      <td>252120.309</td>\n      <td>229476.354</td>\n      <td>209513.341</td>\n    </tr>\n    <tr>\n      <th>3</th>\n      <td>Indonesia</td>\n      <td>275056196</td>\n      <td>270625.568</td>\n      <td>330904.664</td>\n      <td>299198.430</td>\n      <td>258383.256</td>\n      <td>241834.215</td>\n      <td>211513.823</td>\n      <td>181413.402</td>\n      <td>147447.836</td>\n      <td>114793.178</td>\n    </tr>\n    <tr>\n      <th>4</th>\n      <td>Pakistan</td>\n      <td>223154088</td>\n      <td>216565.318</td>\n      <td>338013.196</td>\n      <td>262958.794</td>\n      <td>199426.964</td>\n      <td>179424.641</td>\n      <td>142343.578</td>\n      <td>107647.921</td>\n      <td>78054.343</td>\n      <td>58142.060</td>\n    </tr>\n    <tr>\n      <th>...</th>\n      <td>...</td>\n      <td>...</td>\n      <td>...</td>\n      <td>...</td>\n      <td>...</td>\n      <td>...</td>\n      <td>...</td>\n      <td>...</td>\n      <td>...</td>\n      <td>...</td>\n      <td>...</td>\n    </tr>\n    <tr>\n      <th>227</th>\n      <td>Montserrat</td>\n      <td>4992</td>\n      <td>4.989</td>\n      <td>4.153</td>\n      <td>4.763</td>\n      <td>4.967</td>\n      <td>4.899</td>\n      <td>4.929</td>\n      <td>10.615</td>\n      <td>11.607</td>\n      <td>11.534</td>\n    </tr>\n    <tr>\n      <th>228</th>\n      <td>Falkland Islands</td>\n      <td>3480</td>\n      <td>3.377</td>\n      <td>3.243</td>\n      <td>3.436</td>\n      <td>2.834</td>\n      <td>2.901</td>\n      <td>2.892</td>\n      <td>1.982</td>\n      <td>1.854</td>\n      <td>1.992</td>\n    </tr>\n    <tr>\n      <th>229</th>\n      <td>Niue</td>\n      <td>1626</td>\n      <td>1.615</td>\n      <td>1.778</td>\n      <td>1.664</td>\n      <td>1.619</td>\n      <td>1.618</td>\n      <td>1.899</td>\n      <td>2.329</td>\n      <td>3.404</td>\n      <td>5.135</td>\n    </tr>\n    <tr>\n      <th>230</th>\n      <td>Tokelau</td>\n      <td>1357</td>\n      <td>1.340</td>\n      <td>1.565</td>\n      <td>1.448</td>\n      <td>1.252</td>\n      <td>1.140</td>\n      <td>1.554</td>\n      <td>1.608</td>\n      <td>1.553</td>\n      <td>1.621</td>\n    </tr>\n    <tr>\n      <th>231</th>\n      <td>Vatican City</td>\n      <td>801</td>\n      <td>0.814</td>\n      <td>0.795</td>\n      <td>0.803</td>\n      <td>0.794</td>\n      <td>0.785</td>\n      <td>0.768</td>\n      <td>0.724</td>\n      <td>0.644</td>\n      <td>1.000</td>\n    </tr>\n  </tbody>\n</table>\n<p>232 rows × 11 columns</p>\n</div>"
     },
     "metadata": {},
     "execution_count": 4
    }
   ],
   "source": [
    "country_predict"
   ]
  },
  {
   "cell_type": "code",
   "execution_count": 5,
   "metadata": {},
   "outputs": [],
   "source": [
    "# rename the columns\n",
    "country_predict.rename(columns={\n",
    "    'name':'Country',\n",
    "    'pop2020':'2020',\n",
    "    'pop2019':'2019',\n",
    "    'pop2050':'2050',\n",
    "    'pop2030':'2030',\n",
    "    'pop2015':'2015',\n",
    "    'pop2010':'2010',\n",
    "    'pop2000':'2000',\n",
    "    'pop1990':'1990',\n",
    "    'pop1980':'1980',\n",
    "    'pop1970':'1970',\n",
    " },inplace=True)"
   ]
  },
  {
   "cell_type": "code",
   "execution_count": 6,
   "metadata": {},
   "outputs": [
    {
     "output_type": "execute_result",
     "data": {
      "text/plain": [
       "              Country        2020        2019        2050        2030  \\\n",
       "0               China  1442166775  1433783686  1402405170  1464340159   \n",
       "1               India  1387177258  1366417754  1639176033  1503642322   \n",
       "2       United States   332041150   329064917   379419102   349641876   \n",
       "3           Indonesia   275056196   270625568   330904664   299198430   \n",
       "4            Pakistan   223154088   216565318   338013196   262958794   \n",
       "..                ...         ...         ...         ...         ...   \n",
       "227        Montserrat        4992        4989        4153        4763   \n",
       "228  Falkland Islands        3480        3377        3243        3436   \n",
       "229              Niue        1626        1615        1778        1664   \n",
       "230           Tokelau        1357        1340        1565        1448   \n",
       "231      Vatican City         801         814         795         802   \n",
       "\n",
       "           2015        2010        2000        1990        1980       1970  \n",
       "0    1406847870  1368810615  1290550765  1176883674  1000089235  827601394  \n",
       "1    1310152403  1234281170  1056575549   873277798   698952844  555189792  \n",
       "2     320878310   309011475   281710909   252120308   229476354  209513341  \n",
       "3     258383256   241834215   211513823   181413402   147447836  114793178  \n",
       "4     199426963   179424641   142343578   107647921    78054343   58142060  \n",
       "..          ...         ...         ...         ...         ...        ...  \n",
       "227        4967        4899        4928       10615       11607      11534  \n",
       "228        2833        2901        2892        1982        1854       1992  \n",
       "229        1619        1618        1899        2329        3404       5135  \n",
       "230        1252        1140        1554        1608        1553       1621  \n",
       "231         794         785         768         724         644       1000  \n",
       "\n",
       "[232 rows x 11 columns]"
      ],
      "text/html": "<div>\n<style scoped>\n    .dataframe tbody tr th:only-of-type {\n        vertical-align: middle;\n    }\n\n    .dataframe tbody tr th {\n        vertical-align: top;\n    }\n\n    .dataframe thead th {\n        text-align: right;\n    }\n</style>\n<table border=\"1\" class=\"dataframe\">\n  <thead>\n    <tr style=\"text-align: right;\">\n      <th></th>\n      <th>Country</th>\n      <th>2020</th>\n      <th>2019</th>\n      <th>2050</th>\n      <th>2030</th>\n      <th>2015</th>\n      <th>2010</th>\n      <th>2000</th>\n      <th>1990</th>\n      <th>1980</th>\n      <th>1970</th>\n    </tr>\n  </thead>\n  <tbody>\n    <tr>\n      <th>0</th>\n      <td>China</td>\n      <td>1442166775</td>\n      <td>1433783686</td>\n      <td>1402405170</td>\n      <td>1464340159</td>\n      <td>1406847870</td>\n      <td>1368810615</td>\n      <td>1290550765</td>\n      <td>1176883674</td>\n      <td>1000089235</td>\n      <td>827601394</td>\n    </tr>\n    <tr>\n      <th>1</th>\n      <td>India</td>\n      <td>1387177258</td>\n      <td>1366417754</td>\n      <td>1639176033</td>\n      <td>1503642322</td>\n      <td>1310152403</td>\n      <td>1234281170</td>\n      <td>1056575549</td>\n      <td>873277798</td>\n      <td>698952844</td>\n      <td>555189792</td>\n    </tr>\n    <tr>\n      <th>2</th>\n      <td>United States</td>\n      <td>332041150</td>\n      <td>329064917</td>\n      <td>379419102</td>\n      <td>349641876</td>\n      <td>320878310</td>\n      <td>309011475</td>\n      <td>281710909</td>\n      <td>252120308</td>\n      <td>229476354</td>\n      <td>209513341</td>\n    </tr>\n    <tr>\n      <th>3</th>\n      <td>Indonesia</td>\n      <td>275056196</td>\n      <td>270625568</td>\n      <td>330904664</td>\n      <td>299198430</td>\n      <td>258383256</td>\n      <td>241834215</td>\n      <td>211513823</td>\n      <td>181413402</td>\n      <td>147447836</td>\n      <td>114793178</td>\n    </tr>\n    <tr>\n      <th>4</th>\n      <td>Pakistan</td>\n      <td>223154088</td>\n      <td>216565318</td>\n      <td>338013196</td>\n      <td>262958794</td>\n      <td>199426963</td>\n      <td>179424641</td>\n      <td>142343578</td>\n      <td>107647921</td>\n      <td>78054343</td>\n      <td>58142060</td>\n    </tr>\n    <tr>\n      <th>...</th>\n      <td>...</td>\n      <td>...</td>\n      <td>...</td>\n      <td>...</td>\n      <td>...</td>\n      <td>...</td>\n      <td>...</td>\n      <td>...</td>\n      <td>...</td>\n      <td>...</td>\n      <td>...</td>\n    </tr>\n    <tr>\n      <th>227</th>\n      <td>Montserrat</td>\n      <td>4992</td>\n      <td>4989</td>\n      <td>4153</td>\n      <td>4763</td>\n      <td>4967</td>\n      <td>4899</td>\n      <td>4928</td>\n      <td>10615</td>\n      <td>11607</td>\n      <td>11534</td>\n    </tr>\n    <tr>\n      <th>228</th>\n      <td>Falkland Islands</td>\n      <td>3480</td>\n      <td>3377</td>\n      <td>3243</td>\n      <td>3436</td>\n      <td>2833</td>\n      <td>2901</td>\n      <td>2892</td>\n      <td>1982</td>\n      <td>1854</td>\n      <td>1992</td>\n    </tr>\n    <tr>\n      <th>229</th>\n      <td>Niue</td>\n      <td>1626</td>\n      <td>1615</td>\n      <td>1778</td>\n      <td>1664</td>\n      <td>1619</td>\n      <td>1618</td>\n      <td>1899</td>\n      <td>2329</td>\n      <td>3404</td>\n      <td>5135</td>\n    </tr>\n    <tr>\n      <th>230</th>\n      <td>Tokelau</td>\n      <td>1357</td>\n      <td>1340</td>\n      <td>1565</td>\n      <td>1448</td>\n      <td>1252</td>\n      <td>1140</td>\n      <td>1554</td>\n      <td>1608</td>\n      <td>1553</td>\n      <td>1621</td>\n    </tr>\n    <tr>\n      <th>231</th>\n      <td>Vatican City</td>\n      <td>801</td>\n      <td>814</td>\n      <td>795</td>\n      <td>802</td>\n      <td>794</td>\n      <td>785</td>\n      <td>768</td>\n      <td>724</td>\n      <td>644</td>\n      <td>1000</td>\n    </tr>\n  </tbody>\n</table>\n<p>232 rows × 11 columns</p>\n</div>"
     },
     "metadata": {},
     "execution_count": 6
    }
   ],
   "source": [
    "# Correct the decimal positions\n",
    "country_predict['2019'] = (country_predict['2019'] * 1000).astype(int)\n",
    "country_predict['2050'] = (country_predict['2050'] * 1000).astype(int)\n",
    "country_predict['2030'] = (country_predict['2030'] * 1000).astype(int)\n",
    "country_predict['2015'] = (country_predict['2015'] * 1000).astype(int)\n",
    "country_predict['2010'] = (country_predict['2010'] * 1000).astype(int)\n",
    "country_predict['2000'] = (country_predict['2000'] * 1000).astype(int)\n",
    "country_predict['1990'] = (country_predict['1990'] * 1000).astype(int)\n",
    "country_predict['1980'] = (country_predict['1980'] * 1000).astype(int)\n",
    "country_predict['1970'] = (country_predict['1970'] * 1000).astype(int)\n",
    "country_predict"
   ]
  },
  {
   "cell_type": "code",
   "execution_count": 7,
   "metadata": {},
   "outputs": [
    {
     "output_type": "execute_result",
     "data": {
      "text/plain": [
       "                       1970        1980        1990        2000        2010  \\\n",
       "Country                                                                       \n",
       "China             827601394  1000089235  1176883674  1290550765  1368810615   \n",
       "India             555189792   698952844   873277798  1056575549  1234281170   \n",
       "United States     209513341   229476354   252120308   281710909   309011475   \n",
       "Indonesia         114793178   147447836   181413402   211513823   241834215   \n",
       "Pakistan           58142060    78054343   107647921   142343578   179424641   \n",
       "...                     ...         ...         ...         ...         ...   \n",
       "Montserrat            11534       11607       10615        4928        4899   \n",
       "Falkland Islands       1992        1854        1982        2892        2901   \n",
       "Niue                   5135        3404        2329        1899        1618   \n",
       "Tokelau                1621        1553        1608        1554        1140   \n",
       "Vatican City           1000         644         724         768         785   \n",
       "\n",
       "                        2015        2019        2020        2030        2050  \n",
       "Country                                                                       \n",
       "China             1406847870  1433783686  1442166775  1464340159  1402405170  \n",
       "India             1310152403  1366417754  1387177258  1503642322  1639176033  \n",
       "United States      320878310   329064917   332041150   349641876   379419102  \n",
       "Indonesia          258383256   270625568   275056196   299198430   330904664  \n",
       "Pakistan           199426963   216565318   223154088   262958794   338013196  \n",
       "...                      ...         ...         ...         ...         ...  \n",
       "Montserrat              4967        4989        4992        4763        4153  \n",
       "Falkland Islands        2833        3377        3480        3436        3243  \n",
       "Niue                    1619        1615        1626        1664        1778  \n",
       "Tokelau                 1252        1340        1357        1448        1565  \n",
       "Vatican City             794         814         801         802         795  \n",
       "\n",
       "[232 rows x 10 columns]"
      ],
      "text/html": "<div>\n<style scoped>\n    .dataframe tbody tr th:only-of-type {\n        vertical-align: middle;\n    }\n\n    .dataframe tbody tr th {\n        vertical-align: top;\n    }\n\n    .dataframe thead th {\n        text-align: right;\n    }\n</style>\n<table border=\"1\" class=\"dataframe\">\n  <thead>\n    <tr style=\"text-align: right;\">\n      <th></th>\n      <th>1970</th>\n      <th>1980</th>\n      <th>1990</th>\n      <th>2000</th>\n      <th>2010</th>\n      <th>2015</th>\n      <th>2019</th>\n      <th>2020</th>\n      <th>2030</th>\n      <th>2050</th>\n    </tr>\n    <tr>\n      <th>Country</th>\n      <th></th>\n      <th></th>\n      <th></th>\n      <th></th>\n      <th></th>\n      <th></th>\n      <th></th>\n      <th></th>\n      <th></th>\n      <th></th>\n    </tr>\n  </thead>\n  <tbody>\n    <tr>\n      <th>China</th>\n      <td>827601394</td>\n      <td>1000089235</td>\n      <td>1176883674</td>\n      <td>1290550765</td>\n      <td>1368810615</td>\n      <td>1406847870</td>\n      <td>1433783686</td>\n      <td>1442166775</td>\n      <td>1464340159</td>\n      <td>1402405170</td>\n    </tr>\n    <tr>\n      <th>India</th>\n      <td>555189792</td>\n      <td>698952844</td>\n      <td>873277798</td>\n      <td>1056575549</td>\n      <td>1234281170</td>\n      <td>1310152403</td>\n      <td>1366417754</td>\n      <td>1387177258</td>\n      <td>1503642322</td>\n      <td>1639176033</td>\n    </tr>\n    <tr>\n      <th>United States</th>\n      <td>209513341</td>\n      <td>229476354</td>\n      <td>252120308</td>\n      <td>281710909</td>\n      <td>309011475</td>\n      <td>320878310</td>\n      <td>329064917</td>\n      <td>332041150</td>\n      <td>349641876</td>\n      <td>379419102</td>\n    </tr>\n    <tr>\n      <th>Indonesia</th>\n      <td>114793178</td>\n      <td>147447836</td>\n      <td>181413402</td>\n      <td>211513823</td>\n      <td>241834215</td>\n      <td>258383256</td>\n      <td>270625568</td>\n      <td>275056196</td>\n      <td>299198430</td>\n      <td>330904664</td>\n    </tr>\n    <tr>\n      <th>Pakistan</th>\n      <td>58142060</td>\n      <td>78054343</td>\n      <td>107647921</td>\n      <td>142343578</td>\n      <td>179424641</td>\n      <td>199426963</td>\n      <td>216565318</td>\n      <td>223154088</td>\n      <td>262958794</td>\n      <td>338013196</td>\n    </tr>\n    <tr>\n      <th>...</th>\n      <td>...</td>\n      <td>...</td>\n      <td>...</td>\n      <td>...</td>\n      <td>...</td>\n      <td>...</td>\n      <td>...</td>\n      <td>...</td>\n      <td>...</td>\n      <td>...</td>\n    </tr>\n    <tr>\n      <th>Montserrat</th>\n      <td>11534</td>\n      <td>11607</td>\n      <td>10615</td>\n      <td>4928</td>\n      <td>4899</td>\n      <td>4967</td>\n      <td>4989</td>\n      <td>4992</td>\n      <td>4763</td>\n      <td>4153</td>\n    </tr>\n    <tr>\n      <th>Falkland Islands</th>\n      <td>1992</td>\n      <td>1854</td>\n      <td>1982</td>\n      <td>2892</td>\n      <td>2901</td>\n      <td>2833</td>\n      <td>3377</td>\n      <td>3480</td>\n      <td>3436</td>\n      <td>3243</td>\n    </tr>\n    <tr>\n      <th>Niue</th>\n      <td>5135</td>\n      <td>3404</td>\n      <td>2329</td>\n      <td>1899</td>\n      <td>1618</td>\n      <td>1619</td>\n      <td>1615</td>\n      <td>1626</td>\n      <td>1664</td>\n      <td>1778</td>\n    </tr>\n    <tr>\n      <th>Tokelau</th>\n      <td>1621</td>\n      <td>1553</td>\n      <td>1608</td>\n      <td>1554</td>\n      <td>1140</td>\n      <td>1252</td>\n      <td>1340</td>\n      <td>1357</td>\n      <td>1448</td>\n      <td>1565</td>\n    </tr>\n    <tr>\n      <th>Vatican City</th>\n      <td>1000</td>\n      <td>644</td>\n      <td>724</td>\n      <td>768</td>\n      <td>785</td>\n      <td>794</td>\n      <td>814</td>\n      <td>801</td>\n      <td>802</td>\n      <td>795</td>\n    </tr>\n  </tbody>\n</table>\n<p>232 rows × 10 columns</p>\n</div>"
     },
     "metadata": {},
     "execution_count": 7
    }
   ],
   "source": [
    "# Re-arrange the columns\n",
    "country_predict = country_predict[['Country', '1970', '1980', '1990', '2000', '2010', '2015', '2019', '2020', '2030' , '2050']]\n",
    "country_predict.set_index(\"Country\", inplace = True)\n",
    "country_predict"
   ]
  },
  {
   "cell_type": "code",
   "execution_count": 8,
   "metadata": {},
   "outputs": [],
   "source": [
    "# export the population_ratio to a csv file\n",
    "country_predict.to_csv(\"../clean_data/country_prediction.csv\")"
   ]
  },
  {
   "cell_type": "code",
   "execution_count": 9,
   "metadata": {},
   "outputs": [
    {
     "output_type": "execute_result",
     "data": {
      "text/plain": [
       "                    1970        1980        1990        2000        2010  \\\n",
       "Country                                                                    \n",
       "China          827601394  1000089235  1176883674  1290550765  1368810615   \n",
       "India          555189792   698952844   873277798  1056575549  1234281170   \n",
       "United States  209513341   229476354   252120308   281710909   309011475   \n",
       "Indonesia      114793178   147447836   181413402   211513823   241834215   \n",
       "Pakistan        58142060    78054343   107647921   142343578   179424641   \n",
       "Brazil          95113265   120694009   149003223   174790340   195713635   \n",
       "Nigeria         55982144    73423633    95212450   122283850   158503197   \n",
       "Bangladesh      64232482    79639491   103171955   127657854   147575430   \n",
       "Russia         130148653   138053150   147531561   146404903   143479274   \n",
       "Mexico          51493565    67761372    83943132    98899845   114092963   \n",
       "\n",
       "                     2015        2019        2020        2030        2050  \n",
       "Country                                                                    \n",
       "China          1406847870  1433783686  1442166775  1464340159  1402405170  \n",
       "India          1310152403  1366417754  1387177258  1503642322  1639176033  \n",
       "United States   320878310   329064917   332041150   349641876   379419102  \n",
       "Indonesia       258383256   270625568   275056196   299198430   330904664  \n",
       "Pakistan        199426963   216565318   223154088   262958794   338013196  \n",
       "Brazil          204471768   211049527   213344896   223852122   228980400  \n",
       "Nigeria         181137448   200963599   208873242   262977337   401315000  \n",
       "Bangladesh      156256275   163046161   165549495   178993868   192567778  \n",
       "Russia          144985057   145872256   145960882   143347515   135824481  \n",
       "Mexico          121858258   127575529   129649385   140875762   155150818  "
      ],
      "text/html": "<div>\n<style scoped>\n    .dataframe tbody tr th:only-of-type {\n        vertical-align: middle;\n    }\n\n    .dataframe tbody tr th {\n        vertical-align: top;\n    }\n\n    .dataframe thead th {\n        text-align: right;\n    }\n</style>\n<table border=\"1\" class=\"dataframe\">\n  <thead>\n    <tr style=\"text-align: right;\">\n      <th></th>\n      <th>1970</th>\n      <th>1980</th>\n      <th>1990</th>\n      <th>2000</th>\n      <th>2010</th>\n      <th>2015</th>\n      <th>2019</th>\n      <th>2020</th>\n      <th>2030</th>\n      <th>2050</th>\n    </tr>\n    <tr>\n      <th>Country</th>\n      <th></th>\n      <th></th>\n      <th></th>\n      <th></th>\n      <th></th>\n      <th></th>\n      <th></th>\n      <th></th>\n      <th></th>\n      <th></th>\n    </tr>\n  </thead>\n  <tbody>\n    <tr>\n      <th>China</th>\n      <td>827601394</td>\n      <td>1000089235</td>\n      <td>1176883674</td>\n      <td>1290550765</td>\n      <td>1368810615</td>\n      <td>1406847870</td>\n      <td>1433783686</td>\n      <td>1442166775</td>\n      <td>1464340159</td>\n      <td>1402405170</td>\n    </tr>\n    <tr>\n      <th>India</th>\n      <td>555189792</td>\n      <td>698952844</td>\n      <td>873277798</td>\n      <td>1056575549</td>\n      <td>1234281170</td>\n      <td>1310152403</td>\n      <td>1366417754</td>\n      <td>1387177258</td>\n      <td>1503642322</td>\n      <td>1639176033</td>\n    </tr>\n    <tr>\n      <th>United States</th>\n      <td>209513341</td>\n      <td>229476354</td>\n      <td>252120308</td>\n      <td>281710909</td>\n      <td>309011475</td>\n      <td>320878310</td>\n      <td>329064917</td>\n      <td>332041150</td>\n      <td>349641876</td>\n      <td>379419102</td>\n    </tr>\n    <tr>\n      <th>Indonesia</th>\n      <td>114793178</td>\n      <td>147447836</td>\n      <td>181413402</td>\n      <td>211513823</td>\n      <td>241834215</td>\n      <td>258383256</td>\n      <td>270625568</td>\n      <td>275056196</td>\n      <td>299198430</td>\n      <td>330904664</td>\n    </tr>\n    <tr>\n      <th>Pakistan</th>\n      <td>58142060</td>\n      <td>78054343</td>\n      <td>107647921</td>\n      <td>142343578</td>\n      <td>179424641</td>\n      <td>199426963</td>\n      <td>216565318</td>\n      <td>223154088</td>\n      <td>262958794</td>\n      <td>338013196</td>\n    </tr>\n    <tr>\n      <th>Brazil</th>\n      <td>95113265</td>\n      <td>120694009</td>\n      <td>149003223</td>\n      <td>174790340</td>\n      <td>195713635</td>\n      <td>204471768</td>\n      <td>211049527</td>\n      <td>213344896</td>\n      <td>223852122</td>\n      <td>228980400</td>\n    </tr>\n    <tr>\n      <th>Nigeria</th>\n      <td>55982144</td>\n      <td>73423633</td>\n      <td>95212450</td>\n      <td>122283850</td>\n      <td>158503197</td>\n      <td>181137448</td>\n      <td>200963599</td>\n      <td>208873242</td>\n      <td>262977337</td>\n      <td>401315000</td>\n    </tr>\n    <tr>\n      <th>Bangladesh</th>\n      <td>64232482</td>\n      <td>79639491</td>\n      <td>103171955</td>\n      <td>127657854</td>\n      <td>147575430</td>\n      <td>156256275</td>\n      <td>163046161</td>\n      <td>165549495</td>\n      <td>178993868</td>\n      <td>192567778</td>\n    </tr>\n    <tr>\n      <th>Russia</th>\n      <td>130148653</td>\n      <td>138053150</td>\n      <td>147531561</td>\n      <td>146404903</td>\n      <td>143479274</td>\n      <td>144985057</td>\n      <td>145872256</td>\n      <td>145960882</td>\n      <td>143347515</td>\n      <td>135824481</td>\n    </tr>\n    <tr>\n      <th>Mexico</th>\n      <td>51493565</td>\n      <td>67761372</td>\n      <td>83943132</td>\n      <td>98899845</td>\n      <td>114092963</td>\n      <td>121858258</td>\n      <td>127575529</td>\n      <td>129649385</td>\n      <td>140875762</td>\n      <td>155150818</td>\n    </tr>\n  </tbody>\n</table>\n</div>"
     },
     "metadata": {},
     "execution_count": 9
    }
   ],
   "source": [
    "# Get the top 10 countries\n",
    "top10_country_predict = country_predict.copy()\n",
    "top10_country_predict.head(10)"
   ]
  },
  {
   "cell_type": "code",
   "execution_count": 10,
   "metadata": {},
   "outputs": [],
   "source": [
    "# export the population_ratio to a csv file\n",
    "country_predict.to_csv(\"../clean_data/top10_country_prediction.csv\")"
   ]
  },
  {
   "cell_type": "code",
   "execution_count": null,
   "metadata": {},
   "outputs": [],
   "source": []
  }
 ]
}